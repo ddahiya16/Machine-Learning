{
 "cells": [
  {
   "cell_type": "markdown",
   "metadata": {},
   "source": [
    "#### Exam description\n",
    "For this exam, you will predict the target values for the test.csv. \n",
    "\n",
    "#### Your task:\n",
    "find a good machine learning model to predict the target value. Then predict the target values of the instances in the test.csv. \n",
    "\n",
    "#### Exam rules\n",
    "- You can use only the machine learning models discussed in this course. \n",
    "    - If the prediction is based on a model that is not discussed in class, one of the models in your submission will randomly be selected for grading. \n",
    "- Fifty percent of the grade is based on your Python code submission. The other 50 percent of your grade is based on the evaluation score of the prediction. \n",
    "- The exam should be syntax error-free. Run your code before the final submission. \n",
    "- Save the final prediction array as ``final_test_prediction``. \n",
    "- <font color = 'red'> The final prediction will be evaluated using the **recall** function. </font>\n",
    "\n",
    "#### Devliverable\n",
    "Submit ONLY the iPython notebook or the .py file of your work. Use the following frame for your submission. Please don't remove the headers in the following structure. \n",
    "\n",
    "#### Rubric\n",
    "| Descriptio | Fair | Good | excelent |\n",
    "|:-----------|:------|:------|:----------|\n",
    "|Preprocessing|Demonstrate limited understanding of preprocessing steps | Demonstrate a moderate ability to find a way to apply the preprocessing step to prepare the dataset for Machine learning models | Demonstrate the ability to choose the appropriate preprocessing model to prepare the dataset |\n",
    "|Machine learning model | Demonstrate limited understanding of methods used to train machine learning models | Demonstrate the ability to understand techniques used to train machine learning models with some effectiveness. This includes optimization algorithms, initialization, regularization, and hyperparameter search methods | Demonstrate ability to understand and apply various algorithms as well as initialization, regularization, and hyperparameter search methods |\n",
    "|Final prediction |Demonstrate limited understanding of strategies to structure and end to end machine learning project | Demonstrate ability to understand classic ML strategies such as error analysis, data split, data collection and evaluation metric selection with some effectiveness | Demonstrates ability to structure the project and apply methods such as error analysis, data split, data collection, design a labeling process and select proper evaluation metrics to improve performance.\n",
    "\n",
    "#### Dataset\n",
    "This data was collected via a survey on Amazon Mechanical Turk. The survey describes different driving scenarios including the destination, current time, weather, passenger, etc., and then ask the person whether he will accept the coupon if he is the driver. For more information about the dataset, please refer to the paper:\n",
    "Wang, Tong, Cynthia Rudin, Finale Doshi-Velez, Yimin Liu, Erica Klampfl, and Perry MacNeille. 'A bayesian framework for learning rule sets for interpretable classification.' The Journal of Machine Learning Research 18, no. 1 (2017): 2357-2393.\n",
    "\n",
    "\n",
    "#### Attribute Information:\n",
    "\n",
    "* destination: No Urgent Place, Home, Work\n",
    "* passanger: Alone, Friend(s), Kid(s), Partner (who are the passengers in the car)\n",
    "* weather: Sunny, Rainy, Snowy\n",
    "* temperature:55, 80, 30\n",
    "* time: 2PM, 10AM, 6PM, 7AM, 10PM\n",
    "* coupon: Restaurant(<$\\$$20), Coffee House, Carry out & Take away, Bar, Restaurant($\\$$20-$\\$$50)\n",
    "* expiration: 1d, 2h (the coupon expires in 1 day or in 2 hours)\n",
    "* gender: Female, Male\n",
    "* age: 21, 46, 26, 31, 41, 50plus, 36, below21\n",
    "* maritalStatus: Unmarried partner, Single, Married partner, Divorced, Widowed\n",
    "* has_Children:1, 0\n",
    "* education: Some college - no degree, Bachelors degree, Associates degree, High School Graduate, Graduate degree (Masters or Doctorate), Some High School\n",
    "* occupation: Unemployed, Architecture & Engineering, Student, Education&Training&Library, Healthcare Support, Healthcare Practitioners & Technical, Sales & Related, Management, Arts Design Entertainment Sports & Media, Computer & Mathematical, Life Physical Social Science, Personal Care & Service, Community & Social Services, Office & Administrative Support, Construction & Extraction, Legal, Retired, Installation Maintenance & Repair, Transportation & Material Moving, Business & Financial, Protective Service, Food Preparation & Serving Related, Production Occupations, Building & Grounds Cleaning & Maintenance, Farming Fishing & Forestry\n",
    "* income: $\\$$37500 - $\\$$49999, $\\$$62500 - $\\$$74999, $\\$$12500 - $\\$$24999, $\\$$75000 - $\\$$87499, $\\$$50000 - $\\$$62499, $\\$$25000 - $\\$$37499, $\\$$100000 or More, $\\$$87500 - $\\$$99999, Less than $\\$$12500\n",
    "* Bar: never, less1, 1\\~3, gt8, nan, 4\\~8 (feature meaning: how many times do you go to a bar every month?)\n",
    "* CoffeeHouse: never, less1, 4\\~8, 1\\~3, gt8, nan (feature meaning: how many times do you go to a coffeehouse every month?)\n",
    "* CarryAway:n4\\~8, 1\\~3, gt8, less1, never (feature meaning: how many times do you get take-away food every month?)\n",
    "* RestaurantLessThan20: 4\\~8, 1\\~3, less1, gt8, never (feature meaning: how many times do you go to a restaurant with an average expense per person of less than $\\$$20 every month?)\n",
    "* Restaurant20To50: 1\\~3, less1, never, gt8, 4\\~8, nan (feature meaning: how many times do you go to a restaurant with average expense per person of $\\$$20 - $\\$$50 every month?)\n",
    "* toCoupon_GEQ15min:0,1 (feature meaning: driving distance to the restaurant/bar for using the coupon is greater than 15 minutes)\n",
    "* toCoupon_GEQ25min:0, 1 (feature meaning: driving distance to the restaurant/bar for using the coupon is greater than 25 minutes)\n",
    "* direction_same:0, 1 (feature meaning: whether the restaurant/bar is in the same direction as your current destination)\n",
    "* direction_opp:1, 0 (feature meaning: whether the restaurant/bar is in the same direction as your current destination)\n",
    "* Y:1, 0 (whether the coupon is accepted)"
   ]
  },
  {
   "cell_type": "markdown",
   "metadata": {},
   "source": [
    "## Libraries"
   ]
  },
  {
   "cell_type": "code",
   "execution_count": 1217,
   "metadata": {},
   "outputs": [],
   "source": [
    "import warnings\n",
    "warnings.filterwarnings(\"ignore\")\n",
    "\n",
    "import os\n",
    "import numpy as np\n",
    "import pandas as pd\n",
    "import seaborn as sns\n",
    "import matplotlib.pyplot as plt\n",
    "import operator\n",
    "import random\n",
    "\n",
    "from tqdm import tqdm\n",
    "\n",
    "from mlxtend.plotting import plot_confusion_matrix\n",
    "from sklearn.multiclass import OneVsRestClassifier\n",
    "from sklearn.model_selection import GridSearchCV, RandomizedSearchCV\n",
    "from sklearn.model_selection import train_test_split, KFold, StratifiedKFold\n",
    "from sklearn.metrics import f1_score, precision_score, recall_score, confusion_matrix\n",
    "from sklearn.metrics import plot_roc_curve, plot_precision_recall_curve\n",
    "from sklearn.metrics import accuracy_score, auc, classification_report, log_loss, roc_auc_score, roc_curve\n",
    "from sklearn.preprocessing import LabelEncoder, OneHotEncoder, OrdinalEncoder, MinMaxScaler, StandardScaler\n",
    "##knn\n",
    "from sklearn.neighbors import KNeighborsClassifier\n",
    "##support vector machine\n",
    "from sklearn.svm import LinearSVC, NuSVC, SVC\n",
    "##Linear model method\n",
    "from sklearn.linear_model import LogisticRegression, SGDClassifier\n",
    "##tree based method\n",
    "from sklearn.tree import DecisionTreeClassifier, ExtraTreeClassifier\n",
    "##ensamble method\n",
    "from sklearn.ensemble import RandomForestClassifier, ExtraTreesClassifier\n",
    "from sklearn.ensemble import RandomTreesEmbedding, StackingClassifier, VotingClassifier\n",
    "from sklearn.ensemble import AdaBoostClassifier, BaggingClassifier, GradientBoostingClassifier\n",
    "#pca\n",
    "from sklearn.decomposition import PCA, IncrementalPCA\n",
    "\n",
    "from prettytable import PrettyTable"
   ]
  },
  {
   "cell_type": "markdown",
   "metadata": {},
   "source": [
    "# Preprocessing ``train.csv`` (15 points)"
   ]
  },
  {
   "cell_type": "code",
   "execution_count": 1218,
   "metadata": {},
   "outputs": [],
   "source": [
    "df_train = pd.read_csv('train.csv')"
   ]
  },
  {
   "cell_type": "code",
   "execution_count": 1219,
   "metadata": {},
   "outputs": [
    {
     "data": {
      "text/html": [
       "<div>\n",
       "<style scoped>\n",
       "    .dataframe tbody tr th:only-of-type {\n",
       "        vertical-align: middle;\n",
       "    }\n",
       "\n",
       "    .dataframe tbody tr th {\n",
       "        vertical-align: top;\n",
       "    }\n",
       "\n",
       "    .dataframe thead th {\n",
       "        text-align: right;\n",
       "    }\n",
       "</style>\n",
       "<table border=\"1\" class=\"dataframe\">\n",
       "  <thead>\n",
       "    <tr style=\"text-align: right;\">\n",
       "      <th></th>\n",
       "      <th>destination</th>\n",
       "      <th>passanger</th>\n",
       "      <th>weather</th>\n",
       "      <th>temperature</th>\n",
       "      <th>time</th>\n",
       "      <th>coupon</th>\n",
       "      <th>expiration</th>\n",
       "      <th>gender</th>\n",
       "      <th>age</th>\n",
       "      <th>maritalStatus</th>\n",
       "      <th>...</th>\n",
       "      <th>CoffeeHouse</th>\n",
       "      <th>CarryAway</th>\n",
       "      <th>RestaurantLessThan20</th>\n",
       "      <th>Restaurant20To50</th>\n",
       "      <th>toCoupon_GEQ5min</th>\n",
       "      <th>toCoupon_GEQ15min</th>\n",
       "      <th>toCoupon_GEQ25min</th>\n",
       "      <th>direction_same</th>\n",
       "      <th>direction_opp</th>\n",
       "      <th>Y</th>\n",
       "    </tr>\n",
       "  </thead>\n",
       "  <tbody>\n",
       "    <tr>\n",
       "      <th>0</th>\n",
       "      <td>No Urgent Place</td>\n",
       "      <td>Partner</td>\n",
       "      <td>Sunny</td>\n",
       "      <td>30.0</td>\n",
       "      <td>10AM</td>\n",
       "      <td>Bar</td>\n",
       "      <td>1d</td>\n",
       "      <td>Female</td>\n",
       "      <td>50plus</td>\n",
       "      <td>Single</td>\n",
       "      <td>...</td>\n",
       "      <td>1~3</td>\n",
       "      <td>less1</td>\n",
       "      <td>1~3</td>\n",
       "      <td>less1</td>\n",
       "      <td>1</td>\n",
       "      <td>1</td>\n",
       "      <td>0</td>\n",
       "      <td>0</td>\n",
       "      <td>1</td>\n",
       "      <td>0</td>\n",
       "    </tr>\n",
       "    <tr>\n",
       "      <th>1</th>\n",
       "      <td>Home</td>\n",
       "      <td>Alone</td>\n",
       "      <td>Sunny</td>\n",
       "      <td>80.0</td>\n",
       "      <td>6PM</td>\n",
       "      <td>Coffee House</td>\n",
       "      <td>2h</td>\n",
       "      <td>Female</td>\n",
       "      <td>26</td>\n",
       "      <td>Unmarried partner</td>\n",
       "      <td>...</td>\n",
       "      <td>less1</td>\n",
       "      <td>1~3</td>\n",
       "      <td>less1</td>\n",
       "      <td>1~3</td>\n",
       "      <td>1</td>\n",
       "      <td>0</td>\n",
       "      <td>0</td>\n",
       "      <td>0</td>\n",
       "      <td>1</td>\n",
       "      <td>1</td>\n",
       "    </tr>\n",
       "    <tr>\n",
       "      <th>2</th>\n",
       "      <td>Work</td>\n",
       "      <td>Alone</td>\n",
       "      <td>Sunny</td>\n",
       "      <td>55.0</td>\n",
       "      <td>7AM</td>\n",
       "      <td>Restaurant(&lt;20)</td>\n",
       "      <td>1d</td>\n",
       "      <td>Male</td>\n",
       "      <td>50plus</td>\n",
       "      <td>Single</td>\n",
       "      <td>...</td>\n",
       "      <td>never</td>\n",
       "      <td>1~3</td>\n",
       "      <td>4~8</td>\n",
       "      <td>1~3</td>\n",
       "      <td>1</td>\n",
       "      <td>0</td>\n",
       "      <td>0</td>\n",
       "      <td>0</td>\n",
       "      <td>1</td>\n",
       "      <td>1</td>\n",
       "    </tr>\n",
       "    <tr>\n",
       "      <th>3</th>\n",
       "      <td>No Urgent Place</td>\n",
       "      <td>Kid(s)</td>\n",
       "      <td>Sunny</td>\n",
       "      <td>80.0</td>\n",
       "      <td>10AM</td>\n",
       "      <td>Bar</td>\n",
       "      <td>1d</td>\n",
       "      <td>Female</td>\n",
       "      <td>NaN</td>\n",
       "      <td>Married partner</td>\n",
       "      <td>...</td>\n",
       "      <td>less1</td>\n",
       "      <td>4~8</td>\n",
       "      <td>1~3</td>\n",
       "      <td>less1</td>\n",
       "      <td>1</td>\n",
       "      <td>1</td>\n",
       "      <td>0</td>\n",
       "      <td>0</td>\n",
       "      <td>1</td>\n",
       "      <td>0</td>\n",
       "    </tr>\n",
       "    <tr>\n",
       "      <th>4</th>\n",
       "      <td>No Urgent Place</td>\n",
       "      <td>Friend(s)</td>\n",
       "      <td>Sunny</td>\n",
       "      <td>30.0</td>\n",
       "      <td>10PM</td>\n",
       "      <td>Restaurant(&lt;20)</td>\n",
       "      <td>2h</td>\n",
       "      <td>Male</td>\n",
       "      <td>26</td>\n",
       "      <td>Married partner</td>\n",
       "      <td>...</td>\n",
       "      <td>1~3</td>\n",
       "      <td>1~3</td>\n",
       "      <td>4~8</td>\n",
       "      <td>4~8</td>\n",
       "      <td>1</td>\n",
       "      <td>0</td>\n",
       "      <td>0</td>\n",
       "      <td>0</td>\n",
       "      <td>1</td>\n",
       "      <td>1</td>\n",
       "    </tr>\n",
       "  </tbody>\n",
       "</table>\n",
       "<p>5 rows × 26 columns</p>\n",
       "</div>"
      ],
      "text/plain": [
       "       destination  passanger weather  temperature  time           coupon  \\\n",
       "0  No Urgent Place    Partner   Sunny         30.0  10AM              Bar   \n",
       "1             Home      Alone   Sunny         80.0   6PM     Coffee House   \n",
       "2             Work      Alone   Sunny         55.0   7AM  Restaurant(<20)   \n",
       "3  No Urgent Place     Kid(s)   Sunny         80.0  10AM              Bar   \n",
       "4  No Urgent Place  Friend(s)   Sunny         30.0  10PM  Restaurant(<20)   \n",
       "\n",
       "  expiration  gender     age      maritalStatus  ...  CoffeeHouse CarryAway  \\\n",
       "0         1d  Female  50plus             Single  ...          1~3     less1   \n",
       "1         2h  Female      26  Unmarried partner  ...        less1       1~3   \n",
       "2         1d    Male  50plus             Single  ...        never       1~3   \n",
       "3         1d  Female     NaN    Married partner  ...        less1       4~8   \n",
       "4         2h    Male      26    Married partner  ...          1~3       1~3   \n",
       "\n",
       "  RestaurantLessThan20 Restaurant20To50 toCoupon_GEQ5min toCoupon_GEQ15min  \\\n",
       "0                  1~3            less1                1                 1   \n",
       "1                less1              1~3                1                 0   \n",
       "2                  4~8              1~3                1                 0   \n",
       "3                  1~3            less1                1                 1   \n",
       "4                  4~8              4~8                1                 0   \n",
       "\n",
       "  toCoupon_GEQ25min direction_same direction_opp  Y  \n",
       "0                 0              0             1  0  \n",
       "1                 0              0             1  1  \n",
       "2                 0              0             1  1  \n",
       "3                 0              0             1  0  \n",
       "4                 0              0             1  1  \n",
       "\n",
       "[5 rows x 26 columns]"
      ]
     },
     "execution_count": 1219,
     "metadata": {},
     "output_type": "execute_result"
    }
   ],
   "source": [
    "df_train.head()"
   ]
  },
  {
   "cell_type": "code",
   "execution_count": 1220,
   "metadata": {},
   "outputs": [
    {
     "data": {
      "text/html": [
       "<div>\n",
       "<style scoped>\n",
       "    .dataframe tbody tr th:only-of-type {\n",
       "        vertical-align: middle;\n",
       "    }\n",
       "\n",
       "    .dataframe tbody tr th {\n",
       "        vertical-align: top;\n",
       "    }\n",
       "\n",
       "    .dataframe thead th {\n",
       "        text-align: right;\n",
       "    }\n",
       "</style>\n",
       "<table border=\"1\" class=\"dataframe\">\n",
       "  <thead>\n",
       "    <tr style=\"text-align: right;\">\n",
       "      <th></th>\n",
       "      <th>destination</th>\n",
       "      <th>passanger</th>\n",
       "      <th>weather</th>\n",
       "      <th>temperature</th>\n",
       "      <th>time</th>\n",
       "      <th>coupon</th>\n",
       "      <th>expiration</th>\n",
       "      <th>gender</th>\n",
       "      <th>age</th>\n",
       "      <th>maritalStatus</th>\n",
       "      <th>...</th>\n",
       "      <th>CoffeeHouse</th>\n",
       "      <th>CarryAway</th>\n",
       "      <th>RestaurantLessThan20</th>\n",
       "      <th>Restaurant20To50</th>\n",
       "      <th>toCoupon_GEQ5min</th>\n",
       "      <th>toCoupon_GEQ15min</th>\n",
       "      <th>toCoupon_GEQ25min</th>\n",
       "      <th>direction_same</th>\n",
       "      <th>direction_opp</th>\n",
       "      <th>Y</th>\n",
       "    </tr>\n",
       "  </thead>\n",
       "  <tbody>\n",
       "    <tr>\n",
       "      <th>2373</th>\n",
       "      <td>Work</td>\n",
       "      <td>Alone</td>\n",
       "      <td>Snowy</td>\n",
       "      <td>30.0</td>\n",
       "      <td>7AM</td>\n",
       "      <td>Restaurant(20-50)</td>\n",
       "      <td>1d</td>\n",
       "      <td>Female</td>\n",
       "      <td>50plus</td>\n",
       "      <td>Married partner</td>\n",
       "      <td>...</td>\n",
       "      <td>4~8</td>\n",
       "      <td>NaN</td>\n",
       "      <td>4~8</td>\n",
       "      <td>4~8</td>\n",
       "      <td>1</td>\n",
       "      <td>1</td>\n",
       "      <td>1</td>\n",
       "      <td>0</td>\n",
       "      <td>1</td>\n",
       "      <td>1</td>\n",
       "    </tr>\n",
       "    <tr>\n",
       "      <th>2374</th>\n",
       "      <td>No Urgent Place</td>\n",
       "      <td>Alone</td>\n",
       "      <td>Rainy</td>\n",
       "      <td>55.0</td>\n",
       "      <td>10AM</td>\n",
       "      <td>Bar</td>\n",
       "      <td>1d</td>\n",
       "      <td>Male</td>\n",
       "      <td>50plus</td>\n",
       "      <td>Married partner</td>\n",
       "      <td>...</td>\n",
       "      <td>1~3</td>\n",
       "      <td>1~3</td>\n",
       "      <td>1~3</td>\n",
       "      <td>less1</td>\n",
       "      <td>1</td>\n",
       "      <td>1</td>\n",
       "      <td>0</td>\n",
       "      <td>0</td>\n",
       "      <td>1</td>\n",
       "      <td>1</td>\n",
       "    </tr>\n",
       "    <tr>\n",
       "      <th>2375</th>\n",
       "      <td>Work</td>\n",
       "      <td>Alone</td>\n",
       "      <td>Sunny</td>\n",
       "      <td>55.0</td>\n",
       "      <td>7AM</td>\n",
       "      <td>Bar</td>\n",
       "      <td>1d</td>\n",
       "      <td>Male</td>\n",
       "      <td>26</td>\n",
       "      <td>Unmarried partner</td>\n",
       "      <td>...</td>\n",
       "      <td>4~8</td>\n",
       "      <td>gt8</td>\n",
       "      <td>1~3</td>\n",
       "      <td>1~3</td>\n",
       "      <td>1</td>\n",
       "      <td>1</td>\n",
       "      <td>1</td>\n",
       "      <td>0</td>\n",
       "      <td>1</td>\n",
       "      <td>0</td>\n",
       "    </tr>\n",
       "    <tr>\n",
       "      <th>2376</th>\n",
       "      <td>Work</td>\n",
       "      <td>Alone</td>\n",
       "      <td>Sunny</td>\n",
       "      <td>80.0</td>\n",
       "      <td>7AM</td>\n",
       "      <td>Coffee House</td>\n",
       "      <td>2h</td>\n",
       "      <td>Female</td>\n",
       "      <td>41</td>\n",
       "      <td>Married partner</td>\n",
       "      <td>...</td>\n",
       "      <td>1~3</td>\n",
       "      <td>4~8</td>\n",
       "      <td>gt8</td>\n",
       "      <td>less1</td>\n",
       "      <td>1</td>\n",
       "      <td>1</td>\n",
       "      <td>0</td>\n",
       "      <td>1</td>\n",
       "      <td>0</td>\n",
       "      <td>1</td>\n",
       "    </tr>\n",
       "    <tr>\n",
       "      <th>2377</th>\n",
       "      <td>Home</td>\n",
       "      <td>Alone</td>\n",
       "      <td>Sunny</td>\n",
       "      <td>80.0</td>\n",
       "      <td>6PM</td>\n",
       "      <td>Coffee House</td>\n",
       "      <td>2h</td>\n",
       "      <td>Male</td>\n",
       "      <td>36</td>\n",
       "      <td>Married partner</td>\n",
       "      <td>...</td>\n",
       "      <td>never</td>\n",
       "      <td>4~8</td>\n",
       "      <td>4~8</td>\n",
       "      <td>1~3</td>\n",
       "      <td>1</td>\n",
       "      <td>0</td>\n",
       "      <td>0</td>\n",
       "      <td>0</td>\n",
       "      <td>1</td>\n",
       "      <td>0</td>\n",
       "    </tr>\n",
       "  </tbody>\n",
       "</table>\n",
       "<p>5 rows × 26 columns</p>\n",
       "</div>"
      ],
      "text/plain": [
       "          destination passanger weather  temperature  time             coupon  \\\n",
       "2373             Work     Alone   Snowy         30.0   7AM  Restaurant(20-50)   \n",
       "2374  No Urgent Place     Alone   Rainy         55.0  10AM                Bar   \n",
       "2375             Work     Alone   Sunny         55.0   7AM                Bar   \n",
       "2376             Work     Alone   Sunny         80.0   7AM       Coffee House   \n",
       "2377             Home     Alone   Sunny         80.0   6PM       Coffee House   \n",
       "\n",
       "     expiration  gender     age      maritalStatus  ...  CoffeeHouse  \\\n",
       "2373         1d  Female  50plus    Married partner  ...          4~8   \n",
       "2374         1d    Male  50plus    Married partner  ...          1~3   \n",
       "2375         1d    Male      26  Unmarried partner  ...          4~8   \n",
       "2376         2h  Female      41    Married partner  ...          1~3   \n",
       "2377         2h    Male      36    Married partner  ...        never   \n",
       "\n",
       "     CarryAway RestaurantLessThan20 Restaurant20To50 toCoupon_GEQ5min  \\\n",
       "2373       NaN                  4~8              4~8                1   \n",
       "2374       1~3                  1~3            less1                1   \n",
       "2375       gt8                  1~3              1~3                1   \n",
       "2376       4~8                  gt8            less1                1   \n",
       "2377       4~8                  4~8              1~3                1   \n",
       "\n",
       "     toCoupon_GEQ15min toCoupon_GEQ25min direction_same direction_opp  Y  \n",
       "2373                 1                 1              0             1  1  \n",
       "2374                 1                 0              0             1  1  \n",
       "2375                 1                 1              0             1  0  \n",
       "2376                 1                 0              1             0  1  \n",
       "2377                 0                 0              0             1  0  \n",
       "\n",
       "[5 rows x 26 columns]"
      ]
     },
     "execution_count": 1220,
     "metadata": {},
     "output_type": "execute_result"
    }
   ],
   "source": [
    "df_train.tail()"
   ]
  },
  {
   "cell_type": "markdown",
   "metadata": {},
   "source": [
    "Dataset's Shape"
   ]
  },
  {
   "cell_type": "code",
   "execution_count": 1221,
   "metadata": {},
   "outputs": [
    {
     "name": "stdout",
     "output_type": "stream",
     "text": [
      "Total Number of Columns:  26\n",
      "Total Number of Rows:  2378\n"
     ]
    }
   ],
   "source": [
    "print(\"Total Number of Columns: \", df_train.shape[1])\n",
    "print(\"Total Number of Rows: \", df_train.shape[0])"
   ]
  },
  {
   "cell_type": "markdown",
   "metadata": {},
   "source": [
    "General information about dataset"
   ]
  },
  {
   "cell_type": "code",
   "execution_count": 1222,
   "metadata": {},
   "outputs": [
    {
     "name": "stdout",
     "output_type": "stream",
     "text": [
      "<class 'pandas.core.frame.DataFrame'>\n",
      "RangeIndex: 2378 entries, 0 to 2377\n",
      "Data columns (total 26 columns):\n",
      " #   Column                Non-Null Count  Dtype  \n",
      "---  ------                --------------  -----  \n",
      " 0   destination           2378 non-null   object \n",
      " 1   passanger             2378 non-null   object \n",
      " 2   weather               2331 non-null   object \n",
      " 3   temperature           2344 non-null   float64\n",
      " 4   time                  2378 non-null   object \n",
      " 5   coupon                2378 non-null   object \n",
      " 6   expiration            2378 non-null   object \n",
      " 7   gender                2329 non-null   object \n",
      " 8   age                   2326 non-null   object \n",
      " 9   maritalStatus         2378 non-null   object \n",
      " 10  has_children          2332 non-null   float64\n",
      " 11  education             2378 non-null   object \n",
      " 12  occupation            2378 non-null   object \n",
      " 13  income                2378 non-null   object \n",
      " 14  car                   16 non-null     object \n",
      " 15  Bar                   2358 non-null   object \n",
      " 16  CoffeeHouse           2338 non-null   object \n",
      " 17  CarryAway             2355 non-null   object \n",
      " 18  RestaurantLessThan20  2352 non-null   object \n",
      " 19  Restaurant20To50      2351 non-null   object \n",
      " 20  toCoupon_GEQ5min      2378 non-null   int64  \n",
      " 21  toCoupon_GEQ15min     2378 non-null   int64  \n",
      " 22  toCoupon_GEQ25min     2378 non-null   int64  \n",
      " 23  direction_same        2378 non-null   int64  \n",
      " 24  direction_opp         2378 non-null   int64  \n",
      " 25  Y                     2378 non-null   int64  \n",
      "dtypes: float64(2), int64(6), object(18)\n",
      "memory usage: 483.2+ KB\n"
     ]
    }
   ],
   "source": [
    "df_train.info()"
   ]
  },
  {
   "cell_type": "markdown",
   "metadata": {},
   "source": [
    "We can see that there are some null values in the dataset."
   ]
  },
  {
   "cell_type": "code",
   "execution_count": 1223,
   "metadata": {},
   "outputs": [
    {
     "name": "stdout",
     "output_type": "stream",
     "text": [
      "Total number of Null Values:  2726\n"
     ]
    }
   ],
   "source": [
    "print(\"Total number of Null Values: \", df_train.isnull().sum().sum())"
   ]
  },
  {
   "cell_type": "markdown",
   "metadata": {},
   "source": [
    "Various descriptive statistics on the DataFrame"
   ]
  },
  {
   "cell_type": "code",
   "execution_count": 1224,
   "metadata": {},
   "outputs": [
    {
     "data": {
      "text/html": [
       "<div>\n",
       "<style scoped>\n",
       "    .dataframe tbody tr th:only-of-type {\n",
       "        vertical-align: middle;\n",
       "    }\n",
       "\n",
       "    .dataframe tbody tr th {\n",
       "        vertical-align: top;\n",
       "    }\n",
       "\n",
       "    .dataframe thead th {\n",
       "        text-align: right;\n",
       "    }\n",
       "</style>\n",
       "<table border=\"1\" class=\"dataframe\">\n",
       "  <thead>\n",
       "    <tr style=\"text-align: right;\">\n",
       "      <th></th>\n",
       "      <th>temperature</th>\n",
       "      <th>has_children</th>\n",
       "      <th>toCoupon_GEQ5min</th>\n",
       "      <th>toCoupon_GEQ15min</th>\n",
       "      <th>toCoupon_GEQ25min</th>\n",
       "      <th>direction_same</th>\n",
       "      <th>direction_opp</th>\n",
       "      <th>Y</th>\n",
       "    </tr>\n",
       "  </thead>\n",
       "  <tbody>\n",
       "    <tr>\n",
       "      <th>count</th>\n",
       "      <td>2344.000000</td>\n",
       "      <td>2332.000000</td>\n",
       "      <td>2378.0</td>\n",
       "      <td>2378.000000</td>\n",
       "      <td>2378.000000</td>\n",
       "      <td>2378.000000</td>\n",
       "      <td>2378.000000</td>\n",
       "      <td>2378.000000</td>\n",
       "    </tr>\n",
       "    <tr>\n",
       "      <th>mean</th>\n",
       "      <td>86.248294</td>\n",
       "      <td>0.419811</td>\n",
       "      <td>1.0</td>\n",
       "      <td>0.560555</td>\n",
       "      <td>0.112279</td>\n",
       "      <td>0.224138</td>\n",
       "      <td>0.775862</td>\n",
       "      <td>0.558873</td>\n",
       "    </tr>\n",
       "    <tr>\n",
       "      <th>std</th>\n",
       "      <td>147.929170</td>\n",
       "      <td>0.493634</td>\n",
       "      <td>0.0</td>\n",
       "      <td>0.496424</td>\n",
       "      <td>0.315776</td>\n",
       "      <td>0.417101</td>\n",
       "      <td>0.417101</td>\n",
       "      <td>0.496626</td>\n",
       "    </tr>\n",
       "    <tr>\n",
       "      <th>min</th>\n",
       "      <td>30.000000</td>\n",
       "      <td>0.000000</td>\n",
       "      <td>1.0</td>\n",
       "      <td>0.000000</td>\n",
       "      <td>0.000000</td>\n",
       "      <td>0.000000</td>\n",
       "      <td>0.000000</td>\n",
       "      <td>0.000000</td>\n",
       "    </tr>\n",
       "    <tr>\n",
       "      <th>25%</th>\n",
       "      <td>55.000000</td>\n",
       "      <td>0.000000</td>\n",
       "      <td>1.0</td>\n",
       "      <td>0.000000</td>\n",
       "      <td>0.000000</td>\n",
       "      <td>0.000000</td>\n",
       "      <td>1.000000</td>\n",
       "      <td>0.000000</td>\n",
       "    </tr>\n",
       "    <tr>\n",
       "      <th>50%</th>\n",
       "      <td>80.000000</td>\n",
       "      <td>0.000000</td>\n",
       "      <td>1.0</td>\n",
       "      <td>1.000000</td>\n",
       "      <td>0.000000</td>\n",
       "      <td>0.000000</td>\n",
       "      <td>1.000000</td>\n",
       "      <td>1.000000</td>\n",
       "    </tr>\n",
       "    <tr>\n",
       "      <th>75%</th>\n",
       "      <td>80.000000</td>\n",
       "      <td>1.000000</td>\n",
       "      <td>1.0</td>\n",
       "      <td>1.000000</td>\n",
       "      <td>0.000000</td>\n",
       "      <td>0.000000</td>\n",
       "      <td>1.000000</td>\n",
       "      <td>1.000000</td>\n",
       "    </tr>\n",
       "    <tr>\n",
       "      <th>max</th>\n",
       "      <td>999.000000</td>\n",
       "      <td>1.000000</td>\n",
       "      <td>1.0</td>\n",
       "      <td>1.000000</td>\n",
       "      <td>1.000000</td>\n",
       "      <td>1.000000</td>\n",
       "      <td>1.000000</td>\n",
       "      <td>1.000000</td>\n",
       "    </tr>\n",
       "  </tbody>\n",
       "</table>\n",
       "</div>"
      ],
      "text/plain": [
       "       temperature  has_children  toCoupon_GEQ5min  toCoupon_GEQ15min  \\\n",
       "count  2344.000000   2332.000000            2378.0        2378.000000   \n",
       "mean     86.248294      0.419811               1.0           0.560555   \n",
       "std     147.929170      0.493634               0.0           0.496424   \n",
       "min      30.000000      0.000000               1.0           0.000000   \n",
       "25%      55.000000      0.000000               1.0           0.000000   \n",
       "50%      80.000000      0.000000               1.0           1.000000   \n",
       "75%      80.000000      1.000000               1.0           1.000000   \n",
       "max     999.000000      1.000000               1.0           1.000000   \n",
       "\n",
       "       toCoupon_GEQ25min  direction_same  direction_opp            Y  \n",
       "count        2378.000000     2378.000000    2378.000000  2378.000000  \n",
       "mean            0.112279        0.224138       0.775862     0.558873  \n",
       "std             0.315776        0.417101       0.417101     0.496626  \n",
       "min             0.000000        0.000000       0.000000     0.000000  \n",
       "25%             0.000000        0.000000       1.000000     0.000000  \n",
       "50%             0.000000        0.000000       1.000000     1.000000  \n",
       "75%             0.000000        0.000000       1.000000     1.000000  \n",
       "max             1.000000        1.000000       1.000000     1.000000  "
      ]
     },
     "execution_count": 1224,
     "metadata": {},
     "output_type": "execute_result"
    }
   ],
   "source": [
    "df_train.describe()"
   ]
  },
  {
   "cell_type": "markdown",
   "metadata": {},
   "source": [
    "### Corrrelation Matrix"
   ]
  },
  {
   "cell_type": "code",
   "execution_count": 1225,
   "metadata": {},
   "outputs": [
    {
     "data": {
      "text/html": [
       "<div>\n",
       "<style scoped>\n",
       "    .dataframe tbody tr th:only-of-type {\n",
       "        vertical-align: middle;\n",
       "    }\n",
       "\n",
       "    .dataframe tbody tr th {\n",
       "        vertical-align: top;\n",
       "    }\n",
       "\n",
       "    .dataframe thead th {\n",
       "        text-align: right;\n",
       "    }\n",
       "</style>\n",
       "<table border=\"1\" class=\"dataframe\">\n",
       "  <thead>\n",
       "    <tr style=\"text-align: right;\">\n",
       "      <th></th>\n",
       "      <th>temperature</th>\n",
       "      <th>has_children</th>\n",
       "      <th>toCoupon_GEQ5min</th>\n",
       "      <th>toCoupon_GEQ15min</th>\n",
       "      <th>toCoupon_GEQ25min</th>\n",
       "      <th>direction_same</th>\n",
       "      <th>direction_opp</th>\n",
       "      <th>Y</th>\n",
       "    </tr>\n",
       "  </thead>\n",
       "  <tbody>\n",
       "    <tr>\n",
       "      <th>temperature</th>\n",
       "      <td>1.000000</td>\n",
       "      <td>-0.001727</td>\n",
       "      <td>NaN</td>\n",
       "      <td>-0.020064</td>\n",
       "      <td>-0.017403</td>\n",
       "      <td>0.010645</td>\n",
       "      <td>-0.010645</td>\n",
       "      <td>-0.035763</td>\n",
       "    </tr>\n",
       "    <tr>\n",
       "      <th>has_children</th>\n",
       "      <td>-0.001727</td>\n",
       "      <td>1.000000</td>\n",
       "      <td>NaN</td>\n",
       "      <td>0.067060</td>\n",
       "      <td>-0.024737</td>\n",
       "      <td>-0.023718</td>\n",
       "      <td>0.023718</td>\n",
       "      <td>-0.058716</td>\n",
       "    </tr>\n",
       "    <tr>\n",
       "      <th>toCoupon_GEQ5min</th>\n",
       "      <td>NaN</td>\n",
       "      <td>NaN</td>\n",
       "      <td>NaN</td>\n",
       "      <td>NaN</td>\n",
       "      <td>NaN</td>\n",
       "      <td>NaN</td>\n",
       "      <td>NaN</td>\n",
       "      <td>NaN</td>\n",
       "    </tr>\n",
       "    <tr>\n",
       "      <th>toCoupon_GEQ15min</th>\n",
       "      <td>-0.020064</td>\n",
       "      <td>0.067060</td>\n",
       "      <td>NaN</td>\n",
       "      <td>1.000000</td>\n",
       "      <td>0.314887</td>\n",
       "      <td>-0.306343</td>\n",
       "      <td>0.306343</td>\n",
       "      <td>-0.064806</td>\n",
       "    </tr>\n",
       "    <tr>\n",
       "      <th>toCoupon_GEQ25min</th>\n",
       "      <td>-0.017403</td>\n",
       "      <td>-0.024737</td>\n",
       "      <td>NaN</td>\n",
       "      <td>0.314887</td>\n",
       "      <td>1.000000</td>\n",
       "      <td>-0.191151</td>\n",
       "      <td>0.191151</td>\n",
       "      <td>-0.091797</td>\n",
       "    </tr>\n",
       "    <tr>\n",
       "      <th>direction_same</th>\n",
       "      <td>0.010645</td>\n",
       "      <td>-0.023718</td>\n",
       "      <td>NaN</td>\n",
       "      <td>-0.306343</td>\n",
       "      <td>-0.191151</td>\n",
       "      <td>1.000000</td>\n",
       "      <td>-1.000000</td>\n",
       "      <td>0.012431</td>\n",
       "    </tr>\n",
       "    <tr>\n",
       "      <th>direction_opp</th>\n",
       "      <td>-0.010645</td>\n",
       "      <td>0.023718</td>\n",
       "      <td>NaN</td>\n",
       "      <td>0.306343</td>\n",
       "      <td>0.191151</td>\n",
       "      <td>-1.000000</td>\n",
       "      <td>1.000000</td>\n",
       "      <td>-0.012431</td>\n",
       "    </tr>\n",
       "    <tr>\n",
       "      <th>Y</th>\n",
       "      <td>-0.035763</td>\n",
       "      <td>-0.058716</td>\n",
       "      <td>NaN</td>\n",
       "      <td>-0.064806</td>\n",
       "      <td>-0.091797</td>\n",
       "      <td>0.012431</td>\n",
       "      <td>-0.012431</td>\n",
       "      <td>1.000000</td>\n",
       "    </tr>\n",
       "  </tbody>\n",
       "</table>\n",
       "</div>"
      ],
      "text/plain": [
       "                   temperature  has_children  toCoupon_GEQ5min  \\\n",
       "temperature           1.000000     -0.001727               NaN   \n",
       "has_children         -0.001727      1.000000               NaN   \n",
       "toCoupon_GEQ5min           NaN           NaN               NaN   \n",
       "toCoupon_GEQ15min    -0.020064      0.067060               NaN   \n",
       "toCoupon_GEQ25min    -0.017403     -0.024737               NaN   \n",
       "direction_same        0.010645     -0.023718               NaN   \n",
       "direction_opp        -0.010645      0.023718               NaN   \n",
       "Y                    -0.035763     -0.058716               NaN   \n",
       "\n",
       "                   toCoupon_GEQ15min  toCoupon_GEQ25min  direction_same  \\\n",
       "temperature                -0.020064          -0.017403        0.010645   \n",
       "has_children                0.067060          -0.024737       -0.023718   \n",
       "toCoupon_GEQ5min                 NaN                NaN             NaN   \n",
       "toCoupon_GEQ15min           1.000000           0.314887       -0.306343   \n",
       "toCoupon_GEQ25min           0.314887           1.000000       -0.191151   \n",
       "direction_same             -0.306343          -0.191151        1.000000   \n",
       "direction_opp               0.306343           0.191151       -1.000000   \n",
       "Y                          -0.064806          -0.091797        0.012431   \n",
       "\n",
       "                   direction_opp         Y  \n",
       "temperature            -0.010645 -0.035763  \n",
       "has_children            0.023718 -0.058716  \n",
       "toCoupon_GEQ5min             NaN       NaN  \n",
       "toCoupon_GEQ15min       0.306343 -0.064806  \n",
       "toCoupon_GEQ25min       0.191151 -0.091797  \n",
       "direction_same         -1.000000  0.012431  \n",
       "direction_opp           1.000000 -0.012431  \n",
       "Y                      -0.012431  1.000000  "
      ]
     },
     "execution_count": 1225,
     "metadata": {},
     "output_type": "execute_result"
    }
   ],
   "source": [
    "cor_mat = df_train.corr() \n",
    "cor_mat"
   ]
  },
  {
   "cell_type": "code",
   "execution_count": 1226,
   "metadata": {},
   "outputs": [
    {
     "data": {
      "text/plain": [
       "<function matplotlib.pyplot.show(close=None, block=None)>"
      ]
     },
     "execution_count": 1226,
     "metadata": {},
     "output_type": "execute_result"
    },
    {
     "data": {
      "image/png": "[encoded data removed]",
      "text/plain": [
       "<Figure size 1440x1080 with 2 Axes>"
      ]
     },
     "metadata": {
      "needs_background": "light"
     },
     "output_type": "display_data"
    }
   ],
   "source": [
    "plt.figure(figsize=(20,15))\n",
    "sns.heatmap(cor_mat, vmin = -1, vmax = 1, cmap= \"seismic\")\n",
    "plt.gca().patch.set(hatch = \"df\", edgecolor = \"#555\")\n",
    "plt.show"
   ]
  },
  {
   "cell_type": "markdown",
   "metadata": {},
   "source": [
    "### Box Plots of Numerical Variables"
   ]
  },
  {
   "cell_type": "code",
   "execution_count": 1227,
   "metadata": {},
   "outputs": [
    {
     "data": {
      "image/png": "[encoded data removed]",
      "text/plain": [
       "<Figure size 2160x720 with 7 Axes>"
      ]
     },
     "metadata": {
      "needs_background": "light"
     },
     "output_type": "display_data"
    }
   ],
   "source": [
    "fig, axes = plt.subplots(ncols=7, figsize=(30,10))\n",
    "box_plot1 = sns.boxplot(df_train['temperature'], ax=axes[0], color = 'orange')\n",
    "box_plot2 = sns.boxplot(df_train['has_children'], ax=axes[1], color = 'blue')\n",
    "box_plot3 = sns.boxplot(df_train['toCoupon_GEQ5min'], ax=axes[2], color = 'Yellow')\n",
    "box_plot4 = sns.boxplot(df_train['toCoupon_GEQ15min'], ax=axes[3], color = 'Gray')\n",
    "box_plot5 = sns.boxplot(df_train['toCoupon_GEQ25min'], ax=axes[4], color = 'green')\n",
    "box_plot6 = sns.boxplot(df_train['direction_same'], ax=axes[5], color = 'green')\n",
    "box_plot7 = sns.boxplot(df_train['direction_opp'], ax=axes[6], color = 'maroon')\n",
    "\n",
    "plt.show()"
   ]
  },
  {
   "cell_type": "markdown",
   "metadata": {},
   "source": [
    "### Handling Individual Features"
   ]
  },
  {
   "cell_type": "markdown",
   "metadata": {},
   "source": [
    "#### Feature: Target Variable(Y)"
   ]
  },
  {
   "cell_type": "code",
   "execution_count": 1228,
   "metadata": {},
   "outputs": [
    {
     "name": "stdout",
     "output_type": "stream",
     "text": [
      "Variable Statistics: \n"
     ]
    },
    {
     "data": {
      "text/plain": [
       "count    2378.000000\n",
       "mean        0.558873\n",
       "std         0.496626\n",
       "min         0.000000\n",
       "25%         0.000000\n",
       "50%         1.000000\n",
       "75%         1.000000\n",
       "max         1.000000\n",
       "Name: Y, dtype: float64"
      ]
     },
     "execution_count": 1228,
     "metadata": {},
     "output_type": "execute_result"
    }
   ],
   "source": [
    "print(\"Variable Statistics: \")\n",
    "df_train['Y'].describe()"
   ]
  },
  {
   "cell_type": "code",
   "execution_count": 1229,
   "metadata": {},
   "outputs": [
    {
     "name": "stdout",
     "output_type": "stream",
     "text": [
      "Total number of null values: 0\n"
     ]
    }
   ],
   "source": [
    "print(\"Total number of null values:\", df_train['Y'].isnull().sum())"
   ]
  },
  {
   "cell_type": "code",
   "execution_count": 1230,
   "metadata": {},
   "outputs": [
    {
     "data": {
      "text/plain": [
       "<AxesSubplot:>"
      ]
     },
     "execution_count": 1230,
     "metadata": {},
     "output_type": "execute_result"
    },
    {
     "data": {
      "image/png": "[encoded data removed]",
      "text/plain": [
       "<Figure size 432x288 with 1 Axes>"
      ]
     },
     "metadata": {
      "needs_background": "light"
     },
     "output_type": "display_data"
    }
   ],
   "source": [
    "df_train['Y'].hist(bins=3)"
   ]
  },
  {
   "cell_type": "markdown",
   "metadata": {},
   "source": [
    "#### Feature: Destination"
   ]
  },
  {
   "cell_type": "code",
   "execution_count": 1231,
   "metadata": {},
   "outputs": [
    {
     "name": "stdout",
     "output_type": "stream",
     "text": [
      "Variable Statistics: \n"
     ]
    },
    {
     "data": {
      "text/plain": [
       "count                2378\n",
       "unique                  3\n",
       "top       No Urgent Place\n",
       "freq                 1175\n",
       "Name: destination, dtype: object"
      ]
     },
     "execution_count": 1231,
     "metadata": {},
     "output_type": "execute_result"
    }
   ],
   "source": [
    "print(\"Variable Statistics: \")\n",
    "df_train['destination'].describe()"
   ]
  },
  {
   "cell_type": "code",
   "execution_count": 1232,
   "metadata": {},
   "outputs": [
    {
     "name": "stdout",
     "output_type": "stream",
     "text": [
      "Total number of null values: 0\n"
     ]
    }
   ],
   "source": [
    "print(\"Total number of null values:\", df_train['destination'].isnull().sum())"
   ]
  },
  {
   "cell_type": "code",
   "execution_count": 1233,
   "metadata": {},
   "outputs": [
    {
     "data": {
      "text/plain": [
       "<AxesSubplot:>"
      ]
     },
     "execution_count": 1233,
     "metadata": {},
     "output_type": "execute_result"
    },
    {
     "data": {
      "image/png": "[encoded data removed]",
      "text/plain": [
       "<Figure size 432x288 with 1 Axes>"
      ]
     },
     "metadata": {
      "needs_background": "light"
     },
     "output_type": "display_data"
    }
   ],
   "source": [
    "df_train['destination'].hist()"
   ]
  },
  {
   "cell_type": "markdown",
   "metadata": {},
   "source": [
    "We replace the column Destination with dummy variables."
   ]
  },
  {
   "cell_type": "code",
   "execution_count": 1234,
   "metadata": {},
   "outputs": [],
   "source": [
    "cols = pd.get_dummies(df_train['destination'], prefix= 'destination')\n",
    "df_train[cols.columns] = cols\n",
    "df_train.drop('destination', axis = 1, inplace = True)"
   ]
  },
  {
   "cell_type": "markdown",
   "metadata": {},
   "source": [
    "#### Feature: Passanger"
   ]
  },
  {
   "cell_type": "code",
   "execution_count": 1235,
   "metadata": {},
   "outputs": [
    {
     "name": "stdout",
     "output_type": "stream",
     "text": [
      "Variable Statistics: \n"
     ]
    },
    {
     "data": {
      "text/plain": [
       "count      2378\n",
       "unique        4\n",
       "top       Alone\n",
       "freq       1398\n",
       "Name: passanger, dtype: object"
      ]
     },
     "execution_count": 1235,
     "metadata": {},
     "output_type": "execute_result"
    }
   ],
   "source": [
    "print(\"Variable Statistics: \")\n",
    "df_train['passanger'].describe()"
   ]
  },
  {
   "cell_type": "code",
   "execution_count": 1236,
   "metadata": {},
   "outputs": [
    {
     "name": "stdout",
     "output_type": "stream",
     "text": [
      "Total number of null values: 0\n"
     ]
    }
   ],
   "source": [
    "print(\"Total number of null values:\", df_train['passanger'].isnull().sum())"
   ]
  },
  {
   "cell_type": "code",
   "execution_count": 1237,
   "metadata": {},
   "outputs": [
    {
     "data": {
      "text/plain": [
       "<AxesSubplot:>"
      ]
     },
     "execution_count": 1237,
     "metadata": {},
     "output_type": "execute_result"
    },
    {
     "data": {
      "image/png": "[encoded data removed]",
      "text/plain": [
       "<Figure size 432x288 with 1 Axes>"
      ]
     },
     "metadata": {
      "needs_background": "light"
     },
     "output_type": "display_data"
    }
   ],
   "source": [
    "df_train['passanger'].hist()"
   ]
  },
  {
   "cell_type": "markdown",
   "metadata": {},
   "source": [
    "We replace the column Passanger with dummy variables."
   ]
  },
  {
   "cell_type": "code",
   "execution_count": 1238,
   "metadata": {},
   "outputs": [],
   "source": [
    "cols = pd.get_dummies(df_train['passanger'], prefix= 'passanger')\n",
    "df_train[cols.columns] = cols\n",
    "df_train.drop('passanger', axis = 1, inplace = True)"
   ]
  },
  {
   "cell_type": "markdown",
   "metadata": {},
   "source": [
    "#### Feature: Weather"
   ]
  },
  {
   "cell_type": "code",
   "execution_count": 1239,
   "metadata": {},
   "outputs": [
    {
     "name": "stdout",
     "output_type": "stream",
     "text": [
      "Variable Statistics: \n"
     ]
    },
    {
     "data": {
      "text/html": [
       "<div>\n",
       "<style scoped>\n",
       "    .dataframe tbody tr th:only-of-type {\n",
       "        vertical-align: middle;\n",
       "    }\n",
       "\n",
       "    .dataframe tbody tr th {\n",
       "        vertical-align: top;\n",
       "    }\n",
       "\n",
       "    .dataframe thead th {\n",
       "        text-align: right;\n",
       "    }\n",
       "</style>\n",
       "<table border=\"1\" class=\"dataframe\">\n",
       "  <thead>\n",
       "    <tr style=\"text-align: right;\">\n",
       "      <th></th>\n",
       "      <th>Y</th>\n",
       "    </tr>\n",
       "    <tr>\n",
       "      <th>weather</th>\n",
       "      <th></th>\n",
       "    </tr>\n",
       "  </thead>\n",
       "  <tbody>\n",
       "    <tr>\n",
       "      <th>Rainy</th>\n",
       "      <td>244</td>\n",
       "    </tr>\n",
       "    <tr>\n",
       "      <th>Snowy</th>\n",
       "      <td>241</td>\n",
       "    </tr>\n",
       "    <tr>\n",
       "      <th>Sunny</th>\n",
       "      <td>1846</td>\n",
       "    </tr>\n",
       "  </tbody>\n",
       "</table>\n",
       "</div>"
      ],
      "text/plain": [
       "            Y\n",
       "weather      \n",
       "Rainy     244\n",
       "Snowy     241\n",
       "Sunny    1846"
      ]
     },
     "execution_count": 1239,
     "metadata": {},
     "output_type": "execute_result"
    }
   ],
   "source": [
    "print(\"Variable Statistics: \")\n",
    "df_train[['Y', 'weather']].groupby('weather').count()"
   ]
  },
  {
   "cell_type": "code",
   "execution_count": 1240,
   "metadata": {},
   "outputs": [
    {
     "name": "stdout",
     "output_type": "stream",
     "text": [
      "Total number of null values: 47\n"
     ]
    }
   ],
   "source": [
    "print(\"Total number of null values:\", df_train['weather'].isnull().sum())"
   ]
  },
  {
   "cell_type": "code",
   "execution_count": 1241,
   "metadata": {},
   "outputs": [
    {
     "data": {
      "text/plain": [
       "<AxesSubplot:>"
      ]
     },
     "execution_count": 1241,
     "metadata": {},
     "output_type": "execute_result"
    },
    {
     "data": {
      "image/png": "[encoded data removed]",
      "text/plain": [
       "<Figure size 432x288 with 1 Axes>"
      ]
     },
     "metadata": {
      "needs_background": "light"
     },
     "output_type": "display_data"
    }
   ],
   "source": [
    "df_train['weather'].hist()"
   ]
  },
  {
   "cell_type": "markdown",
   "metadata": {},
   "source": [
    "Since the majority of weather is sunny, so we replace the missing values with mode."
   ]
  },
  {
   "cell_type": "code",
   "execution_count": 1242,
   "metadata": {},
   "outputs": [],
   "source": [
    "df_train['weather'] = df_train['weather'].fillna(df_train['weather'].mode()[0])"
   ]
  },
  {
   "cell_type": "markdown",
   "metadata": {},
   "source": [
    "We replace this column with dummy variables."
   ]
  },
  {
   "cell_type": "code",
   "execution_count": 1243,
   "metadata": {},
   "outputs": [],
   "source": [
    "cols = pd.get_dummies(df_train['weather'], prefix= 'weather')\n",
    "df_train[cols.columns] = cols\n",
    "df_train.drop('weather', axis = 1, inplace = True)"
   ]
  },
  {
   "cell_type": "markdown",
   "metadata": {},
   "source": [
    "#### Feature: Temperature"
   ]
  },
  {
   "cell_type": "code",
   "execution_count": 1244,
   "metadata": {},
   "outputs": [
    {
     "name": "stdout",
     "output_type": "stream",
     "text": [
      "Variable Statistics: \n"
     ]
    },
    {
     "data": {
      "text/plain": [
       "count    2344.000000\n",
       "mean       86.248294\n",
       "std       147.929170\n",
       "min        30.000000\n",
       "25%        55.000000\n",
       "50%        80.000000\n",
       "75%        80.000000\n",
       "max       999.000000\n",
       "Name: temperature, dtype: float64"
      ]
     },
     "execution_count": 1244,
     "metadata": {},
     "output_type": "execute_result"
    }
   ],
   "source": [
    "print(\"Variable Statistics: \")\n",
    "df_train['temperature'].describe()"
   ]
  },
  {
   "cell_type": "code",
   "execution_count": 1245,
   "metadata": {},
   "outputs": [
    {
     "name": "stdout",
     "output_type": "stream",
     "text": [
      "Total number of null values: 34\n"
     ]
    }
   ],
   "source": [
    "print(\"Total number of null values:\", df_train['temperature'].isnull().sum())"
   ]
  },
  {
   "cell_type": "code",
   "execution_count": 1246,
   "metadata": {},
   "outputs": [
    {
     "data": {
      "text/plain": [
       "<AxesSubplot:>"
      ]
     },
     "execution_count": 1246,
     "metadata": {},
     "output_type": "execute_result"
    },
    {
     "data": {
      "image/png": "[encoded data removed]",
      "text/plain": [
       "<Figure size 432x288 with 1 Axes>"
      ]
     },
     "metadata": {
      "needs_background": "light"
     },
     "output_type": "display_data"
    }
   ],
   "source": [
    "df_train['temperature'].hist(bins =80)"
   ]
  },
  {
   "cell_type": "markdown",
   "metadata": {},
   "source": [
    "Since the majority of temperature is 80, so we will replace the null values with mode."
   ]
  },
  {
   "cell_type": "code",
   "execution_count": 1247,
   "metadata": {},
   "outputs": [],
   "source": [
    "df_train['temperature'] = df_train['temperature'].fillna(df_train['temperature'].mode()[0])"
   ]
  },
  {
   "cell_type": "markdown",
   "metadata": {},
   "source": [
    "We replace this column with dummy variables."
   ]
  },
  {
   "cell_type": "code",
   "execution_count": 1248,
   "metadata": {},
   "outputs": [],
   "source": [
    "cols = pd.get_dummies(df_train['temperature'], prefix= 'temperature')\n",
    "df_train[cols.columns] = cols\n",
    "df_train.drop('temperature', axis = 1, inplace = True)"
   ]
  },
  {
   "cell_type": "markdown",
   "metadata": {},
   "source": [
    "#### Feature: Time"
   ]
  },
  {
   "cell_type": "code",
   "execution_count": 1249,
   "metadata": {},
   "outputs": [
    {
     "name": "stdout",
     "output_type": "stream",
     "text": [
      "Variable Statistics: \n"
     ]
    },
    {
     "data": {
      "text/plain": [
       "count     2378\n",
       "unique       5\n",
       "top        6PM\n",
       "freq       593\n",
       "Name: time, dtype: object"
      ]
     },
     "execution_count": 1249,
     "metadata": {},
     "output_type": "execute_result"
    }
   ],
   "source": [
    "print(\"Variable Statistics: \")\n",
    "df_train['time'].describe()"
   ]
  },
  {
   "cell_type": "code",
   "execution_count": 1250,
   "metadata": {},
   "outputs": [
    {
     "name": "stdout",
     "output_type": "stream",
     "text": [
      "Total number of null values: 0\n"
     ]
    }
   ],
   "source": [
    "print(\"Total number of null values:\", df_train['time'].isnull().sum())"
   ]
  },
  {
   "cell_type": "code",
   "execution_count": 1251,
   "metadata": {},
   "outputs": [
    {
     "data": {
      "text/plain": [
       "<AxesSubplot:>"
      ]
     },
     "execution_count": 1251,
     "metadata": {},
     "output_type": "execute_result"
    },
    {
     "data": {
      "image/png": "[encoded data removed]",
      "text/plain": [
       "<Figure size 432x288 with 1 Axes>"
      ]
     },
     "metadata": {
      "needs_background": "light"
     },
     "output_type": "display_data"
    }
   ],
   "source": [
    "df_train['time'].hist()"
   ]
  },
  {
   "cell_type": "markdown",
   "metadata": {},
   "source": [
    "We replace this column with dummy variables."
   ]
  },
  {
   "cell_type": "code",
   "execution_count": 1252,
   "metadata": {},
   "outputs": [],
   "source": [
    "cols = pd.get_dummies(df_train['time'], prefix= 'time')\n",
    "df_train[cols.columns] = cols\n",
    "df_train.drop('time', axis = 1, inplace = True)"
   ]
  },
  {
   "cell_type": "markdown",
   "metadata": {},
   "source": [
    "#### Feature: Coupon"
   ]
  },
  {
   "cell_type": "code",
   "execution_count": 1253,
   "metadata": {},
   "outputs": [
    {
     "name": "stdout",
     "output_type": "stream",
     "text": [
      "Variable Statistics: \n"
     ]
    },
    {
     "data": {
      "text/plain": [
       "count             2378\n",
       "unique               5\n",
       "top       Coffee House\n",
       "freq               750\n",
       "Name: coupon, dtype: object"
      ]
     },
     "execution_count": 1253,
     "metadata": {},
     "output_type": "execute_result"
    }
   ],
   "source": [
    "print(\"Variable Statistics: \")\n",
    "df_train['coupon'].describe()"
   ]
  },
  {
   "cell_type": "code",
   "execution_count": 1254,
   "metadata": {},
   "outputs": [
    {
     "name": "stdout",
     "output_type": "stream",
     "text": [
      "Total number of null values: 0\n"
     ]
    }
   ],
   "source": [
    "print(\"Total number of null values:\", df_train['coupon'].isnull().sum())"
   ]
  },
  {
   "cell_type": "code",
   "execution_count": 1255,
   "metadata": {},
   "outputs": [
    {
     "data": {
      "text/plain": [
       "<AxesSubplot:>"
      ]
     },
     "execution_count": 1255,
     "metadata": {},
     "output_type": "execute_result"
    },
    {
     "data": {
      "image/png": "[encoded data removed]",
      "text/plain": [
       "<Figure size 432x288 with 1 Axes>"
      ]
     },
     "metadata": {
      "needs_background": "light"
     },
     "output_type": "display_data"
    }
   ],
   "source": [
    "df_train['coupon'].hist()"
   ]
  },
  {
   "cell_type": "markdown",
   "metadata": {},
   "source": [
    "We replace this column with dummy variables."
   ]
  },
  {
   "cell_type": "code",
   "execution_count": 1256,
   "metadata": {},
   "outputs": [],
   "source": [
    "cols = pd.get_dummies(df_train['coupon'], prefix= 'coupon')\n",
    "df_train[cols.columns] = cols\n",
    "df_train.drop('coupon', axis = 1, inplace = True)"
   ]
  },
  {
   "cell_type": "markdown",
   "metadata": {},
   "source": [
    "#### Feature: Expiration"
   ]
  },
  {
   "cell_type": "code",
   "execution_count": 1257,
   "metadata": {},
   "outputs": [
    {
     "name": "stdout",
     "output_type": "stream",
     "text": [
      "Variable Statistics: \n"
     ]
    },
    {
     "data": {
      "text/plain": [
       "count     2378\n",
       "unique       2\n",
       "top         1d\n",
       "freq      1329\n",
       "Name: expiration, dtype: object"
      ]
     },
     "execution_count": 1257,
     "metadata": {},
     "output_type": "execute_result"
    }
   ],
   "source": [
    "print(\"Variable Statistics: \")\n",
    "df_train['expiration'].describe()"
   ]
  },
  {
   "cell_type": "code",
   "execution_count": 1258,
   "metadata": {},
   "outputs": [
    {
     "name": "stdout",
     "output_type": "stream",
     "text": [
      "Total number of null values: 0\n"
     ]
    }
   ],
   "source": [
    "print(\"Total number of null values:\", df_train['expiration'].isnull().sum())"
   ]
  },
  {
   "cell_type": "code",
   "execution_count": 1259,
   "metadata": {},
   "outputs": [
    {
     "data": {
      "text/plain": [
       "<AxesSubplot:>"
      ]
     },
     "execution_count": 1259,
     "metadata": {},
     "output_type": "execute_result"
    },
    {
     "data": {
      "image/png": "[encoded data removed]",
      "text/plain": [
       "<Figure size 432x288 with 1 Axes>"
      ]
     },
     "metadata": {
      "needs_background": "light"
     },
     "output_type": "display_data"
    }
   ],
   "source": [
    "df_train['expiration'].hist(bins =3)"
   ]
  },
  {
   "cell_type": "markdown",
   "metadata": {},
   "source": [
    "The frequent class in column Expiration is 1d, so we map 1d to 1 and 2h to 0."
   ]
  },
  {
   "cell_type": "code",
   "execution_count": 1260,
   "metadata": {},
   "outputs": [],
   "source": [
    "df_train['expiration'] = df_train['expiration'].map({'1d':1, '2h':0}).astype(int)"
   ]
  },
  {
   "cell_type": "markdown",
   "metadata": {},
   "source": [
    "#### Feature: Gender"
   ]
  },
  {
   "cell_type": "code",
   "execution_count": 1261,
   "metadata": {},
   "outputs": [
    {
     "name": "stdout",
     "output_type": "stream",
     "text": [
      "Variable Statistics: \n"
     ]
    },
    {
     "data": {
      "text/plain": [
       "count       2329\n",
       "unique         2\n",
       "top       Female\n",
       "freq        1214\n",
       "Name: gender, dtype: object"
      ]
     },
     "execution_count": 1261,
     "metadata": {},
     "output_type": "execute_result"
    }
   ],
   "source": [
    "print(\"Variable Statistics: \")\n",
    "df_train['gender'].describe()"
   ]
  },
  {
   "cell_type": "code",
   "execution_count": 1262,
   "metadata": {},
   "outputs": [
    {
     "name": "stdout",
     "output_type": "stream",
     "text": [
      "Total number of null values: 49\n"
     ]
    }
   ],
   "source": [
    "print(\"Total number of null values:\", df_train['gender'].isnull().sum())"
   ]
  },
  {
   "cell_type": "code",
   "execution_count": 1263,
   "metadata": {},
   "outputs": [
    {
     "data": {
      "text/plain": [
       "<AxesSubplot:>"
      ]
     },
     "execution_count": 1263,
     "metadata": {},
     "output_type": "execute_result"
    },
    {
     "data": {
      "image/png": "[encoded data removed]",
      "text/plain": [
       "<Figure size 432x288 with 1 Axes>"
      ]
     },
     "metadata": {
      "needs_background": "light"
     },
     "output_type": "display_data"
    }
   ],
   "source": [
    "df_train['gender'].hist(bins=3)"
   ]
  },
  {
   "cell_type": "markdown",
   "metadata": {},
   "source": [
    "So we can see that there are majority of females, so we will replace the null values with mode."
   ]
  },
  {
   "cell_type": "code",
   "execution_count": 1264,
   "metadata": {},
   "outputs": [],
   "source": [
    "df_train['gender'] = df_train['gender'].fillna(df_train['gender'].mode()[0])"
   ]
  },
  {
   "cell_type": "markdown",
   "metadata": {},
   "source": [
    "The frequent class in column Gender is Female, so we map Female to 1 and Male to 0."
   ]
  },
  {
   "cell_type": "code",
   "execution_count": 1265,
   "metadata": {},
   "outputs": [],
   "source": [
    "df_train['gender'] = df_train['gender'].map({'Female':1, 'Male':0}).astype(int)"
   ]
  },
  {
   "cell_type": "markdown",
   "metadata": {},
   "source": [
    "#### Feature: Age"
   ]
  },
  {
   "cell_type": "code",
   "execution_count": 1266,
   "metadata": {},
   "outputs": [
    {
     "name": "stdout",
     "output_type": "stream",
     "text": [
      "Variable Statistics: \n"
     ]
    },
    {
     "data": {
      "text/plain": [
       "count     2326\n",
       "unique       8\n",
       "top         26\n",
       "freq       486\n",
       "Name: age, dtype: object"
      ]
     },
     "execution_count": 1266,
     "metadata": {},
     "output_type": "execute_result"
    }
   ],
   "source": [
    "print(\"Variable Statistics: \")\n",
    "df_train['age'].describe()"
   ]
  },
  {
   "cell_type": "code",
   "execution_count": 1267,
   "metadata": {},
   "outputs": [
    {
     "name": "stdout",
     "output_type": "stream",
     "text": [
      "Total number of null values: 52\n"
     ]
    }
   ],
   "source": [
    "print(\"Total number of null values:\", df_train['age'].isnull().sum())"
   ]
  },
  {
   "cell_type": "code",
   "execution_count": 1268,
   "metadata": {},
   "outputs": [
    {
     "data": {
      "text/plain": [
       "<AxesSubplot:>"
      ]
     },
     "execution_count": 1268,
     "metadata": {},
     "output_type": "execute_result"
    },
    {
     "data": {
      "image/png": "[encoded data removed]",
      "text/plain": [
       "<Figure size 432x288 with 1 Axes>"
      ]
     },
     "metadata": {
      "needs_background": "light"
     },
     "output_type": "display_data"
    }
   ],
   "source": [
    "df_train['age'].hist(bins=20)"
   ]
  },
  {
   "cell_type": "markdown",
   "metadata": {},
   "source": [
    "So, we can clearly see that the majority of people are of 26 age, so we replace all the null values with mode."
   ]
  },
  {
   "cell_type": "code",
   "execution_count": 1269,
   "metadata": {},
   "outputs": [],
   "source": [
    "df_train['age'] = df_train['age'].fillna(df_train['age'].mode()[0])"
   ]
  },
  {
   "cell_type": "markdown",
   "metadata": {},
   "source": [
    "We replace this column with dummy variables."
   ]
  },
  {
   "cell_type": "code",
   "execution_count": 1270,
   "metadata": {},
   "outputs": [],
   "source": [
    "cols = pd.get_dummies(df_train['age'], prefix= 'age')\n",
    "df_train[cols.columns] = cols\n",
    "df_train.drop('age', axis = 1, inplace = True)"
   ]
  },
  {
   "cell_type": "markdown",
   "metadata": {},
   "source": [
    "#### Feature: Marital Status"
   ]
  },
  {
   "cell_type": "code",
   "execution_count": 1271,
   "metadata": {},
   "outputs": [
    {
     "name": "stdout",
     "output_type": "stream",
     "text": [
      "Variable Statistics: \n"
     ]
    },
    {
     "data": {
      "text/plain": [
       "count                2378\n",
       "unique                  5\n",
       "top       Married partner\n",
       "freq                  962\n",
       "Name: maritalStatus, dtype: object"
      ]
     },
     "execution_count": 1271,
     "metadata": {},
     "output_type": "execute_result"
    }
   ],
   "source": [
    "print(\"Variable Statistics: \")\n",
    "df_train['maritalStatus'].describe()"
   ]
  },
  {
   "cell_type": "code",
   "execution_count": 1272,
   "metadata": {},
   "outputs": [
    {
     "name": "stdout",
     "output_type": "stream",
     "text": [
      "Total number of null values: 0\n"
     ]
    }
   ],
   "source": [
    "print(\"Total number of null values:\", df_train['maritalStatus'].isnull().sum())"
   ]
  },
  {
   "cell_type": "code",
   "execution_count": 1273,
   "metadata": {},
   "outputs": [
    {
     "data": {
      "text/plain": [
       "<AxesSubplot:>"
      ]
     },
     "execution_count": 1273,
     "metadata": {},
     "output_type": "execute_result"
    },
    {
     "data": {
      "image/png": "[encoded data removed]",
      "text/plain": [
       "<Figure size 432x288 with 1 Axes>"
      ]
     },
     "metadata": {
      "needs_background": "light"
     },
     "output_type": "display_data"
    }
   ],
   "source": [
    "df_train['maritalStatus'].hist(bins=10)"
   ]
  },
  {
   "cell_type": "markdown",
   "metadata": {},
   "source": [
    "We replace this column with dummy variables."
   ]
  },
  {
   "cell_type": "code",
   "execution_count": 1274,
   "metadata": {},
   "outputs": [],
   "source": [
    "cols = pd.get_dummies(df_train['maritalStatus'], prefix= 'maritalStatus')\n",
    "df_train[cols.columns] = cols\n",
    "df_train.drop('maritalStatus', axis = 1, inplace = True)"
   ]
  },
  {
   "cell_type": "markdown",
   "metadata": {},
   "source": [
    "#### Feature: Has_children"
   ]
  },
  {
   "cell_type": "code",
   "execution_count": 1275,
   "metadata": {},
   "outputs": [
    {
     "name": "stdout",
     "output_type": "stream",
     "text": [
      "Variable Statistics: \n"
     ]
    },
    {
     "data": {
      "text/plain": [
       "count    2332.000000\n",
       "mean        0.419811\n",
       "std         0.493634\n",
       "min         0.000000\n",
       "25%         0.000000\n",
       "50%         0.000000\n",
       "75%         1.000000\n",
       "max         1.000000\n",
       "Name: has_children, dtype: float64"
      ]
     },
     "execution_count": 1275,
     "metadata": {},
     "output_type": "execute_result"
    }
   ],
   "source": [
    "print(\"Variable Statistics: \")\n",
    "df_train['has_children'].describe()"
   ]
  },
  {
   "cell_type": "code",
   "execution_count": 1276,
   "metadata": {},
   "outputs": [
    {
     "name": "stdout",
     "output_type": "stream",
     "text": [
      "Total number of null values: 46\n"
     ]
    }
   ],
   "source": [
    "print(\"Total number of null values:\", df_train['has_children'].isnull().sum())"
   ]
  },
  {
   "cell_type": "code",
   "execution_count": 1277,
   "metadata": {},
   "outputs": [
    {
     "data": {
      "text/plain": [
       "<AxesSubplot:>"
      ]
     },
     "execution_count": 1277,
     "metadata": {},
     "output_type": "execute_result"
    },
    {
     "data": {
      "image/png": "[encoded data removed]",
      "text/plain": [
       "<Figure size 432x288 with 1 Axes>"
      ]
     },
     "metadata": {
      "needs_background": "light"
     },
     "output_type": "display_data"
    }
   ],
   "source": [
    "df_train['has_children'].hist(bins=3)"
   ]
  },
  {
   "cell_type": "markdown",
   "metadata": {},
   "source": [
    "Since, the majority of people does not have children, so we will replace all the values with mode."
   ]
  },
  {
   "cell_type": "code",
   "execution_count": 1278,
   "metadata": {},
   "outputs": [],
   "source": [
    "df_train['has_children'] = df_train['has_children'].fillna(df_train['has_children'].mode()[0])"
   ]
  },
  {
   "cell_type": "markdown",
   "metadata": {},
   "source": [
    "#### Feature: Education"
   ]
  },
  {
   "cell_type": "code",
   "execution_count": 1279,
   "metadata": {},
   "outputs": [
    {
     "name": "stdout",
     "output_type": "stream",
     "text": [
      "Variable Statistics: \n"
     ]
    },
    {
     "data": {
      "text/plain": [
       "count                 2378\n",
       "unique                   6\n",
       "top       Bachelors degree\n",
       "freq                   805\n",
       "Name: education, dtype: object"
      ]
     },
     "execution_count": 1279,
     "metadata": {},
     "output_type": "execute_result"
    }
   ],
   "source": [
    "print(\"Variable Statistics: \")\n",
    "df_train['education'].describe()"
   ]
  },
  {
   "cell_type": "code",
   "execution_count": 1280,
   "metadata": {},
   "outputs": [
    {
     "name": "stdout",
     "output_type": "stream",
     "text": [
      "Total number of null values: 0\n"
     ]
    }
   ],
   "source": [
    "print(\"Total number of null values:\", df_train['education'].isnull().sum())"
   ]
  },
  {
   "cell_type": "code",
   "execution_count": 1281,
   "metadata": {},
   "outputs": [
    {
     "data": {
      "text/plain": [
       "<AxesSubplot:>"
      ]
     },
     "execution_count": 1281,
     "metadata": {},
     "output_type": "execute_result"
    },
    {
     "data": {
      "image/png": "[encoded data removed]",
      "text/plain": [
       "<Figure size 432x288 with 1 Axes>"
      ]
     },
     "metadata": {
      "needs_background": "light"
     },
     "output_type": "display_data"
    }
   ],
   "source": [
    "df_train['education'].hist(bins=10, xlabelsize=5)"
   ]
  },
  {
   "cell_type": "markdown",
   "metadata": {},
   "source": [
    "We replace this column with dummy variables."
   ]
  },
  {
   "cell_type": "code",
   "execution_count": 1282,
   "metadata": {},
   "outputs": [],
   "source": [
    "cols = pd.get_dummies(df_train['education'], prefix= 'education')\n",
    "df_train[cols.columns] = cols\n",
    "df_train.drop('education', axis = 1, inplace = True)"
   ]
  },
  {
   "cell_type": "markdown",
   "metadata": {},
   "source": [
    "#### Feature: Occupation"
   ]
  },
  {
   "cell_type": "code",
   "execution_count": 1283,
   "metadata": {},
   "outputs": [
    {
     "name": "stdout",
     "output_type": "stream",
     "text": [
      "Variable Statistics: \n"
     ]
    },
    {
     "data": {
      "text/plain": [
       "count           2378\n",
       "unique            25\n",
       "top       Unemployed\n",
       "freq             363\n",
       "Name: occupation, dtype: object"
      ]
     },
     "execution_count": 1283,
     "metadata": {},
     "output_type": "execute_result"
    }
   ],
   "source": [
    "print(\"Variable Statistics: \")\n",
    "df_train['occupation'].describe()"
   ]
  },
  {
   "cell_type": "code",
   "execution_count": 1284,
   "metadata": {},
   "outputs": [
    {
     "name": "stdout",
     "output_type": "stream",
     "text": [
      "Total number of null values: 0\n"
     ]
    }
   ],
   "source": [
    "print(\"Total number of null values:\", df_train['occupation'].isnull().sum())"
   ]
  },
  {
   "cell_type": "code",
   "execution_count": 1285,
   "metadata": {},
   "outputs": [
    {
     "data": {
      "text/plain": [
       "<AxesSubplot:>"
      ]
     },
     "execution_count": 1285,
     "metadata": {},
     "output_type": "execute_result"
    },
    {
     "data": {
      "image/png": "[encoded data removed]",
      "text/plain": [
       "<Figure size 432x288 with 1 Axes>"
      ]
     },
     "metadata": {
      "needs_background": "light"
     },
     "output_type": "display_data"
    }
   ],
   "source": [
    "df_train['occupation'].hist(bins = 30)"
   ]
  },
  {
   "cell_type": "markdown",
   "metadata": {},
   "source": [
    "We replace this column with dummy variables."
   ]
  },
  {
   "cell_type": "code",
   "execution_count": 1286,
   "metadata": {},
   "outputs": [],
   "source": [
    "cols = pd.get_dummies(df_train['occupation'], prefix= 'occupation')\n",
    "df_train[cols.columns] = cols\n",
    "df_train.drop('occupation', axis = 1, inplace = True)"
   ]
  },
  {
   "cell_type": "markdown",
   "metadata": {},
   "source": [
    "#### Feature: Income"
   ]
  },
  {
   "cell_type": "code",
   "execution_count": 1287,
   "metadata": {},
   "outputs": [
    {
     "name": "stdout",
     "output_type": "stream",
     "text": [
      "Variable Statistics: \n"
     ]
    },
    {
     "data": {
      "text/plain": [
       "count                2378\n",
       "unique                  9\n",
       "top       $25000 - $37499\n",
       "freq                  379\n",
       "Name: income, dtype: object"
      ]
     },
     "execution_count": 1287,
     "metadata": {},
     "output_type": "execute_result"
    }
   ],
   "source": [
    "print(\"Variable Statistics: \")\n",
    "df_train['income'].describe()"
   ]
  },
  {
   "cell_type": "code",
   "execution_count": 1288,
   "metadata": {},
   "outputs": [
    {
     "name": "stdout",
     "output_type": "stream",
     "text": [
      "Total number of null values: 0\n"
     ]
    }
   ],
   "source": [
    "print(\"Total number of null values:\", df_train['income'].isnull().sum())"
   ]
  },
  {
   "cell_type": "code",
   "execution_count": 1289,
   "metadata": {},
   "outputs": [
    {
     "data": {
      "text/plain": [
       "<AxesSubplot:>"
      ]
     },
     "execution_count": 1289,
     "metadata": {},
     "output_type": "execute_result"
    },
    {
     "data": {
      "image/png": "[encoded data removed]",
      "text/plain": [
       "<Figure size 432x288 with 1 Axes>"
      ]
     },
     "metadata": {
      "needs_background": "light"
     },
     "output_type": "display_data"
    }
   ],
   "source": [
    "df_train['income'].hist(bins = 30)"
   ]
  },
  {
   "cell_type": "markdown",
   "metadata": {},
   "source": [
    "We replace this column with dummy variables."
   ]
  },
  {
   "cell_type": "code",
   "execution_count": 1290,
   "metadata": {},
   "outputs": [],
   "source": [
    "cols = pd.get_dummies(df_train['income'], prefix= 'income')\n",
    "df_train[cols.columns] = cols\n",
    "df_train.drop('income', axis = 1, inplace = True)"
   ]
  },
  {
   "cell_type": "markdown",
   "metadata": {},
   "source": [
    "#### Feature: Car"
   ]
  },
  {
   "cell_type": "code",
   "execution_count": 1291,
   "metadata": {},
   "outputs": [
    {
     "name": "stdout",
     "output_type": "stream",
     "text": [
      "Variable Statistics: \n"
     ]
    },
    {
     "data": {
      "text/plain": [
       "count               16\n",
       "unique               5\n",
       "top       do not drive\n",
       "freq                 5\n",
       "Name: car, dtype: object"
      ]
     },
     "execution_count": 1291,
     "metadata": {},
     "output_type": "execute_result"
    }
   ],
   "source": [
    "print(\"Variable Statistics: \")\n",
    "df_train['car'].describe()"
   ]
  },
  {
   "cell_type": "code",
   "execution_count": 1292,
   "metadata": {},
   "outputs": [
    {
     "name": "stdout",
     "output_type": "stream",
     "text": [
      "Total number of null values: 2362\n"
     ]
    }
   ],
   "source": [
    "print(\"Total number of null values:\", df_train['car'].isnull().sum())"
   ]
  },
  {
   "cell_type": "markdown",
   "metadata": {},
   "source": [
    "There way too many null values in this variable, so we can drop this feature."
   ]
  },
  {
   "cell_type": "code",
   "execution_count": 1293,
   "metadata": {},
   "outputs": [],
   "source": [
    "df_train.drop('car', axis = 1, inplace = True)"
   ]
  },
  {
   "cell_type": "markdown",
   "metadata": {},
   "source": [
    "#### Feature: Bar"
   ]
  },
  {
   "cell_type": "code",
   "execution_count": 1294,
   "metadata": {},
   "outputs": [
    {
     "name": "stdout",
     "output_type": "stream",
     "text": [
      "Variable Statistics: \n"
     ]
    },
    {
     "data": {
      "text/plain": [
       "count      2358\n",
       "unique        5\n",
       "top       never\n",
       "freq        955\n",
       "Name: Bar, dtype: object"
      ]
     },
     "execution_count": 1294,
     "metadata": {},
     "output_type": "execute_result"
    }
   ],
   "source": [
    "print(\"Variable Statistics: \")\n",
    "df_train['Bar'].describe()"
   ]
  },
  {
   "cell_type": "code",
   "execution_count": 1295,
   "metadata": {},
   "outputs": [
    {
     "name": "stdout",
     "output_type": "stream",
     "text": [
      "Total number of null values: 20\n"
     ]
    }
   ],
   "source": [
    "print(\"Total number of null values:\", df_train['Bar'].isnull().sum())"
   ]
  },
  {
   "cell_type": "code",
   "execution_count": 1296,
   "metadata": {},
   "outputs": [
    {
     "data": {
      "text/plain": [
       "<AxesSubplot:>"
      ]
     },
     "execution_count": 1296,
     "metadata": {},
     "output_type": "execute_result"
    },
    {
     "data": {
      "image/png": "[encoded data removed]",
      "text/plain": [
       "<Figure size 432x288 with 1 Axes>"
      ]
     },
     "metadata": {
      "needs_background": "light"
     },
     "output_type": "display_data"
    }
   ],
   "source": [
    "df_train['Bar'].hist(bins=10)"
   ]
  },
  {
   "cell_type": "markdown",
   "metadata": {},
   "source": [
    "Since most of the Bar is never, so we will replace all the null values with mode."
   ]
  },
  {
   "cell_type": "code",
   "execution_count": 1297,
   "metadata": {},
   "outputs": [],
   "source": [
    "df_train['Bar'] = df_train['Bar'].fillna(df_train['Bar'].mode()[0])"
   ]
  },
  {
   "cell_type": "markdown",
   "metadata": {},
   "source": [
    "We replace this column with dummy variables."
   ]
  },
  {
   "cell_type": "code",
   "execution_count": 1298,
   "metadata": {},
   "outputs": [],
   "source": [
    "cols = pd.get_dummies(df_train['Bar'], prefix= 'Bar')\n",
    "df_train[cols.columns] = cols\n",
    "df_train.drop('Bar', axis = 1, inplace = True)"
   ]
  },
  {
   "cell_type": "markdown",
   "metadata": {},
   "source": [
    "#### Feature: Coffee House"
   ]
  },
  {
   "cell_type": "code",
   "execution_count": 1299,
   "metadata": {},
   "outputs": [
    {
     "name": "stdout",
     "output_type": "stream",
     "text": [
      "Variable Statistics: \n"
     ]
    },
    {
     "data": {
      "text/plain": [
       "count      2338\n",
       "unique        5\n",
       "top       less1\n",
       "freq        629\n",
       "Name: CoffeeHouse, dtype: object"
      ]
     },
     "execution_count": 1299,
     "metadata": {},
     "output_type": "execute_result"
    }
   ],
   "source": [
    "print(\"Variable Statistics: \")\n",
    "df_train['CoffeeHouse'].describe()"
   ]
  },
  {
   "cell_type": "code",
   "execution_count": 1300,
   "metadata": {},
   "outputs": [
    {
     "name": "stdout",
     "output_type": "stream",
     "text": [
      "Total number of null values: 40\n"
     ]
    }
   ],
   "source": [
    "print(\"Total number of null values:\", df_train['CoffeeHouse'].isnull().sum())"
   ]
  },
  {
   "cell_type": "code",
   "execution_count": 1301,
   "metadata": {},
   "outputs": [
    {
     "data": {
      "text/plain": [
       "<AxesSubplot:>"
      ]
     },
     "execution_count": 1301,
     "metadata": {},
     "output_type": "execute_result"
    },
    {
     "data": {
      "image/png": "[encoded data removed]",
      "text/plain": [
       "<Figure size 432x288 with 1 Axes>"
      ]
     },
     "metadata": {
      "needs_background": "light"
     },
     "output_type": "display_data"
    }
   ],
   "source": [
    "df_train['CoffeeHouse'].hist(bins=10)"
   ]
  },
  {
   "cell_type": "markdown",
   "metadata": {},
   "source": [
    "Since most of the CoffeeHouse is less1, so we will replace all the null values with mode."
   ]
  },
  {
   "cell_type": "code",
   "execution_count": 1302,
   "metadata": {},
   "outputs": [],
   "source": [
    "df_train['CoffeeHouse'] = df_train['CoffeeHouse'].fillna(df_train['CoffeeHouse'].mode()[0])"
   ]
  },
  {
   "cell_type": "markdown",
   "metadata": {},
   "source": [
    "We replace this column with dummy variables."
   ]
  },
  {
   "cell_type": "code",
   "execution_count": 1303,
   "metadata": {},
   "outputs": [],
   "source": [
    "cols = pd.get_dummies(df_train['CoffeeHouse'], prefix= 'CoffeeHouse')\n",
    "df_train[cols.columns] = cols\n",
    "df_train.drop('CoffeeHouse', axis = 1, inplace = True)"
   ]
  },
  {
   "cell_type": "markdown",
   "metadata": {},
   "source": [
    "#### Feature: CarryAway"
   ]
  },
  {
   "cell_type": "code",
   "execution_count": 1304,
   "metadata": {},
   "outputs": [
    {
     "name": "stdout",
     "output_type": "stream",
     "text": [
      "Variable Statistics: \n"
     ]
    },
    {
     "data": {
      "text/plain": [
       "count     2355\n",
       "unique       5\n",
       "top        1~3\n",
       "freq       875\n",
       "Name: CarryAway, dtype: object"
      ]
     },
     "execution_count": 1304,
     "metadata": {},
     "output_type": "execute_result"
    }
   ],
   "source": [
    "print(\"Variable Statistics: \")\n",
    "df_train['CarryAway'].describe()"
   ]
  },
  {
   "cell_type": "code",
   "execution_count": 1305,
   "metadata": {},
   "outputs": [
    {
     "name": "stdout",
     "output_type": "stream",
     "text": [
      "Total number of null values: 23\n"
     ]
    }
   ],
   "source": [
    "print(\"Total number of null values:\", df_train['CarryAway'].isnull().sum())"
   ]
  },
  {
   "cell_type": "code",
   "execution_count": 1306,
   "metadata": {},
   "outputs": [
    {
     "data": {
      "text/plain": [
       "<AxesSubplot:>"
      ]
     },
     "execution_count": 1306,
     "metadata": {},
     "output_type": "execute_result"
    },
    {
     "data": {
      "image/png": "[encoded data removed]",
      "text/plain": [
       "<Figure size 432x288 with 1 Axes>"
      ]
     },
     "metadata": {
      "needs_background": "light"
     },
     "output_type": "display_data"
    }
   ],
   "source": [
    "df_train['CarryAway'].hist(bins=10)"
   ]
  },
  {
   "cell_type": "markdown",
   "metadata": {},
   "source": [
    "Since most of the CarryAway is 1~3, so we will replace all the null values with mode."
   ]
  },
  {
   "cell_type": "code",
   "execution_count": 1307,
   "metadata": {},
   "outputs": [],
   "source": [
    "df_train['CarryAway'] = df_train['CarryAway'].fillna(df_train['CarryAway'].mode()[0])"
   ]
  },
  {
   "cell_type": "markdown",
   "metadata": {},
   "source": [
    "We replace this column with dummy variables."
   ]
  },
  {
   "cell_type": "code",
   "execution_count": 1308,
   "metadata": {},
   "outputs": [],
   "source": [
    "cols = pd.get_dummies(df_train['CarryAway'], prefix= 'CarryAway')\n",
    "df_train[cols.columns] = cols\n",
    "df_train.drop('CarryAway', axis = 1, inplace = True)"
   ]
  },
  {
   "cell_type": "markdown",
   "metadata": {},
   "source": [
    "#### Feature: Restaurant Less Than 20"
   ]
  },
  {
   "cell_type": "code",
   "execution_count": 1309,
   "metadata": {},
   "outputs": [
    {
     "name": "stdout",
     "output_type": "stream",
     "text": [
      "Variable Statistics: \n"
     ]
    },
    {
     "data": {
      "text/plain": [
       "count     2352\n",
       "unique       5\n",
       "top        1~3\n",
       "freq      1032\n",
       "Name: RestaurantLessThan20, dtype: object"
      ]
     },
     "execution_count": 1309,
     "metadata": {},
     "output_type": "execute_result"
    }
   ],
   "source": [
    "print(\"Variable Statistics: \")\n",
    "df_train['RestaurantLessThan20'].describe()"
   ]
  },
  {
   "cell_type": "code",
   "execution_count": 1310,
   "metadata": {},
   "outputs": [
    {
     "name": "stdout",
     "output_type": "stream",
     "text": [
      "Total number of null values: 26\n"
     ]
    }
   ],
   "source": [
    "print(\"Total number of null values:\", df_train['RestaurantLessThan20'].isnull().sum())"
   ]
  },
  {
   "cell_type": "code",
   "execution_count": 1311,
   "metadata": {},
   "outputs": [
    {
     "data": {
      "text/plain": [
       "<AxesSubplot:>"
      ]
     },
     "execution_count": 1311,
     "metadata": {},
     "output_type": "execute_result"
    },
    {
     "data": {
      "image/png": "[encoded data removed]",
      "text/plain": [
       "<Figure size 432x288 with 1 Axes>"
      ]
     },
     "metadata": {
      "needs_background": "light"
     },
     "output_type": "display_data"
    }
   ],
   "source": [
    "df_train['RestaurantLessThan20'].hist(bins=10)"
   ]
  },
  {
   "cell_type": "markdown",
   "metadata": {},
   "source": [
    "Since most of the RestaurantLessThan20 is 1~3, so we will replace all the null values with mode."
   ]
  },
  {
   "cell_type": "code",
   "execution_count": 1312,
   "metadata": {},
   "outputs": [],
   "source": [
    "df_train['RestaurantLessThan20'] = df_train['RestaurantLessThan20'].fillna(df_train['RestaurantLessThan20'].mode()[0])"
   ]
  },
  {
   "cell_type": "markdown",
   "metadata": {},
   "source": [
    "We replace this column with dummy variables."
   ]
  },
  {
   "cell_type": "code",
   "execution_count": 1313,
   "metadata": {},
   "outputs": [],
   "source": [
    "cols = pd.get_dummies(df_train['RestaurantLessThan20'], prefix= 'RestaurantLessThan20')\n",
    "df_train[cols.columns] = cols\n",
    "df_train.drop('RestaurantLessThan20', axis = 1, inplace = True)"
   ]
  },
  {
   "cell_type": "markdown",
   "metadata": {},
   "source": [
    "#### Feature: Restaurant20To50"
   ]
  },
  {
   "cell_type": "code",
   "execution_count": 1314,
   "metadata": {},
   "outputs": [
    {
     "name": "stdout",
     "output_type": "stream",
     "text": [
      "Variable Statistics: \n"
     ]
    },
    {
     "data": {
      "text/plain": [
       "count      2351\n",
       "unique        5\n",
       "top       less1\n",
       "freq       1129\n",
       "Name: Restaurant20To50, dtype: object"
      ]
     },
     "execution_count": 1314,
     "metadata": {},
     "output_type": "execute_result"
    }
   ],
   "source": [
    "print(\"Variable Statistics: \")\n",
    "df_train['Restaurant20To50'].describe()"
   ]
  },
  {
   "cell_type": "code",
   "execution_count": 1315,
   "metadata": {},
   "outputs": [
    {
     "name": "stdout",
     "output_type": "stream",
     "text": [
      "Total number of null values: 27\n"
     ]
    }
   ],
   "source": [
    "print(\"Total number of null values:\", df_train['Restaurant20To50'].isnull().sum())"
   ]
  },
  {
   "cell_type": "code",
   "execution_count": 1316,
   "metadata": {},
   "outputs": [
    {
     "data": {
      "text/plain": [
       "<AxesSubplot:>"
      ]
     },
     "execution_count": 1316,
     "metadata": {},
     "output_type": "execute_result"
    },
    {
     "data": {
      "image/png": "[encoded data removed]",
      "text/plain": [
       "<Figure size 432x288 with 1 Axes>"
      ]
     },
     "metadata": {
      "needs_background": "light"
     },
     "output_type": "display_data"
    }
   ],
   "source": [
    "df_train['Restaurant20To50'].hist()"
   ]
  },
  {
   "cell_type": "markdown",
   "metadata": {},
   "source": [
    "Since most of the Restaurant20To50 is less1, so we will replace all the null values with mode."
   ]
  },
  {
   "cell_type": "code",
   "execution_count": 1317,
   "metadata": {},
   "outputs": [],
   "source": [
    "df_train['Restaurant20To50'] = df_train['Restaurant20To50'].fillna(df_train['Restaurant20To50'].mode()[0])"
   ]
  },
  {
   "cell_type": "markdown",
   "metadata": {},
   "source": [
    "We replace this column with dummy variables."
   ]
  },
  {
   "cell_type": "code",
   "execution_count": 1318,
   "metadata": {},
   "outputs": [],
   "source": [
    "cols = pd.get_dummies(df_train['Restaurant20To50'], prefix= 'Restaurant20To50')\n",
    "df_train[cols.columns] = cols\n",
    "df_train.drop('Restaurant20To50', axis = 1, inplace = True)"
   ]
  },
  {
   "cell_type": "markdown",
   "metadata": {},
   "source": [
    "#### Feature: toCoupon_GEQ5min"
   ]
  },
  {
   "cell_type": "code",
   "execution_count": 1319,
   "metadata": {},
   "outputs": [
    {
     "name": "stdout",
     "output_type": "stream",
     "text": [
      "Variable Statistics: \n"
     ]
    },
    {
     "data": {
      "text/plain": [
       "count    2378.0\n",
       "mean        1.0\n",
       "std         0.0\n",
       "min         1.0\n",
       "25%         1.0\n",
       "50%         1.0\n",
       "75%         1.0\n",
       "max         1.0\n",
       "Name: toCoupon_GEQ5min, dtype: float64"
      ]
     },
     "execution_count": 1319,
     "metadata": {},
     "output_type": "execute_result"
    }
   ],
   "source": [
    "print(\"Variable Statistics: \")\n",
    "df_train['toCoupon_GEQ5min'].describe()"
   ]
  },
  {
   "cell_type": "code",
   "execution_count": 1320,
   "metadata": {},
   "outputs": [
    {
     "name": "stdout",
     "output_type": "stream",
     "text": [
      "Total number of null values: 0\n"
     ]
    }
   ],
   "source": [
    "print(\"Total number of null values:\", df_train['toCoupon_GEQ5min'].isnull().sum())"
   ]
  },
  {
   "cell_type": "code",
   "execution_count": 1321,
   "metadata": {},
   "outputs": [
    {
     "data": {
      "text/plain": [
       "<AxesSubplot:>"
      ]
     },
     "execution_count": 1321,
     "metadata": {},
     "output_type": "execute_result"
    },
    {
     "data": {
      "image/png": "[encoded data removed]",
      "text/plain": [
       "<Figure size 432x288 with 1 Axes>"
      ]
     },
     "metadata": {
      "needs_background": "light"
     },
     "output_type": "display_data"
    }
   ],
   "source": [
    "df_train['toCoupon_GEQ5min'].hist()"
   ]
  },
  {
   "cell_type": "markdown",
   "metadata": {},
   "source": [
    "#### Feature: toCoupon_GEQ15min"
   ]
  },
  {
   "cell_type": "code",
   "execution_count": 1322,
   "metadata": {},
   "outputs": [
    {
     "name": "stdout",
     "output_type": "stream",
     "text": [
      "Variable Statistics: \n"
     ]
    },
    {
     "data": {
      "text/plain": [
       "count    2378.000000\n",
       "mean        0.560555\n",
       "std         0.496424\n",
       "min         0.000000\n",
       "25%         0.000000\n",
       "50%         1.000000\n",
       "75%         1.000000\n",
       "max         1.000000\n",
       "Name: toCoupon_GEQ15min, dtype: float64"
      ]
     },
     "execution_count": 1322,
     "metadata": {},
     "output_type": "execute_result"
    }
   ],
   "source": [
    "print(\"Variable Statistics: \")\n",
    "df_train['toCoupon_GEQ15min'].describe()"
   ]
  },
  {
   "cell_type": "code",
   "execution_count": 1323,
   "metadata": {},
   "outputs": [
    {
     "name": "stdout",
     "output_type": "stream",
     "text": [
      "Total number of null values: 0\n"
     ]
    }
   ],
   "source": [
    "print(\"Total number of null values:\", df_train['toCoupon_GEQ15min'].isnull().sum())"
   ]
  },
  {
   "cell_type": "code",
   "execution_count": 1324,
   "metadata": {},
   "outputs": [
    {
     "data": {
      "text/plain": [
       "<AxesSubplot:>"
      ]
     },
     "execution_count": 1324,
     "metadata": {},
     "output_type": "execute_result"
    },
    {
     "data": {
      "image/png": "[encoded data removed]",
      "text/plain": [
       "<Figure size 432x288 with 1 Axes>"
      ]
     },
     "metadata": {
      "needs_background": "light"
     },
     "output_type": "display_data"
    }
   ],
   "source": [
    "df_train['toCoupon_GEQ15min'].hist()"
   ]
  },
  {
   "cell_type": "markdown",
   "metadata": {},
   "source": [
    "#### Feature: toCoupon_GEQ25min"
   ]
  },
  {
   "cell_type": "code",
   "execution_count": 1325,
   "metadata": {},
   "outputs": [
    {
     "name": "stdout",
     "output_type": "stream",
     "text": [
      "Variable Statistics: \n"
     ]
    },
    {
     "data": {
      "text/plain": [
       "count    2378.000000\n",
       "mean        0.112279\n",
       "std         0.315776\n",
       "min         0.000000\n",
       "25%         0.000000\n",
       "50%         0.000000\n",
       "75%         0.000000\n",
       "max         1.000000\n",
       "Name: toCoupon_GEQ25min, dtype: float64"
      ]
     },
     "execution_count": 1325,
     "metadata": {},
     "output_type": "execute_result"
    }
   ],
   "source": [
    "print(\"Variable Statistics: \")\n",
    "df_train['toCoupon_GEQ25min'].describe()"
   ]
  },
  {
   "cell_type": "code",
   "execution_count": 1326,
   "metadata": {},
   "outputs": [
    {
     "name": "stdout",
     "output_type": "stream",
     "text": [
      "Total number of null values: 0\n"
     ]
    }
   ],
   "source": [
    "print(\"Total number of null values:\", df_train['toCoupon_GEQ25min'].isnull().sum())"
   ]
  },
  {
   "cell_type": "code",
   "execution_count": 1327,
   "metadata": {},
   "outputs": [
    {
     "data": {
      "text/plain": [
       "<AxesSubplot:>"
      ]
     },
     "execution_count": 1327,
     "metadata": {},
     "output_type": "execute_result"
    },
    {
     "data": {
      "image/png": "[encoded data removed]",
      "text/plain": [
       "<Figure size 432x288 with 1 Axes>"
      ]
     },
     "metadata": {
      "needs_background": "light"
     },
     "output_type": "display_data"
    }
   ],
   "source": [
    "df_train['toCoupon_GEQ25min'].hist()"
   ]
  },
  {
   "cell_type": "markdown",
   "metadata": {},
   "source": [
    "#### Feature: direction_same"
   ]
  },
  {
   "cell_type": "code",
   "execution_count": 1328,
   "metadata": {},
   "outputs": [
    {
     "name": "stdout",
     "output_type": "stream",
     "text": [
      "Variable Statistics: \n"
     ]
    },
    {
     "data": {
      "text/plain": [
       "count    2378.000000\n",
       "mean        0.224138\n",
       "std         0.417101\n",
       "min         0.000000\n",
       "25%         0.000000\n",
       "50%         0.000000\n",
       "75%         0.000000\n",
       "max         1.000000\n",
       "Name: direction_same, dtype: float64"
      ]
     },
     "execution_count": 1328,
     "metadata": {},
     "output_type": "execute_result"
    }
   ],
   "source": [
    "print(\"Variable Statistics: \")\n",
    "df_train['direction_same'].describe()"
   ]
  },
  {
   "cell_type": "code",
   "execution_count": 1329,
   "metadata": {},
   "outputs": [
    {
     "name": "stdout",
     "output_type": "stream",
     "text": [
      "Total number of null values: 0\n"
     ]
    }
   ],
   "source": [
    "print(\"Total number of null values:\", df_train['direction_same'].isnull().sum())"
   ]
  },
  {
   "cell_type": "code",
   "execution_count": 1330,
   "metadata": {},
   "outputs": [
    {
     "data": {
      "text/plain": [
       "<AxesSubplot:>"
      ]
     },
     "execution_count": 1330,
     "metadata": {},
     "output_type": "execute_result"
    },
    {
     "data": {
      "image/png": "[encoded data removed]",
      "text/plain": [
       "<Figure size 432x288 with 1 Axes>"
      ]
     },
     "metadata": {
      "needs_background": "light"
     },
     "output_type": "display_data"
    }
   ],
   "source": [
    "df_train['direction_same'].hist()"
   ]
  },
  {
   "cell_type": "markdown",
   "metadata": {},
   "source": [
    "#### Feature: direction_opp"
   ]
  },
  {
   "cell_type": "code",
   "execution_count": 1331,
   "metadata": {},
   "outputs": [
    {
     "name": "stdout",
     "output_type": "stream",
     "text": [
      "Variable Statistics: \n"
     ]
    },
    {
     "data": {
      "text/plain": [
       "count    2378.000000\n",
       "mean        0.775862\n",
       "std         0.417101\n",
       "min         0.000000\n",
       "25%         1.000000\n",
       "50%         1.000000\n",
       "75%         1.000000\n",
       "max         1.000000\n",
       "Name: direction_opp, dtype: float64"
      ]
     },
     "execution_count": 1331,
     "metadata": {},
     "output_type": "execute_result"
    }
   ],
   "source": [
    "print(\"Variable Statistics: \")\n",
    "df_train['direction_opp'].describe()"
   ]
  },
  {
   "cell_type": "code",
   "execution_count": 1332,
   "metadata": {},
   "outputs": [
    {
     "name": "stdout",
     "output_type": "stream",
     "text": [
      "Total number of null values: 0\n"
     ]
    }
   ],
   "source": [
    "print(\"Total number of null values:\", df_train['direction_opp'].isnull().sum())"
   ]
  },
  {
   "cell_type": "code",
   "execution_count": 1333,
   "metadata": {},
   "outputs": [
    {
     "data": {
      "text/plain": [
       "<AxesSubplot:>"
      ]
     },
     "execution_count": 1333,
     "metadata": {},
     "output_type": "execute_result"
    },
    {
     "data": {
      "image/png": "[encoded data removed]",
      "text/plain": [
       "<Figure size 432x288 with 1 Axes>"
      ]
     },
     "metadata": {
      "needs_background": "light"
     },
     "output_type": "display_data"
    }
   ],
   "source": [
    "df_train['direction_opp'].hist()"
   ]
  },
  {
   "cell_type": "code",
   "execution_count": 1334,
   "metadata": {},
   "outputs": [
    {
     "name": "stdout",
     "output_type": "stream",
     "text": [
      "<class 'pandas.core.frame.DataFrame'>\n",
      "RangeIndex: 2378 entries, 0 to 2377\n",
      "Data columns (total 111 columns):\n",
      " #   Column                                                Dtype  \n",
      "---  ------                                                -----  \n",
      " 0   expiration                                            int64  \n",
      " 1   gender                                                int64  \n",
      " 2   has_children                                          float64\n",
      " 3   toCoupon_GEQ5min                                      int64  \n",
      " 4   toCoupon_GEQ15min                                     int64  \n",
      " 5   toCoupon_GEQ25min                                     int64  \n",
      " 6   direction_same                                        int64  \n",
      " 7   direction_opp                                         int64  \n",
      " 8   Y                                                     int64  \n",
      " 9   destination_Home                                      uint8  \n",
      " 10  destination_No Urgent Place                           uint8  \n",
      " 11  destination_Work                                      uint8  \n",
      " 12  passanger_Alone                                       uint8  \n",
      " 13  passanger_Friend(s)                                   uint8  \n",
      " 14  passanger_Kid(s)                                      uint8  \n",
      " 15  passanger_Partner                                     uint8  \n",
      " 16  weather_Rainy                                         uint8  \n",
      " 17  weather_Snowy                                         uint8  \n",
      " 18  weather_Sunny                                         uint8  \n",
      " 19  temperature_30.0                                      uint8  \n",
      " 20  temperature_55.0                                      uint8  \n",
      " 21  temperature_80.0                                      uint8  \n",
      " 22  temperature_999.0                                     uint8  \n",
      " 23  time_10AM                                             uint8  \n",
      " 24  time_10PM                                             uint8  \n",
      " 25  time_2PM                                              uint8  \n",
      " 26  time_6PM                                              uint8  \n",
      " 27  time_7AM                                              uint8  \n",
      " 28  coupon_Bar                                            uint8  \n",
      " 29  coupon_Carry out & Take away                          uint8  \n",
      " 30  coupon_Coffee House                                   uint8  \n",
      " 31  coupon_Restaurant(20-50)                              uint8  \n",
      " 32  coupon_Restaurant(<20)                                uint8  \n",
      " 33  age_21                                                uint8  \n",
      " 34  age_26                                                uint8  \n",
      " 35  age_31                                                uint8  \n",
      " 36  age_36                                                uint8  \n",
      " 37  age_41                                                uint8  \n",
      " 38  age_46                                                uint8  \n",
      " 39  age_50plus                                            uint8  \n",
      " 40  age_below21                                           uint8  \n",
      " 41  maritalStatus_Divorced                                uint8  \n",
      " 42  maritalStatus_Married partner                         uint8  \n",
      " 43  maritalStatus_Single                                  uint8  \n",
      " 44  maritalStatus_Unmarried partner                       uint8  \n",
      " 45  maritalStatus_Widowed                                 uint8  \n",
      " 46  education_Associates degree                           uint8  \n",
      " 47  education_Bachelors degree                            uint8  \n",
      " 48  education_Graduate degree (Masters or Doctorate)      uint8  \n",
      " 49  education_High School Graduate                        uint8  \n",
      " 50  education_Some High School                            uint8  \n",
      " 51  education_Some college - no degree                    uint8  \n",
      " 52  occupation_Architecture & Engineering                 uint8  \n",
      " 53  occupation_Arts Design Entertainment Sports & Media   uint8  \n",
      " 54  occupation_Building & Grounds Cleaning & Maintenance  uint8  \n",
      " 55  occupation_Business & Financial                       uint8  \n",
      " 56  occupation_Community & Social Services                uint8  \n",
      " 57  occupation_Computer & Mathematical                    uint8  \n",
      " 58  occupation_Construction & Extraction                  uint8  \n",
      " 59  occupation_Education&Training&Library                 uint8  \n",
      " 60  occupation_Farming Fishing & Forestry                 uint8  \n",
      " 61  occupation_Food Preparation & Serving Related         uint8  \n",
      " 62  occupation_Healthcare Practitioners & Technical       uint8  \n",
      " 63  occupation_Healthcare Support                         uint8  \n",
      " 64  occupation_Installation Maintenance & Repair          uint8  \n",
      " 65  occupation_Legal                                      uint8  \n",
      " 66  occupation_Life Physical Social Science               uint8  \n",
      " 67  occupation_Management                                 uint8  \n",
      " 68  occupation_Office & Administrative Support            uint8  \n",
      " 69  occupation_Personal Care & Service                    uint8  \n",
      " 70  occupation_Production Occupations                     uint8  \n",
      " 71  occupation_Protective Service                         uint8  \n",
      " 72  occupation_Retired                                    uint8  \n",
      " 73  occupation_Sales & Related                            uint8  \n",
      " 74  occupation_Student                                    uint8  \n",
      " 75  occupation_Transportation & Material Moving           uint8  \n",
      " 76  occupation_Unemployed                                 uint8  \n",
      " 77  income_$100000 or More                                uint8  \n",
      " 78  income_$12500 - $24999                                uint8  \n",
      " 79  income_$25000 - $37499                                uint8  \n",
      " 80  income_$37500 - $49999                                uint8  \n",
      " 81  income_$50000 - $62499                                uint8  \n",
      " 82  income_$62500 - $74999                                uint8  \n",
      " 83  income_$75000 - $87499                                uint8  \n",
      " 84  income_$87500 - $99999                                uint8  \n",
      " 85  income_Less than $12500                               uint8  \n",
      " 86  Bar_1~3                                               uint8  \n",
      " 87  Bar_4~8                                               uint8  \n",
      " 88  Bar_gt8                                               uint8  \n",
      " 89  Bar_less1                                             uint8  \n",
      " 90  Bar_never                                             uint8  \n",
      " 91  CoffeeHouse_1~3                                       uint8  \n",
      " 92  CoffeeHouse_4~8                                       uint8  \n",
      " 93  CoffeeHouse_gt8                                       uint8  \n",
      " 94  CoffeeHouse_less1                                     uint8  \n",
      " 95  CoffeeHouse_never                                     uint8  \n",
      " 96  CarryAway_1~3                                         uint8  \n",
      " 97  CarryAway_4~8                                         uint8  \n",
      " 98  CarryAway_gt8                                         uint8  \n",
      " 99  CarryAway_less1                                       uint8  \n",
      " 100 CarryAway_never                                       uint8  \n",
      " 101 RestaurantLessThan20_1~3                              uint8  \n",
      " 102 RestaurantLessThan20_4~8                              uint8  \n",
      " 103 RestaurantLessThan20_gt8                              uint8  \n",
      " 104 RestaurantLessThan20_less1                            uint8  \n",
      " 105 RestaurantLessThan20_never                            uint8  \n",
      " 106 Restaurant20To50_1~3                                  uint8  \n",
      " 107 Restaurant20To50_4~8                                  uint8  \n",
      " 108 Restaurant20To50_gt8                                  uint8  \n",
      " 109 Restaurant20To50_less1                                uint8  \n",
      " 110 Restaurant20To50_never                                uint8  \n",
      "dtypes: float64(1), int64(8), uint8(102)\n",
      "memory usage: 404.2 KB\n"
     ]
    }
   ],
   "source": [
    "df_train.info(all)"
   ]
  },
  {
   "cell_type": "code",
   "execution_count": 1335,
   "metadata": {},
   "outputs": [
    {
     "name": "stdout",
     "output_type": "stream",
     "text": [
      "Total number of Null Values:  0\n"
     ]
    }
   ],
   "source": [
    "print(\"Total number of Null Values: \", df_train.isnull().sum().sum())"
   ]
  },
  {
   "cell_type": "code",
   "execution_count": 1336,
   "metadata": {},
   "outputs": [
    {
     "data": {
      "text/html": [
       "<div>\n",
       "<style scoped>\n",
       "    .dataframe tbody tr th:only-of-type {\n",
       "        vertical-align: middle;\n",
       "    }\n",
       "\n",
       "    .dataframe tbody tr th {\n",
       "        vertical-align: top;\n",
       "    }\n",
       "\n",
       "    .dataframe thead th {\n",
       "        text-align: right;\n",
       "    }\n",
       "</style>\n",
       "<table border=\"1\" class=\"dataframe\">\n",
       "  <thead>\n",
       "    <tr style=\"text-align: right;\">\n",
       "      <th></th>\n",
       "      <th>expiration</th>\n",
       "      <th>gender</th>\n",
       "      <th>has_children</th>\n",
       "      <th>toCoupon_GEQ5min</th>\n",
       "      <th>toCoupon_GEQ15min</th>\n",
       "      <th>toCoupon_GEQ25min</th>\n",
       "      <th>direction_same</th>\n",
       "      <th>direction_opp</th>\n",
       "      <th>Y</th>\n",
       "      <th>destination_Home</th>\n",
       "      <th>...</th>\n",
       "      <th>RestaurantLessThan20_1~3</th>\n",
       "      <th>RestaurantLessThan20_4~8</th>\n",
       "      <th>RestaurantLessThan20_gt8</th>\n",
       "      <th>RestaurantLessThan20_less1</th>\n",
       "      <th>RestaurantLessThan20_never</th>\n",
       "      <th>Restaurant20To50_1~3</th>\n",
       "      <th>Restaurant20To50_4~8</th>\n",
       "      <th>Restaurant20To50_gt8</th>\n",
       "      <th>Restaurant20To50_less1</th>\n",
       "      <th>Restaurant20To50_never</th>\n",
       "    </tr>\n",
       "  </thead>\n",
       "  <tbody>\n",
       "    <tr>\n",
       "      <th>0</th>\n",
       "      <td>1</td>\n",
       "      <td>1</td>\n",
       "      <td>0.0</td>\n",
       "      <td>1</td>\n",
       "      <td>1</td>\n",
       "      <td>0</td>\n",
       "      <td>0</td>\n",
       "      <td>1</td>\n",
       "      <td>0</td>\n",
       "      <td>0</td>\n",
       "      <td>...</td>\n",
       "      <td>1</td>\n",
       "      <td>0</td>\n",
       "      <td>0</td>\n",
       "      <td>0</td>\n",
       "      <td>0</td>\n",
       "      <td>0</td>\n",
       "      <td>0</td>\n",
       "      <td>0</td>\n",
       "      <td>1</td>\n",
       "      <td>0</td>\n",
       "    </tr>\n",
       "    <tr>\n",
       "      <th>1</th>\n",
       "      <td>0</td>\n",
       "      <td>1</td>\n",
       "      <td>0.0</td>\n",
       "      <td>1</td>\n",
       "      <td>0</td>\n",
       "      <td>0</td>\n",
       "      <td>0</td>\n",
       "      <td>1</td>\n",
       "      <td>1</td>\n",
       "      <td>1</td>\n",
       "      <td>...</td>\n",
       "      <td>0</td>\n",
       "      <td>0</td>\n",
       "      <td>0</td>\n",
       "      <td>1</td>\n",
       "      <td>0</td>\n",
       "      <td>1</td>\n",
       "      <td>0</td>\n",
       "      <td>0</td>\n",
       "      <td>0</td>\n",
       "      <td>0</td>\n",
       "    </tr>\n",
       "    <tr>\n",
       "      <th>2</th>\n",
       "      <td>1</td>\n",
       "      <td>0</td>\n",
       "      <td>0.0</td>\n",
       "      <td>1</td>\n",
       "      <td>0</td>\n",
       "      <td>0</td>\n",
       "      <td>0</td>\n",
       "      <td>1</td>\n",
       "      <td>1</td>\n",
       "      <td>0</td>\n",
       "      <td>...</td>\n",
       "      <td>0</td>\n",
       "      <td>1</td>\n",
       "      <td>0</td>\n",
       "      <td>0</td>\n",
       "      <td>0</td>\n",
       "      <td>1</td>\n",
       "      <td>0</td>\n",
       "      <td>0</td>\n",
       "      <td>0</td>\n",
       "      <td>0</td>\n",
       "    </tr>\n",
       "    <tr>\n",
       "      <th>3</th>\n",
       "      <td>1</td>\n",
       "      <td>1</td>\n",
       "      <td>1.0</td>\n",
       "      <td>1</td>\n",
       "      <td>1</td>\n",
       "      <td>0</td>\n",
       "      <td>0</td>\n",
       "      <td>1</td>\n",
       "      <td>0</td>\n",
       "      <td>0</td>\n",
       "      <td>...</td>\n",
       "      <td>1</td>\n",
       "      <td>0</td>\n",
       "      <td>0</td>\n",
       "      <td>0</td>\n",
       "      <td>0</td>\n",
       "      <td>0</td>\n",
       "      <td>0</td>\n",
       "      <td>0</td>\n",
       "      <td>1</td>\n",
       "      <td>0</td>\n",
       "    </tr>\n",
       "    <tr>\n",
       "      <th>4</th>\n",
       "      <td>0</td>\n",
       "      <td>0</td>\n",
       "      <td>0.0</td>\n",
       "      <td>1</td>\n",
       "      <td>0</td>\n",
       "      <td>0</td>\n",
       "      <td>0</td>\n",
       "      <td>1</td>\n",
       "      <td>1</td>\n",
       "      <td>0</td>\n",
       "      <td>...</td>\n",
       "      <td>0</td>\n",
       "      <td>1</td>\n",
       "      <td>0</td>\n",
       "      <td>0</td>\n",
       "      <td>0</td>\n",
       "      <td>0</td>\n",
       "      <td>1</td>\n",
       "      <td>0</td>\n",
       "      <td>0</td>\n",
       "      <td>0</td>\n",
       "    </tr>\n",
       "  </tbody>\n",
       "</table>\n",
       "<p>5 rows × 111 columns</p>\n",
       "</div>"
      ],
      "text/plain": [
       "   expiration  gender  has_children  toCoupon_GEQ5min  toCoupon_GEQ15min  \\\n",
       "0           1       1           0.0                 1                  1   \n",
       "1           0       1           0.0                 1                  0   \n",
       "2           1       0           0.0                 1                  0   \n",
       "3           1       1           1.0                 1                  1   \n",
       "4           0       0           0.0                 1                  0   \n",
       "\n",
       "   toCoupon_GEQ25min  direction_same  direction_opp  Y  destination_Home  ...  \\\n",
       "0                  0               0              1  0                 0  ...   \n",
       "1                  0               0              1  1                 1  ...   \n",
       "2                  0               0              1  1                 0  ...   \n",
       "3                  0               0              1  0                 0  ...   \n",
       "4                  0               0              1  1                 0  ...   \n",
       "\n",
       "   RestaurantLessThan20_1~3  RestaurantLessThan20_4~8  \\\n",
       "0                         1                         0   \n",
       "1                         0                         0   \n",
       "2                         0                         1   \n",
       "3                         1                         0   \n",
       "4                         0                         1   \n",
       "\n",
       "   RestaurantLessThan20_gt8  RestaurantLessThan20_less1  \\\n",
       "0                         0                           0   \n",
       "1                         0                           1   \n",
       "2                         0                           0   \n",
       "3                         0                           0   \n",
       "4                         0                           0   \n",
       "\n",
       "   RestaurantLessThan20_never  Restaurant20To50_1~3  Restaurant20To50_4~8  \\\n",
       "0                           0                     0                     0   \n",
       "1                           0                     1                     0   \n",
       "2                           0                     1                     0   \n",
       "3                           0                     0                     0   \n",
       "4                           0                     0                     1   \n",
       "\n",
       "   Restaurant20To50_gt8  Restaurant20To50_less1  Restaurant20To50_never  \n",
       "0                     0                       1                       0  \n",
       "1                     0                       0                       0  \n",
       "2                     0                       0                       0  \n",
       "3                     0                       1                       0  \n",
       "4                     0                       0                       0  \n",
       "\n",
       "[5 rows x 111 columns]"
      ]
     },
     "execution_count": 1336,
     "metadata": {},
     "output_type": "execute_result"
    }
   ],
   "source": [
    "df_train.head()"
   ]
  },
  {
   "cell_type": "markdown",
   "metadata": {},
   "source": [
    "We have successfully replaced or handled all the null values and transformed specific variables to dummy variables."
   ]
  },
  {
   "cell_type": "markdown",
   "metadata": {},
   "source": [
    "#### Splitting the Train Dataset"
   ]
  },
  {
   "cell_type": "code",
   "execution_count": 1337,
   "metadata": {},
   "outputs": [],
   "source": [
    "x = df_train.drop('Y', axis = 1)\n",
    "y = df_train['Y']"
   ]
  },
  {
   "cell_type": "code",
   "execution_count": 1338,
   "metadata": {},
   "outputs": [
    {
     "data": {
      "text/plain": [
       "((1664, 110), (714, 110), (1664,), (714,))"
      ]
     },
     "execution_count": 1338,
     "metadata": {},
     "output_type": "execute_result"
    }
   ],
   "source": [
    "from sklearn.model_selection import train_test_split\n",
    "\n",
    "x_train, x_test, y_train, y_test = train_test_split(x, y, random_state = 0, test_size = 0.3)\n",
    "x_train.shape, x_test.shape, y_train.shape, y_test.shape"
   ]
  },
  {
   "cell_type": "markdown",
   "metadata": {},
   "source": [
    "#### Scaling the Train dataset"
   ]
  },
  {
   "cell_type": "code",
   "execution_count": 1339,
   "metadata": {},
   "outputs": [],
   "source": [
    "from sklearn.preprocessing import MinMaxScaler\n",
    "\n",
    "scaler = MinMaxScaler()\n",
    "x_train = scaler.fit_transform(x_train)\n",
    "x_test = scaler.transform(x_test)"
   ]
  },
  {
   "cell_type": "code",
   "execution_count": 1340,
   "metadata": {},
   "outputs": [
    {
     "data": {
      "text/html": [
       "<div>\n",
       "<style scoped>\n",
       "    .dataframe tbody tr th:only-of-type {\n",
       "        vertical-align: middle;\n",
       "    }\n",
       "\n",
       "    .dataframe tbody tr th {\n",
       "        vertical-align: top;\n",
       "    }\n",
       "\n",
       "    .dataframe thead th {\n",
       "        text-align: right;\n",
       "    }\n",
       "</style>\n",
       "<table border=\"1\" class=\"dataframe\">\n",
       "  <thead>\n",
       "    <tr style=\"text-align: right;\">\n",
       "      <th></th>\n",
       "      <th>0</th>\n",
       "      <th>1</th>\n",
       "      <th>2</th>\n",
       "      <th>3</th>\n",
       "      <th>4</th>\n",
       "      <th>5</th>\n",
       "      <th>6</th>\n",
       "      <th>7</th>\n",
       "      <th>8</th>\n",
       "      <th>9</th>\n",
       "      <th>...</th>\n",
       "      <th>100</th>\n",
       "      <th>101</th>\n",
       "      <th>102</th>\n",
       "      <th>103</th>\n",
       "      <th>104</th>\n",
       "      <th>105</th>\n",
       "      <th>106</th>\n",
       "      <th>107</th>\n",
       "      <th>108</th>\n",
       "      <th>109</th>\n",
       "    </tr>\n",
       "  </thead>\n",
       "  <tbody>\n",
       "    <tr>\n",
       "      <th>0</th>\n",
       "      <td>0.0</td>\n",
       "      <td>1.0</td>\n",
       "      <td>0.0</td>\n",
       "      <td>0.0</td>\n",
       "      <td>1.0</td>\n",
       "      <td>0.0</td>\n",
       "      <td>0.0</td>\n",
       "      <td>1.0</td>\n",
       "      <td>0.0</td>\n",
       "      <td>1.0</td>\n",
       "      <td>...</td>\n",
       "      <td>1.0</td>\n",
       "      <td>0.0</td>\n",
       "      <td>0.0</td>\n",
       "      <td>0.0</td>\n",
       "      <td>0.0</td>\n",
       "      <td>0.0</td>\n",
       "      <td>0.0</td>\n",
       "      <td>0.0</td>\n",
       "      <td>0.0</td>\n",
       "      <td>1.0</td>\n",
       "    </tr>\n",
       "    <tr>\n",
       "      <th>1</th>\n",
       "      <td>0.0</td>\n",
       "      <td>0.0</td>\n",
       "      <td>0.0</td>\n",
       "      <td>0.0</td>\n",
       "      <td>1.0</td>\n",
       "      <td>0.0</td>\n",
       "      <td>1.0</td>\n",
       "      <td>0.0</td>\n",
       "      <td>0.0</td>\n",
       "      <td>0.0</td>\n",
       "      <td>...</td>\n",
       "      <td>1.0</td>\n",
       "      <td>0.0</td>\n",
       "      <td>0.0</td>\n",
       "      <td>0.0</td>\n",
       "      <td>0.0</td>\n",
       "      <td>0.0</td>\n",
       "      <td>0.0</td>\n",
       "      <td>0.0</td>\n",
       "      <td>0.0</td>\n",
       "      <td>1.0</td>\n",
       "    </tr>\n",
       "    <tr>\n",
       "      <th>2</th>\n",
       "      <td>1.0</td>\n",
       "      <td>1.0</td>\n",
       "      <td>1.0</td>\n",
       "      <td>0.0</td>\n",
       "      <td>0.0</td>\n",
       "      <td>0.0</td>\n",
       "      <td>1.0</td>\n",
       "      <td>0.0</td>\n",
       "      <td>1.0</td>\n",
       "      <td>0.0</td>\n",
       "      <td>...</td>\n",
       "      <td>1.0</td>\n",
       "      <td>0.0</td>\n",
       "      <td>0.0</td>\n",
       "      <td>0.0</td>\n",
       "      <td>0.0</td>\n",
       "      <td>0.0</td>\n",
       "      <td>0.0</td>\n",
       "      <td>0.0</td>\n",
       "      <td>1.0</td>\n",
       "      <td>0.0</td>\n",
       "    </tr>\n",
       "    <tr>\n",
       "      <th>3</th>\n",
       "      <td>0.0</td>\n",
       "      <td>0.0</td>\n",
       "      <td>0.0</td>\n",
       "      <td>0.0</td>\n",
       "      <td>1.0</td>\n",
       "      <td>0.0</td>\n",
       "      <td>0.0</td>\n",
       "      <td>1.0</td>\n",
       "      <td>0.0</td>\n",
       "      <td>0.0</td>\n",
       "      <td>...</td>\n",
       "      <td>0.0</td>\n",
       "      <td>0.0</td>\n",
       "      <td>1.0</td>\n",
       "      <td>0.0</td>\n",
       "      <td>0.0</td>\n",
       "      <td>0.0</td>\n",
       "      <td>0.0</td>\n",
       "      <td>1.0</td>\n",
       "      <td>0.0</td>\n",
       "      <td>0.0</td>\n",
       "    </tr>\n",
       "    <tr>\n",
       "      <th>4</th>\n",
       "      <td>1.0</td>\n",
       "      <td>1.0</td>\n",
       "      <td>1.0</td>\n",
       "      <td>0.0</td>\n",
       "      <td>1.0</td>\n",
       "      <td>0.0</td>\n",
       "      <td>0.0</td>\n",
       "      <td>1.0</td>\n",
       "      <td>0.0</td>\n",
       "      <td>0.0</td>\n",
       "      <td>...</td>\n",
       "      <td>1.0</td>\n",
       "      <td>0.0</td>\n",
       "      <td>0.0</td>\n",
       "      <td>0.0</td>\n",
       "      <td>0.0</td>\n",
       "      <td>0.0</td>\n",
       "      <td>0.0</td>\n",
       "      <td>0.0</td>\n",
       "      <td>0.0</td>\n",
       "      <td>1.0</td>\n",
       "    </tr>\n",
       "  </tbody>\n",
       "</table>\n",
       "<p>5 rows × 110 columns</p>\n",
       "</div>"
      ],
      "text/plain": [
       "   0    1    2    3    4    5    6    7    8    9    ...  100  101  102  103  \\\n",
       "0  0.0  1.0  0.0  0.0  1.0  0.0  0.0  1.0  0.0  1.0  ...  1.0  0.0  0.0  0.0   \n",
       "1  0.0  0.0  0.0  0.0  1.0  0.0  1.0  0.0  0.0  0.0  ...  1.0  0.0  0.0  0.0   \n",
       "2  1.0  1.0  1.0  0.0  0.0  0.0  1.0  0.0  1.0  0.0  ...  1.0  0.0  0.0  0.0   \n",
       "3  0.0  0.0  0.0  0.0  1.0  0.0  0.0  1.0  0.0  0.0  ...  0.0  0.0  1.0  0.0   \n",
       "4  1.0  1.0  1.0  0.0  1.0  0.0  0.0  1.0  0.0  0.0  ...  1.0  0.0  0.0  0.0   \n",
       "\n",
       "   104  105  106  107  108  109  \n",
       "0  0.0  0.0  0.0  0.0  0.0  1.0  \n",
       "1  0.0  0.0  0.0  0.0  0.0  1.0  \n",
       "2  0.0  0.0  0.0  0.0  1.0  0.0  \n",
       "3  0.0  0.0  0.0  1.0  0.0  0.0  \n",
       "4  0.0  0.0  0.0  0.0  0.0  1.0  \n",
       "\n",
       "[5 rows x 110 columns]"
      ]
     },
     "execution_count": 1340,
     "metadata": {},
     "output_type": "execute_result"
    }
   ],
   "source": [
    "pd.DataFrame(x_train).head()"
   ]
  },
  {
   "cell_type": "code",
   "execution_count": 1341,
   "metadata": {},
   "outputs": [
    {
     "data": {
      "text/html": [
       "<div>\n",
       "<style scoped>\n",
       "    .dataframe tbody tr th:only-of-type {\n",
       "        vertical-align: middle;\n",
       "    }\n",
       "\n",
       "    .dataframe tbody tr th {\n",
       "        vertical-align: top;\n",
       "    }\n",
       "\n",
       "    .dataframe thead th {\n",
       "        text-align: right;\n",
       "    }\n",
       "</style>\n",
       "<table border=\"1\" class=\"dataframe\">\n",
       "  <thead>\n",
       "    <tr style=\"text-align: right;\">\n",
       "      <th></th>\n",
       "      <th>0</th>\n",
       "      <th>1</th>\n",
       "      <th>2</th>\n",
       "      <th>3</th>\n",
       "      <th>4</th>\n",
       "      <th>5</th>\n",
       "      <th>6</th>\n",
       "      <th>7</th>\n",
       "      <th>8</th>\n",
       "      <th>9</th>\n",
       "      <th>...</th>\n",
       "      <th>100</th>\n",
       "      <th>101</th>\n",
       "      <th>102</th>\n",
       "      <th>103</th>\n",
       "      <th>104</th>\n",
       "      <th>105</th>\n",
       "      <th>106</th>\n",
       "      <th>107</th>\n",
       "      <th>108</th>\n",
       "      <th>109</th>\n",
       "    </tr>\n",
       "  </thead>\n",
       "  <tbody>\n",
       "    <tr>\n",
       "      <th>0</th>\n",
       "      <td>1.0</td>\n",
       "      <td>1.0</td>\n",
       "      <td>1.0</td>\n",
       "      <td>0.0</td>\n",
       "      <td>1.0</td>\n",
       "      <td>0.0</td>\n",
       "      <td>0.0</td>\n",
       "      <td>1.0</td>\n",
       "      <td>0.0</td>\n",
       "      <td>1.0</td>\n",
       "      <td>...</td>\n",
       "      <td>0.0</td>\n",
       "      <td>0.0</td>\n",
       "      <td>1.0</td>\n",
       "      <td>0.0</td>\n",
       "      <td>0.0</td>\n",
       "      <td>0.0</td>\n",
       "      <td>0.0</td>\n",
       "      <td>0.0</td>\n",
       "      <td>1.0</td>\n",
       "      <td>0.0</td>\n",
       "    </tr>\n",
       "    <tr>\n",
       "      <th>1</th>\n",
       "      <td>0.0</td>\n",
       "      <td>0.0</td>\n",
       "      <td>1.0</td>\n",
       "      <td>0.0</td>\n",
       "      <td>0.0</td>\n",
       "      <td>0.0</td>\n",
       "      <td>0.0</td>\n",
       "      <td>1.0</td>\n",
       "      <td>1.0</td>\n",
       "      <td>0.0</td>\n",
       "      <td>...</td>\n",
       "      <td>1.0</td>\n",
       "      <td>0.0</td>\n",
       "      <td>0.0</td>\n",
       "      <td>0.0</td>\n",
       "      <td>0.0</td>\n",
       "      <td>0.0</td>\n",
       "      <td>0.0</td>\n",
       "      <td>0.0</td>\n",
       "      <td>1.0</td>\n",
       "      <td>0.0</td>\n",
       "    </tr>\n",
       "    <tr>\n",
       "      <th>2</th>\n",
       "      <td>0.0</td>\n",
       "      <td>1.0</td>\n",
       "      <td>0.0</td>\n",
       "      <td>0.0</td>\n",
       "      <td>1.0</td>\n",
       "      <td>0.0</td>\n",
       "      <td>0.0</td>\n",
       "      <td>1.0</td>\n",
       "      <td>1.0</td>\n",
       "      <td>0.0</td>\n",
       "      <td>...</td>\n",
       "      <td>1.0</td>\n",
       "      <td>0.0</td>\n",
       "      <td>0.0</td>\n",
       "      <td>0.0</td>\n",
       "      <td>0.0</td>\n",
       "      <td>0.0</td>\n",
       "      <td>0.0</td>\n",
       "      <td>0.0</td>\n",
       "      <td>1.0</td>\n",
       "      <td>0.0</td>\n",
       "    </tr>\n",
       "    <tr>\n",
       "      <th>3</th>\n",
       "      <td>1.0</td>\n",
       "      <td>0.0</td>\n",
       "      <td>0.0</td>\n",
       "      <td>0.0</td>\n",
       "      <td>1.0</td>\n",
       "      <td>0.0</td>\n",
       "      <td>0.0</td>\n",
       "      <td>1.0</td>\n",
       "      <td>0.0</td>\n",
       "      <td>1.0</td>\n",
       "      <td>...</td>\n",
       "      <td>0.0</td>\n",
       "      <td>1.0</td>\n",
       "      <td>0.0</td>\n",
       "      <td>0.0</td>\n",
       "      <td>0.0</td>\n",
       "      <td>1.0</td>\n",
       "      <td>0.0</td>\n",
       "      <td>0.0</td>\n",
       "      <td>0.0</td>\n",
       "      <td>0.0</td>\n",
       "    </tr>\n",
       "    <tr>\n",
       "      <th>4</th>\n",
       "      <td>0.0</td>\n",
       "      <td>1.0</td>\n",
       "      <td>0.0</td>\n",
       "      <td>0.0</td>\n",
       "      <td>0.0</td>\n",
       "      <td>0.0</td>\n",
       "      <td>1.0</td>\n",
       "      <td>0.0</td>\n",
       "      <td>1.0</td>\n",
       "      <td>0.0</td>\n",
       "      <td>...</td>\n",
       "      <td>0.0</td>\n",
       "      <td>1.0</td>\n",
       "      <td>0.0</td>\n",
       "      <td>0.0</td>\n",
       "      <td>0.0</td>\n",
       "      <td>0.0</td>\n",
       "      <td>1.0</td>\n",
       "      <td>0.0</td>\n",
       "      <td>0.0</td>\n",
       "      <td>0.0</td>\n",
       "    </tr>\n",
       "  </tbody>\n",
       "</table>\n",
       "<p>5 rows × 110 columns</p>\n",
       "</div>"
      ],
      "text/plain": [
       "   0    1    2    3    4    5    6    7    8    9    ...  100  101  102  103  \\\n",
       "0  1.0  1.0  1.0  0.0  1.0  0.0  0.0  1.0  0.0  1.0  ...  0.0  0.0  1.0  0.0   \n",
       "1  0.0  0.0  1.0  0.0  0.0  0.0  0.0  1.0  1.0  0.0  ...  1.0  0.0  0.0  0.0   \n",
       "2  0.0  1.0  0.0  0.0  1.0  0.0  0.0  1.0  1.0  0.0  ...  1.0  0.0  0.0  0.0   \n",
       "3  1.0  0.0  0.0  0.0  1.0  0.0  0.0  1.0  0.0  1.0  ...  0.0  1.0  0.0  0.0   \n",
       "4  0.0  1.0  0.0  0.0  0.0  0.0  1.0  0.0  1.0  0.0  ...  0.0  1.0  0.0  0.0   \n",
       "\n",
       "   104  105  106  107  108  109  \n",
       "0  0.0  0.0  0.0  0.0  1.0  0.0  \n",
       "1  0.0  0.0  0.0  0.0  1.0  0.0  \n",
       "2  0.0  0.0  0.0  0.0  1.0  0.0  \n",
       "3  0.0  1.0  0.0  0.0  0.0  0.0  \n",
       "4  0.0  0.0  1.0  0.0  0.0  0.0  \n",
       "\n",
       "[5 rows x 110 columns]"
      ]
     },
     "execution_count": 1341,
     "metadata": {},
     "output_type": "execute_result"
    }
   ],
   "source": [
    "pd.DataFrame(x_test).head()"
   ]
  },
  {
   "cell_type": "markdown",
   "metadata": {},
   "source": [
    "# Preprocessing ``test.csv`` (10 points)"
   ]
  },
  {
   "cell_type": "code",
   "execution_count": 1342,
   "metadata": {},
   "outputs": [],
   "source": [
    "df_test = pd.read_csv('test.csv')"
   ]
  },
  {
   "cell_type": "code",
   "execution_count": 1343,
   "metadata": {},
   "outputs": [
    {
     "data": {
      "text/html": [
       "<div>\n",
       "<style scoped>\n",
       "    .dataframe tbody tr th:only-of-type {\n",
       "        vertical-align: middle;\n",
       "    }\n",
       "\n",
       "    .dataframe tbody tr th {\n",
       "        vertical-align: top;\n",
       "    }\n",
       "\n",
       "    .dataframe thead th {\n",
       "        text-align: right;\n",
       "    }\n",
       "</style>\n",
       "<table border=\"1\" class=\"dataframe\">\n",
       "  <thead>\n",
       "    <tr style=\"text-align: right;\">\n",
       "      <th></th>\n",
       "      <th>destination</th>\n",
       "      <th>passanger</th>\n",
       "      <th>weather</th>\n",
       "      <th>temperature</th>\n",
       "      <th>time</th>\n",
       "      <th>coupon</th>\n",
       "      <th>expiration</th>\n",
       "      <th>gender</th>\n",
       "      <th>age</th>\n",
       "      <th>maritalStatus</th>\n",
       "      <th>...</th>\n",
       "      <th>Bar</th>\n",
       "      <th>CoffeeHouse</th>\n",
       "      <th>CarryAway</th>\n",
       "      <th>RestaurantLessThan20</th>\n",
       "      <th>Restaurant20To50</th>\n",
       "      <th>toCoupon_GEQ5min</th>\n",
       "      <th>toCoupon_GEQ15min</th>\n",
       "      <th>toCoupon_GEQ25min</th>\n",
       "      <th>direction_same</th>\n",
       "      <th>direction_opp</th>\n",
       "    </tr>\n",
       "  </thead>\n",
       "  <tbody>\n",
       "    <tr>\n",
       "      <th>0</th>\n",
       "      <td>No Urgent Place</td>\n",
       "      <td>Friend(s)</td>\n",
       "      <td>Sunny</td>\n",
       "      <td>80.0</td>\n",
       "      <td>10PM</td>\n",
       "      <td>Coffee House</td>\n",
       "      <td>1d</td>\n",
       "      <td>Male</td>\n",
       "      <td>26</td>\n",
       "      <td>Single</td>\n",
       "      <td>...</td>\n",
       "      <td>never</td>\n",
       "      <td>1~3</td>\n",
       "      <td>4~8</td>\n",
       "      <td>less1</td>\n",
       "      <td>never</td>\n",
       "      <td>1</td>\n",
       "      <td>1</td>\n",
       "      <td>0</td>\n",
       "      <td>0</td>\n",
       "      <td>1</td>\n",
       "    </tr>\n",
       "    <tr>\n",
       "      <th>1</th>\n",
       "      <td>No Urgent Place</td>\n",
       "      <td>Friend(s)</td>\n",
       "      <td>Sunny</td>\n",
       "      <td>55.0</td>\n",
       "      <td>2PM</td>\n",
       "      <td>Coffee House</td>\n",
       "      <td>2h</td>\n",
       "      <td>Male</td>\n",
       "      <td>21</td>\n",
       "      <td>Single</td>\n",
       "      <td>...</td>\n",
       "      <td>1~3</td>\n",
       "      <td>less1</td>\n",
       "      <td>1~3</td>\n",
       "      <td>1~3</td>\n",
       "      <td>less1</td>\n",
       "      <td>1</td>\n",
       "      <td>0</td>\n",
       "      <td>0</td>\n",
       "      <td>0</td>\n",
       "      <td>1</td>\n",
       "    </tr>\n",
       "    <tr>\n",
       "      <th>2</th>\n",
       "      <td>No Urgent Place</td>\n",
       "      <td>Kid(s)</td>\n",
       "      <td>Snowy</td>\n",
       "      <td>30.0</td>\n",
       "      <td>6PM</td>\n",
       "      <td>Bar</td>\n",
       "      <td>1d</td>\n",
       "      <td>Female</td>\n",
       "      <td>50plus</td>\n",
       "      <td>Married partner</td>\n",
       "      <td>...</td>\n",
       "      <td>1~3</td>\n",
       "      <td>4~8</td>\n",
       "      <td>NaN</td>\n",
       "      <td>4~8</td>\n",
       "      <td>4~8</td>\n",
       "      <td>1</td>\n",
       "      <td>1</td>\n",
       "      <td>0</td>\n",
       "      <td>0</td>\n",
       "      <td>1</td>\n",
       "    </tr>\n",
       "    <tr>\n",
       "      <th>3</th>\n",
       "      <td>No Urgent Place</td>\n",
       "      <td>Partner</td>\n",
       "      <td>Sunny</td>\n",
       "      <td>999.0</td>\n",
       "      <td>6PM</td>\n",
       "      <td>Restaurant(&lt;20)</td>\n",
       "      <td>2h</td>\n",
       "      <td>Female</td>\n",
       "      <td>21</td>\n",
       "      <td>Unmarried partner</td>\n",
       "      <td>...</td>\n",
       "      <td>1~3</td>\n",
       "      <td>1~3</td>\n",
       "      <td>1~3</td>\n",
       "      <td>1~3</td>\n",
       "      <td>1~3</td>\n",
       "      <td>1</td>\n",
       "      <td>0</td>\n",
       "      <td>0</td>\n",
       "      <td>0</td>\n",
       "      <td>1</td>\n",
       "    </tr>\n",
       "    <tr>\n",
       "      <th>4</th>\n",
       "      <td>Home</td>\n",
       "      <td>Alone</td>\n",
       "      <td>Snowy</td>\n",
       "      <td>30.0</td>\n",
       "      <td>10PM</td>\n",
       "      <td>Restaurant(&lt;20)</td>\n",
       "      <td>2h</td>\n",
       "      <td>Female</td>\n",
       "      <td>50plus</td>\n",
       "      <td>Single</td>\n",
       "      <td>...</td>\n",
       "      <td>never</td>\n",
       "      <td>1~3</td>\n",
       "      <td>less1</td>\n",
       "      <td>1~3</td>\n",
       "      <td>less1</td>\n",
       "      <td>1</td>\n",
       "      <td>1</td>\n",
       "      <td>1</td>\n",
       "      <td>0</td>\n",
       "      <td>1</td>\n",
       "    </tr>\n",
       "  </tbody>\n",
       "</table>\n",
       "<p>5 rows × 25 columns</p>\n",
       "</div>"
      ],
      "text/plain": [
       "       destination  passanger weather  temperature  time           coupon  \\\n",
       "0  No Urgent Place  Friend(s)   Sunny         80.0  10PM     Coffee House   \n",
       "1  No Urgent Place  Friend(s)   Sunny         55.0   2PM     Coffee House   \n",
       "2  No Urgent Place     Kid(s)   Snowy         30.0   6PM              Bar   \n",
       "3  No Urgent Place    Partner   Sunny        999.0   6PM  Restaurant(<20)   \n",
       "4             Home      Alone   Snowy         30.0  10PM  Restaurant(<20)   \n",
       "\n",
       "  expiration  gender     age      maritalStatus  ...    Bar CoffeeHouse  \\\n",
       "0         1d    Male      26             Single  ...  never         1~3   \n",
       "1         2h    Male      21             Single  ...    1~3       less1   \n",
       "2         1d  Female  50plus    Married partner  ...    1~3         4~8   \n",
       "3         2h  Female      21  Unmarried partner  ...    1~3         1~3   \n",
       "4         2h  Female  50plus             Single  ...  never         1~3   \n",
       "\n",
       "  CarryAway RestaurantLessThan20 Restaurant20To50 toCoupon_GEQ5min  \\\n",
       "0       4~8                less1            never                1   \n",
       "1       1~3                  1~3            less1                1   \n",
       "2       NaN                  4~8              4~8                1   \n",
       "3       1~3                  1~3              1~3                1   \n",
       "4     less1                  1~3            less1                1   \n",
       "\n",
       "  toCoupon_GEQ15min toCoupon_GEQ25min direction_same direction_opp  \n",
       "0                 1                 0              0             1  \n",
       "1                 0                 0              0             1  \n",
       "2                 1                 0              0             1  \n",
       "3                 0                 0              0             1  \n",
       "4                 1                 1              0             1  \n",
       "\n",
       "[5 rows x 25 columns]"
      ]
     },
     "execution_count": 1343,
     "metadata": {},
     "output_type": "execute_result"
    }
   ],
   "source": [
    "df_test.head()"
   ]
  },
  {
   "cell_type": "code",
   "execution_count": 1344,
   "metadata": {},
   "outputs": [
    {
     "data": {
      "text/html": [
       "<div>\n",
       "<style scoped>\n",
       "    .dataframe tbody tr th:only-of-type {\n",
       "        vertical-align: middle;\n",
       "    }\n",
       "\n",
       "    .dataframe tbody tr th {\n",
       "        vertical-align: top;\n",
       "    }\n",
       "\n",
       "    .dataframe thead th {\n",
       "        text-align: right;\n",
       "    }\n",
       "</style>\n",
       "<table border=\"1\" class=\"dataframe\">\n",
       "  <thead>\n",
       "    <tr style=\"text-align: right;\">\n",
       "      <th></th>\n",
       "      <th>destination</th>\n",
       "      <th>passanger</th>\n",
       "      <th>weather</th>\n",
       "      <th>temperature</th>\n",
       "      <th>time</th>\n",
       "      <th>coupon</th>\n",
       "      <th>expiration</th>\n",
       "      <th>gender</th>\n",
       "      <th>age</th>\n",
       "      <th>maritalStatus</th>\n",
       "      <th>...</th>\n",
       "      <th>Bar</th>\n",
       "      <th>CoffeeHouse</th>\n",
       "      <th>CarryAway</th>\n",
       "      <th>RestaurantLessThan20</th>\n",
       "      <th>Restaurant20To50</th>\n",
       "      <th>toCoupon_GEQ5min</th>\n",
       "      <th>toCoupon_GEQ15min</th>\n",
       "      <th>toCoupon_GEQ25min</th>\n",
       "      <th>direction_same</th>\n",
       "      <th>direction_opp</th>\n",
       "    </tr>\n",
       "  </thead>\n",
       "  <tbody>\n",
       "    <tr>\n",
       "      <th>788</th>\n",
       "      <td>No Urgent Place</td>\n",
       "      <td>Alone</td>\n",
       "      <td>Rainy</td>\n",
       "      <td>55.0</td>\n",
       "      <td>2PM</td>\n",
       "      <td>Carry out &amp; Take away</td>\n",
       "      <td>2h</td>\n",
       "      <td>Male</td>\n",
       "      <td>21</td>\n",
       "      <td>Single</td>\n",
       "      <td>...</td>\n",
       "      <td>1~3</td>\n",
       "      <td>4~8</td>\n",
       "      <td>1~3</td>\n",
       "      <td>1~3</td>\n",
       "      <td>less1</td>\n",
       "      <td>1</td>\n",
       "      <td>0</td>\n",
       "      <td>0</td>\n",
       "      <td>0</td>\n",
       "      <td>1</td>\n",
       "    </tr>\n",
       "    <tr>\n",
       "      <th>789</th>\n",
       "      <td>No Urgent Place</td>\n",
       "      <td>Friend(s)</td>\n",
       "      <td>Sunny</td>\n",
       "      <td>80.0</td>\n",
       "      <td>10AM</td>\n",
       "      <td>Carry out &amp; Take away</td>\n",
       "      <td>2h</td>\n",
       "      <td>Female</td>\n",
       "      <td>50plus</td>\n",
       "      <td>Married partner</td>\n",
       "      <td>...</td>\n",
       "      <td>less1</td>\n",
       "      <td>never</td>\n",
       "      <td>gt8</td>\n",
       "      <td>4~8</td>\n",
       "      <td>1~3</td>\n",
       "      <td>1</td>\n",
       "      <td>1</td>\n",
       "      <td>0</td>\n",
       "      <td>0</td>\n",
       "      <td>1</td>\n",
       "    </tr>\n",
       "    <tr>\n",
       "      <th>790</th>\n",
       "      <td>No Urgent Place</td>\n",
       "      <td>Friend(s)</td>\n",
       "      <td>Sunny</td>\n",
       "      <td>80.0</td>\n",
       "      <td>6PM</td>\n",
       "      <td>Coffee House</td>\n",
       "      <td>2h</td>\n",
       "      <td>Male</td>\n",
       "      <td>50plus</td>\n",
       "      <td>Divorced</td>\n",
       "      <td>...</td>\n",
       "      <td>NaN</td>\n",
       "      <td>NaN</td>\n",
       "      <td>NaN</td>\n",
       "      <td>NaN</td>\n",
       "      <td>NaN</td>\n",
       "      <td>1</td>\n",
       "      <td>0</td>\n",
       "      <td>0</td>\n",
       "      <td>0</td>\n",
       "      <td>1</td>\n",
       "    </tr>\n",
       "    <tr>\n",
       "      <th>791</th>\n",
       "      <td>Work</td>\n",
       "      <td>Alone</td>\n",
       "      <td>Sunny</td>\n",
       "      <td>55.0</td>\n",
       "      <td>7AM</td>\n",
       "      <td>Bar</td>\n",
       "      <td>1d</td>\n",
       "      <td>Male</td>\n",
       "      <td>50plus</td>\n",
       "      <td>Unmarried partner</td>\n",
       "      <td>...</td>\n",
       "      <td>never</td>\n",
       "      <td>4~8</td>\n",
       "      <td>4~8</td>\n",
       "      <td>1~3</td>\n",
       "      <td>less1</td>\n",
       "      <td>1</td>\n",
       "      <td>1</td>\n",
       "      <td>1</td>\n",
       "      <td>0</td>\n",
       "      <td>1</td>\n",
       "    </tr>\n",
       "    <tr>\n",
       "      <th>792</th>\n",
       "      <td>No Urgent Place</td>\n",
       "      <td>Partner</td>\n",
       "      <td>Sunny</td>\n",
       "      <td>80.0</td>\n",
       "      <td>10AM</td>\n",
       "      <td>Restaurant(20-50)</td>\n",
       "      <td>2h</td>\n",
       "      <td>Female</td>\n",
       "      <td>below21</td>\n",
       "      <td>Unmarried partner</td>\n",
       "      <td>...</td>\n",
       "      <td>never</td>\n",
       "      <td>1~3</td>\n",
       "      <td>1~3</td>\n",
       "      <td>4~8</td>\n",
       "      <td>1~3</td>\n",
       "      <td>1</td>\n",
       "      <td>0</td>\n",
       "      <td>0</td>\n",
       "      <td>0</td>\n",
       "      <td>1</td>\n",
       "    </tr>\n",
       "  </tbody>\n",
       "</table>\n",
       "<p>5 rows × 25 columns</p>\n",
       "</div>"
      ],
      "text/plain": [
       "         destination  passanger weather  temperature  time  \\\n",
       "788  No Urgent Place      Alone   Rainy         55.0   2PM   \n",
       "789  No Urgent Place  Friend(s)   Sunny         80.0  10AM   \n",
       "790  No Urgent Place  Friend(s)   Sunny         80.0   6PM   \n",
       "791             Work      Alone   Sunny         55.0   7AM   \n",
       "792  No Urgent Place    Partner   Sunny         80.0  10AM   \n",
       "\n",
       "                    coupon expiration  gender      age      maritalStatus  \\\n",
       "788  Carry out & Take away         2h    Male       21             Single   \n",
       "789  Carry out & Take away         2h  Female   50plus    Married partner   \n",
       "790           Coffee House         2h    Male   50plus           Divorced   \n",
       "791                    Bar         1d    Male   50plus  Unmarried partner   \n",
       "792      Restaurant(20-50)         2h  Female  below21  Unmarried partner   \n",
       "\n",
       "     ...    Bar CoffeeHouse CarryAway RestaurantLessThan20 Restaurant20To50  \\\n",
       "788  ...    1~3         4~8       1~3                  1~3            less1   \n",
       "789  ...  less1       never       gt8                  4~8              1~3   \n",
       "790  ...    NaN         NaN       NaN                  NaN              NaN   \n",
       "791  ...  never         4~8       4~8                  1~3            less1   \n",
       "792  ...  never         1~3       1~3                  4~8              1~3   \n",
       "\n",
       "    toCoupon_GEQ5min toCoupon_GEQ15min toCoupon_GEQ25min direction_same  \\\n",
       "788                1                 0                 0              0   \n",
       "789                1                 1                 0              0   \n",
       "790                1                 0                 0              0   \n",
       "791                1                 1                 1              0   \n",
       "792                1                 0                 0              0   \n",
       "\n",
       "    direction_opp  \n",
       "788             1  \n",
       "789             1  \n",
       "790             1  \n",
       "791             1  \n",
       "792             1  \n",
       "\n",
       "[5 rows x 25 columns]"
      ]
     },
     "execution_count": 1344,
     "metadata": {},
     "output_type": "execute_result"
    }
   ],
   "source": [
    "df_test.tail()"
   ]
  },
  {
   "cell_type": "markdown",
   "metadata": {},
   "source": [
    "### Dataset's Shape"
   ]
  },
  {
   "cell_type": "code",
   "execution_count": 1345,
   "metadata": {},
   "outputs": [
    {
     "name": "stdout",
     "output_type": "stream",
     "text": [
      "Total Number of Columns:  25\n",
      "Total Number of Rows:  793\n"
     ]
    }
   ],
   "source": [
    "print(\"Total Number of Columns: \", df_test.shape[1])\n",
    "print(\"Total Number of Rows: \", df_test.shape[0])"
   ]
  },
  {
   "cell_type": "markdown",
   "metadata": {},
   "source": [
    "### General Information about dataset"
   ]
  },
  {
   "cell_type": "code",
   "execution_count": 1346,
   "metadata": {},
   "outputs": [
    {
     "name": "stdout",
     "output_type": "stream",
     "text": [
      "<class 'pandas.core.frame.DataFrame'>\n",
      "RangeIndex: 793 entries, 0 to 792\n",
      "Data columns (total 25 columns):\n",
      " #   Column                Non-Null Count  Dtype  \n",
      "---  ------                --------------  -----  \n",
      " 0   destination           793 non-null    object \n",
      " 1   passanger             793 non-null    object \n",
      " 2   weather               779 non-null    object \n",
      " 3   temperature           780 non-null    float64\n",
      " 4   time                  793 non-null    object \n",
      " 5   coupon                793 non-null    object \n",
      " 6   expiration            793 non-null    object \n",
      " 7   gender                779 non-null    object \n",
      " 8   age                   781 non-null    object \n",
      " 9   maritalStatus         793 non-null    object \n",
      " 10  has_children          777 non-null    float64\n",
      " 11  education             793 non-null    object \n",
      " 12  occupation            793 non-null    object \n",
      " 13  income                793 non-null    object \n",
      " 14  car                   9 non-null      object \n",
      " 15  Bar                   784 non-null    object \n",
      " 16  CoffeeHouse           777 non-null    object \n",
      " 17  CarryAway             780 non-null    object \n",
      " 18  RestaurantLessThan20  785 non-null    object \n",
      " 19  Restaurant20To50      780 non-null    object \n",
      " 20  toCoupon_GEQ5min      793 non-null    int64  \n",
      " 21  toCoupon_GEQ15min     793 non-null    int64  \n",
      " 22  toCoupon_GEQ25min     793 non-null    int64  \n",
      " 23  direction_same        793 non-null    int64  \n",
      " 24  direction_opp         793 non-null    int64  \n",
      "dtypes: float64(2), int64(5), object(18)\n",
      "memory usage: 155.0+ KB\n"
     ]
    }
   ],
   "source": [
    "df_test.info()"
   ]
  },
  {
   "cell_type": "markdown",
   "metadata": {},
   "source": [
    "We can see that there are some null values in the dataset."
   ]
  },
  {
   "cell_type": "code",
   "execution_count": 1347,
   "metadata": {},
   "outputs": [
    {
     "name": "stdout",
     "output_type": "stream",
     "text": [
      "Total number of Null Values:  912\n"
     ]
    }
   ],
   "source": [
    "print(\"Total number of Null Values: \", df_test.isnull().sum().sum())"
   ]
  },
  {
   "cell_type": "markdown",
   "metadata": {},
   "source": [
    "### Various descriptive statistics on the DataFrame"
   ]
  },
  {
   "cell_type": "code",
   "execution_count": 1348,
   "metadata": {},
   "outputs": [
    {
     "data": {
      "text/html": [
       "<div>\n",
       "<style scoped>\n",
       "    .dataframe tbody tr th:only-of-type {\n",
       "        vertical-align: middle;\n",
       "    }\n",
       "\n",
       "    .dataframe tbody tr th {\n",
       "        vertical-align: top;\n",
       "    }\n",
       "\n",
       "    .dataframe thead th {\n",
       "        text-align: right;\n",
       "    }\n",
       "</style>\n",
       "<table border=\"1\" class=\"dataframe\">\n",
       "  <thead>\n",
       "    <tr style=\"text-align: right;\">\n",
       "      <th></th>\n",
       "      <th>temperature</th>\n",
       "      <th>has_children</th>\n",
       "      <th>toCoupon_GEQ5min</th>\n",
       "      <th>toCoupon_GEQ15min</th>\n",
       "      <th>toCoupon_GEQ25min</th>\n",
       "      <th>direction_same</th>\n",
       "      <th>direction_opp</th>\n",
       "    </tr>\n",
       "  </thead>\n",
       "  <tbody>\n",
       "    <tr>\n",
       "      <th>count</th>\n",
       "      <td>780.000000</td>\n",
       "      <td>777.000000</td>\n",
       "      <td>793.0</td>\n",
       "      <td>793.000000</td>\n",
       "      <td>793.000000</td>\n",
       "      <td>793.000000</td>\n",
       "      <td>793.000000</td>\n",
       "    </tr>\n",
       "    <tr>\n",
       "      <th>mean</th>\n",
       "      <td>90.720513</td>\n",
       "      <td>0.437580</td>\n",
       "      <td>1.0</td>\n",
       "      <td>0.562421</td>\n",
       "      <td>0.129887</td>\n",
       "      <td>0.208071</td>\n",
       "      <td>0.791929</td>\n",
       "    </tr>\n",
       "    <tr>\n",
       "      <th>std</th>\n",
       "      <td>159.567102</td>\n",
       "      <td>0.496408</td>\n",
       "      <td>0.0</td>\n",
       "      <td>0.496401</td>\n",
       "      <td>0.336391</td>\n",
       "      <td>0.406184</td>\n",
       "      <td>0.406184</td>\n",
       "    </tr>\n",
       "    <tr>\n",
       "      <th>min</th>\n",
       "      <td>30.000000</td>\n",
       "      <td>0.000000</td>\n",
       "      <td>1.0</td>\n",
       "      <td>0.000000</td>\n",
       "      <td>0.000000</td>\n",
       "      <td>0.000000</td>\n",
       "      <td>0.000000</td>\n",
       "    </tr>\n",
       "    <tr>\n",
       "      <th>25%</th>\n",
       "      <td>55.000000</td>\n",
       "      <td>0.000000</td>\n",
       "      <td>1.0</td>\n",
       "      <td>0.000000</td>\n",
       "      <td>0.000000</td>\n",
       "      <td>0.000000</td>\n",
       "      <td>1.000000</td>\n",
       "    </tr>\n",
       "    <tr>\n",
       "      <th>50%</th>\n",
       "      <td>80.000000</td>\n",
       "      <td>0.000000</td>\n",
       "      <td>1.0</td>\n",
       "      <td>1.000000</td>\n",
       "      <td>0.000000</td>\n",
       "      <td>0.000000</td>\n",
       "      <td>1.000000</td>\n",
       "    </tr>\n",
       "    <tr>\n",
       "      <th>75%</th>\n",
       "      <td>80.000000</td>\n",
       "      <td>1.000000</td>\n",
       "      <td>1.0</td>\n",
       "      <td>1.000000</td>\n",
       "      <td>0.000000</td>\n",
       "      <td>0.000000</td>\n",
       "      <td>1.000000</td>\n",
       "    </tr>\n",
       "    <tr>\n",
       "      <th>max</th>\n",
       "      <td>999.000000</td>\n",
       "      <td>1.000000</td>\n",
       "      <td>1.0</td>\n",
       "      <td>1.000000</td>\n",
       "      <td>1.000000</td>\n",
       "      <td>1.000000</td>\n",
       "      <td>1.000000</td>\n",
       "    </tr>\n",
       "  </tbody>\n",
       "</table>\n",
       "</div>"
      ],
      "text/plain": [
       "       temperature  has_children  toCoupon_GEQ5min  toCoupon_GEQ15min  \\\n",
       "count   780.000000    777.000000             793.0         793.000000   \n",
       "mean     90.720513      0.437580               1.0           0.562421   \n",
       "std     159.567102      0.496408               0.0           0.496401   \n",
       "min      30.000000      0.000000               1.0           0.000000   \n",
       "25%      55.000000      0.000000               1.0           0.000000   \n",
       "50%      80.000000      0.000000               1.0           1.000000   \n",
       "75%      80.000000      1.000000               1.0           1.000000   \n",
       "max     999.000000      1.000000               1.0           1.000000   \n",
       "\n",
       "       toCoupon_GEQ25min  direction_same  direction_opp  \n",
       "count         793.000000      793.000000     793.000000  \n",
       "mean            0.129887        0.208071       0.791929  \n",
       "std             0.336391        0.406184       0.406184  \n",
       "min             0.000000        0.000000       0.000000  \n",
       "25%             0.000000        0.000000       1.000000  \n",
       "50%             0.000000        0.000000       1.000000  \n",
       "75%             0.000000        0.000000       1.000000  \n",
       "max             1.000000        1.000000       1.000000  "
      ]
     },
     "execution_count": 1348,
     "metadata": {},
     "output_type": "execute_result"
    }
   ],
   "source": [
    "df_test.describe()"
   ]
  },
  {
   "cell_type": "markdown",
   "metadata": {},
   "source": [
    "### Handling Individual Features"
   ]
  },
  {
   "cell_type": "markdown",
   "metadata": {},
   "source": [
    "#### Feature: Destination"
   ]
  },
  {
   "cell_type": "code",
   "execution_count": 1349,
   "metadata": {},
   "outputs": [
    {
     "name": "stdout",
     "output_type": "stream",
     "text": [
      "Variable Statistics: \n"
     ]
    },
    {
     "data": {
      "text/plain": [
       "count                 793\n",
       "unique                  3\n",
       "top       No Urgent Place\n",
       "freq                  401\n",
       "Name: destination, dtype: object"
      ]
     },
     "execution_count": 1349,
     "metadata": {},
     "output_type": "execute_result"
    }
   ],
   "source": [
    "print(\"Variable Statistics: \")\n",
    "df_test['destination'].describe()"
   ]
  },
  {
   "cell_type": "code",
   "execution_count": 1350,
   "metadata": {},
   "outputs": [
    {
     "name": "stdout",
     "output_type": "stream",
     "text": [
      "Total number of null values: 0\n"
     ]
    }
   ],
   "source": [
    "print(\"Total number of null values:\", df_test['destination'].isnull().sum())"
   ]
  },
  {
   "cell_type": "code",
   "execution_count": 1351,
   "metadata": {},
   "outputs": [
    {
     "data": {
      "text/plain": [
       "<AxesSubplot:>"
      ]
     },
     "execution_count": 1351,
     "metadata": {},
     "output_type": "execute_result"
    },
    {
     "data": {
      "image/png": "[encoded data removed]",
      "text/plain": [
       "<Figure size 432x288 with 1 Axes>"
      ]
     },
     "metadata": {
      "needs_background": "light"
     },
     "output_type": "display_data"
    }
   ],
   "source": [
    "df_test['destination'].hist()"
   ]
  },
  {
   "cell_type": "markdown",
   "metadata": {},
   "source": [
    "We replace the column Destination with dummy variables."
   ]
  },
  {
   "cell_type": "code",
   "execution_count": 1352,
   "metadata": {},
   "outputs": [],
   "source": [
    "cols = pd.get_dummies(df_test['destination'], prefix= 'destination')\n",
    "df_test[cols.columns] = cols\n",
    "df_test.drop('destination', axis = 1, inplace = True)"
   ]
  },
  {
   "cell_type": "markdown",
   "metadata": {},
   "source": [
    "#### Feature: Passanger"
   ]
  },
  {
   "cell_type": "code",
   "execution_count": 1353,
   "metadata": {},
   "outputs": [
    {
     "name": "stdout",
     "output_type": "stream",
     "text": [
      "Variable Statistics: \n"
     ]
    },
    {
     "data": {
      "text/plain": [
       "count       793\n",
       "unique        4\n",
       "top       Alone\n",
       "freq        446\n",
       "Name: passanger, dtype: object"
      ]
     },
     "execution_count": 1353,
     "metadata": {},
     "output_type": "execute_result"
    }
   ],
   "source": [
    "print(\"Variable Statistics: \")\n",
    "df_test['passanger'].describe()"
   ]
  },
  {
   "cell_type": "code",
   "execution_count": 1354,
   "metadata": {},
   "outputs": [
    {
     "name": "stdout",
     "output_type": "stream",
     "text": [
      "Total number of null values: 0\n"
     ]
    }
   ],
   "source": [
    "print(\"Total number of null values:\", df_test['passanger'].isnull().sum())"
   ]
  },
  {
   "cell_type": "code",
   "execution_count": 1355,
   "metadata": {},
   "outputs": [
    {
     "data": {
      "text/plain": [
       "<AxesSubplot:>"
      ]
     },
     "execution_count": 1355,
     "metadata": {},
     "output_type": "execute_result"
    },
    {
     "data": {
      "image/png": "[encoded data removed]",
      "text/plain": [
       "<Figure size 432x288 with 1 Axes>"
      ]
     },
     "metadata": {
      "needs_background": "light"
     },
     "output_type": "display_data"
    }
   ],
   "source": [
    "df_test['passanger'].hist()"
   ]
  },
  {
   "cell_type": "markdown",
   "metadata": {},
   "source": [
    "We replace the column Passanger with dummy variables."
   ]
  },
  {
   "cell_type": "code",
   "execution_count": 1356,
   "metadata": {},
   "outputs": [],
   "source": [
    "cols = pd.get_dummies(df_test['passanger'], prefix= 'passanger')\n",
    "df_test[cols.columns] = cols\n",
    "df_test.drop('passanger', axis = 1, inplace = True)"
   ]
  },
  {
   "cell_type": "markdown",
   "metadata": {},
   "source": [
    "#### Feature: Weather"
   ]
  },
  {
   "cell_type": "code",
   "execution_count": 1357,
   "metadata": {},
   "outputs": [
    {
     "name": "stdout",
     "output_type": "stream",
     "text": [
      "Variable Statistics: \n"
     ]
    },
    {
     "data": {
      "text/plain": [
       "count       779\n",
       "unique        3\n",
       "top       Sunny\n",
       "freq        614\n",
       "Name: weather, dtype: object"
      ]
     },
     "execution_count": 1357,
     "metadata": {},
     "output_type": "execute_result"
    }
   ],
   "source": [
    "print(\"Variable Statistics: \")\n",
    "df_test['weather'].describe()"
   ]
  },
  {
   "cell_type": "code",
   "execution_count": 1358,
   "metadata": {},
   "outputs": [
    {
     "name": "stdout",
     "output_type": "stream",
     "text": [
      "Total number of null values: 14\n"
     ]
    }
   ],
   "source": [
    "print(\"Total number of null values:\", df_test['weather'].isnull().sum())"
   ]
  },
  {
   "cell_type": "code",
   "execution_count": 1359,
   "metadata": {},
   "outputs": [
    {
     "data": {
      "text/plain": [
       "<AxesSubplot:>"
      ]
     },
     "execution_count": 1359,
     "metadata": {},
     "output_type": "execute_result"
    },
    {
     "data": {
      "image/png": "[encoded data removed]",
      "text/plain": [
       "<Figure size 432x288 with 1 Axes>"
      ]
     },
     "metadata": {
      "needs_background": "light"
     },
     "output_type": "display_data"
    }
   ],
   "source": [
    "df_test['weather'].hist()"
   ]
  },
  {
   "cell_type": "markdown",
   "metadata": {},
   "source": [
    "Since the majority of weather is sunny, so we replace the missing values with mode."
   ]
  },
  {
   "cell_type": "code",
   "execution_count": 1360,
   "metadata": {},
   "outputs": [],
   "source": [
    "df_test['weather'] = df_test['weather'].fillna(df_test['weather'].mode()[0])"
   ]
  },
  {
   "cell_type": "markdown",
   "metadata": {},
   "source": [
    "We replace this column with dummy variables."
   ]
  },
  {
   "cell_type": "code",
   "execution_count": 1361,
   "metadata": {},
   "outputs": [],
   "source": [
    "cols = pd.get_dummies(df_test['weather'], prefix= 'weather')\n",
    "df_test[cols.columns] = cols\n",
    "df_test.drop('weather', axis = 1, inplace = True)"
   ]
  },
  {
   "cell_type": "markdown",
   "metadata": {},
   "source": [
    "#### Feature: Temperature"
   ]
  },
  {
   "cell_type": "code",
   "execution_count": 1362,
   "metadata": {},
   "outputs": [
    {
     "name": "stdout",
     "output_type": "stream",
     "text": [
      "Variable Statistics: \n"
     ]
    },
    {
     "data": {
      "text/plain": [
       "count    780.000000\n",
       "mean      90.720513\n",
       "std      159.567102\n",
       "min       30.000000\n",
       "25%       55.000000\n",
       "50%       80.000000\n",
       "75%       80.000000\n",
       "max      999.000000\n",
       "Name: temperature, dtype: float64"
      ]
     },
     "execution_count": 1362,
     "metadata": {},
     "output_type": "execute_result"
    }
   ],
   "source": [
    "print(\"Variable Statistics: \")\n",
    "df_test['temperature'].describe()"
   ]
  },
  {
   "cell_type": "code",
   "execution_count": 1363,
   "metadata": {},
   "outputs": [
    {
     "name": "stdout",
     "output_type": "stream",
     "text": [
      "Total number of null values: 13\n"
     ]
    }
   ],
   "source": [
    "print(\"Total number of null values:\", df_test['temperature'].isnull().sum())"
   ]
  },
  {
   "cell_type": "code",
   "execution_count": 1364,
   "metadata": {},
   "outputs": [
    {
     "data": {
      "text/plain": [
       "<AxesSubplot:>"
      ]
     },
     "execution_count": 1364,
     "metadata": {},
     "output_type": "execute_result"
    },
    {
     "data": {
      "image/png": "[encoded data removed]",
      "text/plain": [
       "<Figure size 432x288 with 1 Axes>"
      ]
     },
     "metadata": {
      "needs_background": "light"
     },
     "output_type": "display_data"
    }
   ],
   "source": [
    "df_test['temperature'].hist(bins = 80)"
   ]
  },
  {
   "cell_type": "markdown",
   "metadata": {},
   "source": [
    "Since the majority of temperature is 80, so we will replace the null values with mode."
   ]
  },
  {
   "cell_type": "code",
   "execution_count": 1365,
   "metadata": {},
   "outputs": [],
   "source": [
    "df_test['temperature'] = df_test['temperature'].fillna(df_test['temperature'].mode()[0])"
   ]
  },
  {
   "cell_type": "markdown",
   "metadata": {},
   "source": [
    "We replace this column with dummy variables."
   ]
  },
  {
   "cell_type": "code",
   "execution_count": 1366,
   "metadata": {},
   "outputs": [],
   "source": [
    "cols = pd.get_dummies(df_test['temperature'], prefix= 'temperature')\n",
    "df_test[cols.columns] = cols\n",
    "df_test.drop('temperature', axis = 1, inplace = True)"
   ]
  },
  {
   "cell_type": "markdown",
   "metadata": {},
   "source": [
    "#### Feature: Time"
   ]
  },
  {
   "cell_type": "code",
   "execution_count": 1367,
   "metadata": {},
   "outputs": [
    {
     "name": "stdout",
     "output_type": "stream",
     "text": [
      "Variable Statistics: \n"
     ]
    },
    {
     "data": {
      "text/plain": [
       "count     793\n",
       "unique      5\n",
       "top       6PM\n",
       "freq      210\n",
       "Name: time, dtype: object"
      ]
     },
     "execution_count": 1367,
     "metadata": {},
     "output_type": "execute_result"
    }
   ],
   "source": [
    "print(\"Variable Statistics: \")\n",
    "df_test['time'].describe()"
   ]
  },
  {
   "cell_type": "code",
   "execution_count": 1368,
   "metadata": {},
   "outputs": [
    {
     "name": "stdout",
     "output_type": "stream",
     "text": [
      "Total number of null values: 0\n"
     ]
    }
   ],
   "source": [
    "print(\"Total number of null values:\", df_test['time'].isnull().sum())"
   ]
  },
  {
   "cell_type": "code",
   "execution_count": 1369,
   "metadata": {},
   "outputs": [
    {
     "data": {
      "text/plain": [
       "<AxesSubplot:>"
      ]
     },
     "execution_count": 1369,
     "metadata": {},
     "output_type": "execute_result"
    },
    {
     "data": {
      "image/png": "[encoded data removed]",
      "text/plain": [
       "<Figure size 432x288 with 1 Axes>"
      ]
     },
     "metadata": {
      "needs_background": "light"
     },
     "output_type": "display_data"
    }
   ],
   "source": [
    "df_test['time'].hist()"
   ]
  },
  {
   "cell_type": "markdown",
   "metadata": {},
   "source": [
    "We replace this column with dummy variables."
   ]
  },
  {
   "cell_type": "code",
   "execution_count": 1370,
   "metadata": {},
   "outputs": [],
   "source": [
    "cols = pd.get_dummies(df_test['time'], prefix= 'time')\n",
    "df_test[cols.columns] = cols\n",
    "df_test.drop('time', axis = 1, inplace = True)"
   ]
  },
  {
   "cell_type": "markdown",
   "metadata": {},
   "source": [
    "#### Feature: Coupon"
   ]
  },
  {
   "cell_type": "code",
   "execution_count": 1371,
   "metadata": {},
   "outputs": [
    {
     "name": "stdout",
     "output_type": "stream",
     "text": [
      "Variable Statistics: \n"
     ]
    },
    {
     "data": {
      "text/plain": [
       "count              793\n",
       "unique               5\n",
       "top       Coffee House\n",
       "freq               262\n",
       "Name: coupon, dtype: object"
      ]
     },
     "execution_count": 1371,
     "metadata": {},
     "output_type": "execute_result"
    }
   ],
   "source": [
    "print(\"Variable Statistics: \")\n",
    "df_test['coupon'].describe()"
   ]
  },
  {
   "cell_type": "code",
   "execution_count": 1372,
   "metadata": {},
   "outputs": [
    {
     "name": "stdout",
     "output_type": "stream",
     "text": [
      "Total number of null values: 0\n"
     ]
    }
   ],
   "source": [
    "print(\"Total number of null values:\", df_test['coupon'].isnull().sum())"
   ]
  },
  {
   "cell_type": "code",
   "execution_count": 1373,
   "metadata": {},
   "outputs": [
    {
     "data": {
      "text/plain": [
       "<AxesSubplot:>"
      ]
     },
     "execution_count": 1373,
     "metadata": {},
     "output_type": "execute_result"
    },
    {
     "data": {
      "image/png": "[encoded data removed]",
      "text/plain": [
       "<Figure size 432x288 with 1 Axes>"
      ]
     },
     "metadata": {
      "needs_background": "light"
     },
     "output_type": "display_data"
    }
   ],
   "source": [
    "df_test['coupon'].hist()"
   ]
  },
  {
   "cell_type": "markdown",
   "metadata": {},
   "source": [
    "We replace this column with dummy variables."
   ]
  },
  {
   "cell_type": "code",
   "execution_count": 1374,
   "metadata": {},
   "outputs": [],
   "source": [
    "cols = pd.get_dummies(df_test['coupon'], prefix= 'coupon')\n",
    "df_test[cols.columns] = cols\n",
    "df_test.drop('coupon', axis = 1, inplace = True)"
   ]
  },
  {
   "cell_type": "markdown",
   "metadata": {},
   "source": [
    "#### Feature: Expiration"
   ]
  },
  {
   "cell_type": "code",
   "execution_count": 1375,
   "metadata": {},
   "outputs": [
    {
     "name": "stdout",
     "output_type": "stream",
     "text": [
      "Variable Statistics: \n"
     ]
    },
    {
     "data": {
      "text/plain": [
       "count     793\n",
       "unique      2\n",
       "top        1d\n",
       "freq      459\n",
       "Name: expiration, dtype: object"
      ]
     },
     "execution_count": 1375,
     "metadata": {},
     "output_type": "execute_result"
    }
   ],
   "source": [
    "print(\"Variable Statistics: \")\n",
    "df_test['expiration'].describe()"
   ]
  },
  {
   "cell_type": "code",
   "execution_count": 1376,
   "metadata": {},
   "outputs": [
    {
     "name": "stdout",
     "output_type": "stream",
     "text": [
      "Total number of null values: 0\n"
     ]
    }
   ],
   "source": [
    "print(\"Total number of null values:\", df_test['expiration'].isnull().sum())"
   ]
  },
  {
   "cell_type": "code",
   "execution_count": 1377,
   "metadata": {},
   "outputs": [
    {
     "data": {
      "text/plain": [
       "<AxesSubplot:>"
      ]
     },
     "execution_count": 1377,
     "metadata": {},
     "output_type": "execute_result"
    },
    {
     "data": {
      "image/png": "[encoded data removed]",
      "text/plain": [
       "<Figure size 432x288 with 1 Axes>"
      ]
     },
     "metadata": {
      "needs_background": "light"
     },
     "output_type": "display_data"
    }
   ],
   "source": [
    "df_test['expiration'].hist(bins =3)"
   ]
  },
  {
   "cell_type": "markdown",
   "metadata": {},
   "source": [
    "The frequent class in column Expiration is 1d, so we map 1d to 1 and 2h to 0."
   ]
  },
  {
   "cell_type": "code",
   "execution_count": 1378,
   "metadata": {},
   "outputs": [],
   "source": [
    "df_test['expiration'] = df_test['expiration'].map({'1d':1, '2h':0}).astype(int)"
   ]
  },
  {
   "cell_type": "markdown",
   "metadata": {},
   "source": [
    "#### Feature: Gender"
   ]
  },
  {
   "cell_type": "code",
   "execution_count": 1379,
   "metadata": {},
   "outputs": [
    {
     "name": "stdout",
     "output_type": "stream",
     "text": [
      "Variable Statistics: \n"
     ]
    },
    {
     "data": {
      "text/plain": [
       "count        779\n",
       "unique         2\n",
       "top       Female\n",
       "freq         391\n",
       "Name: gender, dtype: object"
      ]
     },
     "execution_count": 1379,
     "metadata": {},
     "output_type": "execute_result"
    }
   ],
   "source": [
    "print(\"Variable Statistics: \")\n",
    "df_test['gender'].describe()"
   ]
  },
  {
   "cell_type": "code",
   "execution_count": 1380,
   "metadata": {},
   "outputs": [
    {
     "name": "stdout",
     "output_type": "stream",
     "text": [
      "Total number of null values: 14\n"
     ]
    }
   ],
   "source": [
    "print(\"Total number of null values:\", df_test['gender'].isnull().sum())"
   ]
  },
  {
   "cell_type": "code",
   "execution_count": 1381,
   "metadata": {},
   "outputs": [
    {
     "data": {
      "text/plain": [
       "<AxesSubplot:>"
      ]
     },
     "execution_count": 1381,
     "metadata": {},
     "output_type": "execute_result"
    },
    {
     "data": {
      "image/png": "[encoded data removed]",
      "text/plain": [
       "<Figure size 432x288 with 1 Axes>"
      ]
     },
     "metadata": {
      "needs_background": "light"
     },
     "output_type": "display_data"
    }
   ],
   "source": [
    "df_test['gender'].hist(bins = 3)"
   ]
  },
  {
   "cell_type": "markdown",
   "metadata": {},
   "source": [
    "So we can see that there are majority of females, so we will replace the null values with mode."
   ]
  },
  {
   "cell_type": "code",
   "execution_count": 1382,
   "metadata": {},
   "outputs": [],
   "source": [
    "df_test['gender'] = df_test['gender'].fillna(df_test['gender'].mode()[0])"
   ]
  },
  {
   "cell_type": "markdown",
   "metadata": {},
   "source": [
    "So we can see that there are majority of females, so we will replace the null values with mode."
   ]
  },
  {
   "cell_type": "code",
   "execution_count": 1383,
   "metadata": {},
   "outputs": [],
   "source": [
    "df_test['gender'] = df_test['gender'].map({'Female':1, 'Male':0}).astype(int)"
   ]
  },
  {
   "cell_type": "markdown",
   "metadata": {},
   "source": [
    "#### Feature: Age"
   ]
  },
  {
   "cell_type": "code",
   "execution_count": 1384,
   "metadata": {},
   "outputs": [
    {
     "name": "stdout",
     "output_type": "stream",
     "text": [
      "Variable Statistics: \n"
     ]
    },
    {
     "data": {
      "text/plain": [
       "count     781\n",
       "unique      8\n",
       "top        21\n",
       "freq      162\n",
       "Name: age, dtype: object"
      ]
     },
     "execution_count": 1384,
     "metadata": {},
     "output_type": "execute_result"
    }
   ],
   "source": [
    "print(\"Variable Statistics: \")\n",
    "df_test['age'].describe()"
   ]
  },
  {
   "cell_type": "code",
   "execution_count": 1385,
   "metadata": {},
   "outputs": [
    {
     "name": "stdout",
     "output_type": "stream",
     "text": [
      "Total number of null values: 12\n"
     ]
    }
   ],
   "source": [
    "print(\"Total number of null values:\", df_test['age'].isnull().sum())"
   ]
  },
  {
   "cell_type": "code",
   "execution_count": 1386,
   "metadata": {},
   "outputs": [
    {
     "data": {
      "text/plain": [
       "<AxesSubplot:>"
      ]
     },
     "execution_count": 1386,
     "metadata": {},
     "output_type": "execute_result"
    },
    {
     "data": {
      "image/png": "[encoded data removed]",
      "text/plain": [
       "<Figure size 432x288 with 1 Axes>"
      ]
     },
     "metadata": {
      "needs_background": "light"
     },
     "output_type": "display_data"
    }
   ],
   "source": [
    "df_test['age'].hist(bins =20)"
   ]
  },
  {
   "cell_type": "markdown",
   "metadata": {},
   "source": [
    "So, we can clearly see that the majority of people are of 21 age, so we replace all the null values with mode"
   ]
  },
  {
   "cell_type": "code",
   "execution_count": 1387,
   "metadata": {},
   "outputs": [],
   "source": [
    "df_test['age'] = df_test['age'].fillna(df_test['age'].mode()[0])"
   ]
  },
  {
   "cell_type": "markdown",
   "metadata": {},
   "source": [
    "We replace this column with dummy variables."
   ]
  },
  {
   "cell_type": "code",
   "execution_count": 1388,
   "metadata": {},
   "outputs": [],
   "source": [
    "cols = pd.get_dummies(df_test['age'], prefix= 'age')\n",
    "df_test[cols.columns] = cols\n",
    "df_test.drop('age', axis = 1, inplace = True)"
   ]
  },
  {
   "cell_type": "markdown",
   "metadata": {},
   "source": [
    "#### Feature: Marital Status"
   ]
  },
  {
   "cell_type": "code",
   "execution_count": 1389,
   "metadata": {},
   "outputs": [
    {
     "name": "stdout",
     "output_type": "stream",
     "text": [
      "Variable Statistics: \n"
     ]
    },
    {
     "data": {
      "text/plain": [
       "count                 793\n",
       "unique                  5\n",
       "top       Married partner\n",
       "freq                  341\n",
       "Name: maritalStatus, dtype: object"
      ]
     },
     "execution_count": 1389,
     "metadata": {},
     "output_type": "execute_result"
    }
   ],
   "source": [
    "print(\"Variable Statistics: \")\n",
    "df_test['maritalStatus'].describe()"
   ]
  },
  {
   "cell_type": "code",
   "execution_count": 1390,
   "metadata": {},
   "outputs": [
    {
     "name": "stdout",
     "output_type": "stream",
     "text": [
      "Total number of null values: 0\n"
     ]
    }
   ],
   "source": [
    "print(\"Total number of null values:\", df_test['maritalStatus'].isnull().sum())"
   ]
  },
  {
   "cell_type": "code",
   "execution_count": 1391,
   "metadata": {},
   "outputs": [
    {
     "data": {
      "text/plain": [
       "<AxesSubplot:>"
      ]
     },
     "execution_count": 1391,
     "metadata": {},
     "output_type": "execute_result"
    },
    {
     "data": {
      "image/png": "[encoded data removed]",
      "text/plain": [
       "<Figure size 432x288 with 1 Axes>"
      ]
     },
     "metadata": {
      "needs_background": "light"
     },
     "output_type": "display_data"
    }
   ],
   "source": [
    "df_test['maritalStatus'].hist()"
   ]
  },
  {
   "cell_type": "markdown",
   "metadata": {},
   "source": [
    "We replace this column with dummy variables."
   ]
  },
  {
   "cell_type": "code",
   "execution_count": 1392,
   "metadata": {},
   "outputs": [],
   "source": [
    "cols = pd.get_dummies(df_test['maritalStatus'], prefix= 'maritalStatus')\n",
    "df_test[cols.columns] = cols\n",
    "df_test.drop('maritalStatus', axis = 1, inplace = True)"
   ]
  },
  {
   "cell_type": "markdown",
   "metadata": {},
   "source": [
    "#### Feature: Has Children"
   ]
  },
  {
   "cell_type": "code",
   "execution_count": 1393,
   "metadata": {},
   "outputs": [
    {
     "name": "stdout",
     "output_type": "stream",
     "text": [
      "Variable Statistics: \n"
     ]
    },
    {
     "data": {
      "text/plain": [
       "count    777.000000\n",
       "mean       0.437580\n",
       "std        0.496408\n",
       "min        0.000000\n",
       "25%        0.000000\n",
       "50%        0.000000\n",
       "75%        1.000000\n",
       "max        1.000000\n",
       "Name: has_children, dtype: float64"
      ]
     },
     "execution_count": 1393,
     "metadata": {},
     "output_type": "execute_result"
    }
   ],
   "source": [
    "print(\"Variable Statistics: \")\n",
    "df_test['has_children'].describe()"
   ]
  },
  {
   "cell_type": "code",
   "execution_count": 1394,
   "metadata": {},
   "outputs": [
    {
     "name": "stdout",
     "output_type": "stream",
     "text": [
      "Total number of null values: 16\n"
     ]
    }
   ],
   "source": [
    "print(\"Total number of null values:\", df_test['has_children'].isnull().sum())"
   ]
  },
  {
   "cell_type": "code",
   "execution_count": 1395,
   "metadata": {},
   "outputs": [
    {
     "data": {
      "text/plain": [
       "<AxesSubplot:>"
      ]
     },
     "execution_count": 1395,
     "metadata": {},
     "output_type": "execute_result"
    },
    {
     "data": {
      "image/png": "[encoded data removed]",
      "text/plain": [
       "<Figure size 432x288 with 1 Axes>"
      ]
     },
     "metadata": {
      "needs_background": "light"
     },
     "output_type": "display_data"
    }
   ],
   "source": [
    "df_test['has_children'].hist(bins=3)"
   ]
  },
  {
   "cell_type": "markdown",
   "metadata": {},
   "source": [
    "Since, the majority of people does not have children, so we will replace all the values with mode."
   ]
  },
  {
   "cell_type": "code",
   "execution_count": 1396,
   "metadata": {},
   "outputs": [],
   "source": [
    "df_test['has_children'] = df_test['has_children'].fillna(df_test['has_children'].mode()[0])"
   ]
  },
  {
   "cell_type": "markdown",
   "metadata": {},
   "source": [
    "#### Feature: Education"
   ]
  },
  {
   "cell_type": "code",
   "execution_count": 1397,
   "metadata": {},
   "outputs": [
    {
     "name": "stdout",
     "output_type": "stream",
     "text": [
      "Variable Statistics: \n"
     ]
    },
    {
     "data": {
      "text/plain": [
       "count                          793\n",
       "unique                           6\n",
       "top       Some college - no degree\n",
       "freq                           271\n",
       "Name: education, dtype: object"
      ]
     },
     "execution_count": 1397,
     "metadata": {},
     "output_type": "execute_result"
    }
   ],
   "source": [
    "print(\"Variable Statistics: \")\n",
    "df_test['education'].describe()"
   ]
  },
  {
   "cell_type": "code",
   "execution_count": 1398,
   "metadata": {},
   "outputs": [
    {
     "name": "stdout",
     "output_type": "stream",
     "text": [
      "Total number of null values: 0\n"
     ]
    }
   ],
   "source": [
    "print(\"Total number of null values:\", df_test['education'].isnull().sum())"
   ]
  },
  {
   "cell_type": "code",
   "execution_count": 1399,
   "metadata": {},
   "outputs": [
    {
     "data": {
      "text/plain": [
       "<AxesSubplot:>"
      ]
     },
     "execution_count": 1399,
     "metadata": {},
     "output_type": "execute_result"
    },
    {
     "data": {
      "image/png": "[encoded data removed]",
      "text/plain": [
       "<Figure size 432x288 with 1 Axes>"
      ]
     },
     "metadata": {
      "needs_background": "light"
     },
     "output_type": "display_data"
    }
   ],
   "source": [
    "df_test['education'].hist(xlabelsize=4)"
   ]
  },
  {
   "cell_type": "markdown",
   "metadata": {},
   "source": [
    "We replace this column with dummy variables."
   ]
  },
  {
   "cell_type": "code",
   "execution_count": 1400,
   "metadata": {},
   "outputs": [],
   "source": [
    "cols = pd.get_dummies(df_test['education'], prefix= 'education')\n",
    "df_test[cols.columns] = cols\n",
    "df_test.drop('education', axis = 1, inplace = True)"
   ]
  },
  {
   "cell_type": "markdown",
   "metadata": {},
   "source": [
    "#### Feature: Occupation"
   ]
  },
  {
   "cell_type": "code",
   "execution_count": 1401,
   "metadata": {},
   "outputs": [
    {
     "name": "stdout",
     "output_type": "stream",
     "text": [
      "Variable Statistics: \n"
     ]
    },
    {
     "data": {
      "text/plain": [
       "count            793\n",
       "unique            25\n",
       "top       Unemployed\n",
       "freq             112\n",
       "Name: occupation, dtype: object"
      ]
     },
     "execution_count": 1401,
     "metadata": {},
     "output_type": "execute_result"
    }
   ],
   "source": [
    "print(\"Variable Statistics: \")\n",
    "df_test['occupation'].describe()"
   ]
  },
  {
   "cell_type": "code",
   "execution_count": 1402,
   "metadata": {},
   "outputs": [
    {
     "name": "stdout",
     "output_type": "stream",
     "text": [
      "Total number of null values: 0\n"
     ]
    }
   ],
   "source": [
    "print(\"Total number of null values:\", df_test['occupation'].isnull().sum())"
   ]
  },
  {
   "cell_type": "code",
   "execution_count": 1403,
   "metadata": {},
   "outputs": [
    {
     "data": {
      "text/plain": [
       "<AxesSubplot:>"
      ]
     },
     "execution_count": 1403,
     "metadata": {},
     "output_type": "execute_result"
    },
    {
     "data": {
      "image/png": "[encoded data removed]",
      "text/plain": [
       "<Figure size 432x288 with 1 Axes>"
      ]
     },
     "metadata": {
      "needs_background": "light"
     },
     "output_type": "display_data"
    }
   ],
   "source": [
    "df_test['occupation'].hist(bins =80)"
   ]
  },
  {
   "cell_type": "markdown",
   "metadata": {},
   "source": [
    "We replace this column with dummy variables."
   ]
  },
  {
   "cell_type": "code",
   "execution_count": 1404,
   "metadata": {},
   "outputs": [],
   "source": [
    "cols = pd.get_dummies(df_test['occupation'], prefix= 'occupation')\n",
    "df_test[cols.columns] = cols\n",
    "df_test.drop('occupation', axis = 1, inplace = True)"
   ]
  },
  {
   "cell_type": "markdown",
   "metadata": {},
   "source": [
    "#### Feature: Income"
   ]
  },
  {
   "cell_type": "code",
   "execution_count": 1405,
   "metadata": {},
   "outputs": [
    {
     "name": "stdout",
     "output_type": "stream",
     "text": [
      "Variable Statistics: \n"
     ]
    },
    {
     "data": {
      "text/plain": [
       "count                 793\n",
       "unique                  9\n",
       "top       $25000 - $37499\n",
       "freq                  120\n",
       "Name: income, dtype: object"
      ]
     },
     "execution_count": 1405,
     "metadata": {},
     "output_type": "execute_result"
    }
   ],
   "source": [
    "print(\"Variable Statistics: \")\n",
    "df_test['income'].describe()"
   ]
  },
  {
   "cell_type": "code",
   "execution_count": 1406,
   "metadata": {},
   "outputs": [
    {
     "name": "stdout",
     "output_type": "stream",
     "text": [
      "Total number of null values: 0\n"
     ]
    }
   ],
   "source": [
    "print(\"Total number of null values:\", df_test['income'].isnull().sum())"
   ]
  },
  {
   "cell_type": "code",
   "execution_count": 1407,
   "metadata": {},
   "outputs": [
    {
     "data": {
      "text/plain": [
       "<AxesSubplot:>"
      ]
     },
     "execution_count": 1407,
     "metadata": {},
     "output_type": "execute_result"
    },
    {
     "data": {
      "image/png": "[encoded data removed]",
      "text/plain": [
       "<Figure size 432x288 with 1 Axes>"
      ]
     },
     "metadata": {
      "needs_background": "light"
     },
     "output_type": "display_data"
    }
   ],
   "source": [
    "df_test['income'].hist(bins = 20, xlabelsize=4)"
   ]
  },
  {
   "cell_type": "markdown",
   "metadata": {},
   "source": [
    "We replace this column with dummy variables."
   ]
  },
  {
   "cell_type": "code",
   "execution_count": 1408,
   "metadata": {},
   "outputs": [],
   "source": [
    "cols = pd.get_dummies(df_test['income'], prefix= 'income')\n",
    "df_test[cols.columns] = cols\n",
    "df_test.drop('income', axis = 1, inplace = True)"
   ]
  },
  {
   "cell_type": "markdown",
   "metadata": {},
   "source": [
    "#### Feature: Car"
   ]
  },
  {
   "cell_type": "code",
   "execution_count": 1409,
   "metadata": {},
   "outputs": [
    {
     "name": "stdout",
     "output_type": "stream",
     "text": [
      "Variable Statistics: \n"
     ]
    },
    {
     "data": {
      "text/plain": [
       "count                          9\n",
       "unique                         4\n",
       "top       Scooter and motorcycle\n",
       "freq                           4\n",
       "Name: car, dtype: object"
      ]
     },
     "execution_count": 1409,
     "metadata": {},
     "output_type": "execute_result"
    }
   ],
   "source": [
    "print(\"Variable Statistics: \")\n",
    "df_test['car'].describe()"
   ]
  },
  {
   "cell_type": "code",
   "execution_count": 1410,
   "metadata": {},
   "outputs": [
    {
     "name": "stdout",
     "output_type": "stream",
     "text": [
      "Total number of null values: 784\n"
     ]
    }
   ],
   "source": [
    "print(\"Total number of null values:\", df_test['car'].isnull().sum())"
   ]
  },
  {
   "cell_type": "code",
   "execution_count": 1411,
   "metadata": {},
   "outputs": [
    {
     "data": {
      "text/plain": [
       "<AxesSubplot:>"
      ]
     },
     "execution_count": 1411,
     "metadata": {},
     "output_type": "execute_result"
    },
    {
     "data": {
      "image/png": "[encoded data removed]",
      "text/plain": [
       "<Figure size 432x288 with 1 Axes>"
      ]
     },
     "metadata": {
      "needs_background": "light"
     },
     "output_type": "display_data"
    }
   ],
   "source": [
    "df_test['car'].hist()"
   ]
  },
  {
   "cell_type": "markdown",
   "metadata": {},
   "source": [
    "There way too many null values in this variable, so we can drop this feature."
   ]
  },
  {
   "cell_type": "code",
   "execution_count": 1412,
   "metadata": {},
   "outputs": [],
   "source": [
    "df_test.drop('car', axis = 1, inplace = True)"
   ]
  },
  {
   "cell_type": "markdown",
   "metadata": {},
   "source": [
    "#### Feature: Bar"
   ]
  },
  {
   "cell_type": "code",
   "execution_count": 1413,
   "metadata": {},
   "outputs": [
    {
     "name": "stdout",
     "output_type": "stream",
     "text": [
      "Variable Statistics: \n"
     ]
    },
    {
     "data": {
      "text/plain": [
       "count       784\n",
       "unique        5\n",
       "top       never\n",
       "freq        310\n",
       "Name: Bar, dtype: object"
      ]
     },
     "execution_count": 1413,
     "metadata": {},
     "output_type": "execute_result"
    }
   ],
   "source": [
    "print(\"Variable Statistics: \")\n",
    "df_test['Bar'].describe()"
   ]
  },
  {
   "cell_type": "code",
   "execution_count": 1414,
   "metadata": {},
   "outputs": [
    {
     "name": "stdout",
     "output_type": "stream",
     "text": [
      "Total number of null values: 9\n"
     ]
    }
   ],
   "source": [
    "print(\"Total number of null values:\", df_test['Bar'].isnull().sum())"
   ]
  },
  {
   "cell_type": "code",
   "execution_count": 1415,
   "metadata": {},
   "outputs": [
    {
     "data": {
      "text/plain": [
       "<AxesSubplot:>"
      ]
     },
     "execution_count": 1415,
     "metadata": {},
     "output_type": "execute_result"
    },
    {
     "data": {
      "image/png": "[encoded data removed]",
      "text/plain": [
       "<Figure size 432x288 with 1 Axes>"
      ]
     },
     "metadata": {
      "needs_background": "light"
     },
     "output_type": "display_data"
    }
   ],
   "source": [
    "df_test['Bar'].hist()"
   ]
  },
  {
   "cell_type": "markdown",
   "metadata": {},
   "source": [
    "Since most of the Bar is never, so we will replace all the null values with mode."
   ]
  },
  {
   "cell_type": "code",
   "execution_count": 1416,
   "metadata": {},
   "outputs": [],
   "source": [
    "df_test['Bar'] = df_test['Bar'].fillna(df_test['Bar'].mode()[0])"
   ]
  },
  {
   "cell_type": "markdown",
   "metadata": {},
   "source": [
    "We replace this column with dummy variables."
   ]
  },
  {
   "cell_type": "code",
   "execution_count": 1417,
   "metadata": {},
   "outputs": [],
   "source": [
    "cols = pd.get_dummies(df_test['Bar'], prefix= 'Bar')\n",
    "df_test[cols.columns] = cols\n",
    "df_test.drop('Bar', axis = 1, inplace = True)"
   ]
  },
  {
   "cell_type": "markdown",
   "metadata": {},
   "source": [
    "#### Feature: Coffee House"
   ]
  },
  {
   "cell_type": "code",
   "execution_count": 1418,
   "metadata": {},
   "outputs": [
    {
     "name": "stdout",
     "output_type": "stream",
     "text": [
      "Variable Statistics: \n"
     ]
    },
    {
     "data": {
      "text/plain": [
       "count       777\n",
       "unique        5\n",
       "top       less1\n",
       "freq        209\n",
       "Name: CoffeeHouse, dtype: object"
      ]
     },
     "execution_count": 1418,
     "metadata": {},
     "output_type": "execute_result"
    }
   ],
   "source": [
    "print(\"Variable Statistics: \")\n",
    "df_test['CoffeeHouse'].describe()"
   ]
  },
  {
   "cell_type": "code",
   "execution_count": 1419,
   "metadata": {},
   "outputs": [
    {
     "name": "stdout",
     "output_type": "stream",
     "text": [
      "Total number of null values: 16\n"
     ]
    }
   ],
   "source": [
    "print(\"Total number of null values:\", df_test['CoffeeHouse'].isnull().sum())"
   ]
  },
  {
   "cell_type": "code",
   "execution_count": 1420,
   "metadata": {},
   "outputs": [
    {
     "data": {
      "text/plain": [
       "<AxesSubplot:>"
      ]
     },
     "execution_count": 1420,
     "metadata": {},
     "output_type": "execute_result"
    },
    {
     "data": {
      "image/png": "[encoded data removed]",
      "text/plain": [
       "<Figure size 432x288 with 1 Axes>"
      ]
     },
     "metadata": {
      "needs_background": "light"
     },
     "output_type": "display_data"
    }
   ],
   "source": [
    "df_test['CoffeeHouse'].hist()"
   ]
  },
  {
   "cell_type": "markdown",
   "metadata": {},
   "source": [
    "Since most of the CoffeeHouse is less1, so we will replace all the null values with mode."
   ]
  },
  {
   "cell_type": "code",
   "execution_count": 1421,
   "metadata": {},
   "outputs": [],
   "source": [
    "df_test['CoffeeHouse'] = df_test['CoffeeHouse'].fillna(df_test['CoffeeHouse'].mode()[0])"
   ]
  },
  {
   "cell_type": "markdown",
   "metadata": {},
   "source": [
    "We replace this column with dummy variables."
   ]
  },
  {
   "cell_type": "code",
   "execution_count": 1422,
   "metadata": {},
   "outputs": [],
   "source": [
    "cols = pd.get_dummies(df_test['CoffeeHouse'], prefix= 'CoffeeHouse')\n",
    "df_test[cols.columns] = cols\n",
    "df_test.drop('CoffeeHouse', axis = 1, inplace = True)"
   ]
  },
  {
   "cell_type": "markdown",
   "metadata": {},
   "source": [
    "#### Feature: Carry Away"
   ]
  },
  {
   "cell_type": "code",
   "execution_count": 1423,
   "metadata": {},
   "outputs": [
    {
     "name": "stdout",
     "output_type": "stream",
     "text": [
      "Variable Statistics: \n"
     ]
    },
    {
     "data": {
      "text/plain": [
       "count     780\n",
       "unique      5\n",
       "top       1~3\n",
       "freq      289\n",
       "Name: CarryAway, dtype: object"
      ]
     },
     "execution_count": 1423,
     "metadata": {},
     "output_type": "execute_result"
    }
   ],
   "source": [
    "print(\"Variable Statistics: \")\n",
    "df_test['CarryAway'].describe()"
   ]
  },
  {
   "cell_type": "code",
   "execution_count": 1424,
   "metadata": {},
   "outputs": [
    {
     "name": "stdout",
     "output_type": "stream",
     "text": [
      "Total number of null values: 13\n"
     ]
    }
   ],
   "source": [
    "print(\"Total number of null values:\", df_test['CarryAway'].isnull().sum())"
   ]
  },
  {
   "cell_type": "code",
   "execution_count": 1425,
   "metadata": {},
   "outputs": [
    {
     "data": {
      "text/plain": [
       "<AxesSubplot:>"
      ]
     },
     "execution_count": 1425,
     "metadata": {},
     "output_type": "execute_result"
    },
    {
     "data": {
      "image/png": "[encoded data removed]",
      "text/plain": [
       "<Figure size 432x288 with 1 Axes>"
      ]
     },
     "metadata": {
      "needs_background": "light"
     },
     "output_type": "display_data"
    }
   ],
   "source": [
    "df_test['CarryAway'].hist()"
   ]
  },
  {
   "cell_type": "markdown",
   "metadata": {},
   "source": [
    "Since most of the CarryAway is 1~3, so we will replace all the null values with mode."
   ]
  },
  {
   "cell_type": "code",
   "execution_count": 1426,
   "metadata": {},
   "outputs": [],
   "source": [
    "df_test['CarryAway'] = df_test['CarryAway'].fillna(df_test['CarryAway'].mode()[0])"
   ]
  },
  {
   "cell_type": "markdown",
   "metadata": {},
   "source": [
    "We replace this column with dummy variables."
   ]
  },
  {
   "cell_type": "code",
   "execution_count": 1427,
   "metadata": {},
   "outputs": [],
   "source": [
    "cols = pd.get_dummies(df_test['CarryAway'], prefix= 'CarryAway')\n",
    "df_test[cols.columns] = cols\n",
    "df_test.drop('CarryAway', axis = 1, inplace = True)"
   ]
  },
  {
   "cell_type": "markdown",
   "metadata": {},
   "source": [
    "#### Feature: RestaurantLessThan20"
   ]
  },
  {
   "cell_type": "code",
   "execution_count": 1428,
   "metadata": {},
   "outputs": [
    {
     "name": "stdout",
     "output_type": "stream",
     "text": [
      "Variable Statistics: \n"
     ]
    },
    {
     "data": {
      "text/plain": [
       "count     785\n",
       "unique      5\n",
       "top       1~3\n",
       "freq      334\n",
       "Name: RestaurantLessThan20, dtype: object"
      ]
     },
     "execution_count": 1428,
     "metadata": {},
     "output_type": "execute_result"
    }
   ],
   "source": [
    "print(\"Variable Statistics: \")\n",
    "df_test['RestaurantLessThan20'].describe()"
   ]
  },
  {
   "cell_type": "code",
   "execution_count": 1429,
   "metadata": {},
   "outputs": [
    {
     "name": "stdout",
     "output_type": "stream",
     "text": [
      "Total number of null values: 8\n"
     ]
    }
   ],
   "source": [
    "print(\"Total number of null values:\", df_test['RestaurantLessThan20'].isnull().sum())"
   ]
  },
  {
   "cell_type": "code",
   "execution_count": 1430,
   "metadata": {},
   "outputs": [
    {
     "data": {
      "text/plain": [
       "<AxesSubplot:>"
      ]
     },
     "execution_count": 1430,
     "metadata": {},
     "output_type": "execute_result"
    },
    {
     "data": {
      "image/png": "[encoded data removed]",
      "text/plain": [
       "<Figure size 432x288 with 1 Axes>"
      ]
     },
     "metadata": {
      "needs_background": "light"
     },
     "output_type": "display_data"
    }
   ],
   "source": [
    "df_test['RestaurantLessThan20'].hist()"
   ]
  },
  {
   "cell_type": "markdown",
   "metadata": {},
   "source": [
    "Since most of the RestaurantLessThan20 is 1~3, so we will replace all the null values with mod"
   ]
  },
  {
   "cell_type": "code",
   "execution_count": 1431,
   "metadata": {},
   "outputs": [],
   "source": [
    "df_test['RestaurantLessThan20'] = df_test['RestaurantLessThan20'].fillna(df_test['RestaurantLessThan20'].mode()[0])"
   ]
  },
  {
   "cell_type": "markdown",
   "metadata": {},
   "source": [
    "We replace this column with dummy variables."
   ]
  },
  {
   "cell_type": "code",
   "execution_count": 1432,
   "metadata": {},
   "outputs": [],
   "source": [
    "cols = pd.get_dummies(df_test['RestaurantLessThan20'], prefix= 'RestaurantLessThan20')\n",
    "df_test[cols.columns] = cols\n",
    "df_test.drop('RestaurantLessThan20', axis = 1, inplace = True)"
   ]
  },
  {
   "cell_type": "markdown",
   "metadata": {},
   "source": [
    "#### Feature: Restaurant20To50"
   ]
  },
  {
   "cell_type": "code",
   "execution_count": 1433,
   "metadata": {},
   "outputs": [
    {
     "name": "stdout",
     "output_type": "stream",
     "text": [
      "Variable Statistics: \n"
     ]
    },
    {
     "data": {
      "text/plain": [
       "count       780\n",
       "unique        5\n",
       "top       less1\n",
       "freq        381\n",
       "Name: Restaurant20To50, dtype: object"
      ]
     },
     "execution_count": 1433,
     "metadata": {},
     "output_type": "execute_result"
    }
   ],
   "source": [
    "print(\"Variable Statistics: \")\n",
    "df_test['Restaurant20To50'].describe()"
   ]
  },
  {
   "cell_type": "code",
   "execution_count": 1434,
   "metadata": {},
   "outputs": [
    {
     "name": "stdout",
     "output_type": "stream",
     "text": [
      "Total number of null values: 13\n"
     ]
    }
   ],
   "source": [
    "print(\"Total number of null values:\", df_test['Restaurant20To50'].isnull().sum())"
   ]
  },
  {
   "cell_type": "code",
   "execution_count": 1435,
   "metadata": {},
   "outputs": [
    {
     "data": {
      "text/plain": [
       "<AxesSubplot:>"
      ]
     },
     "execution_count": 1435,
     "metadata": {},
     "output_type": "execute_result"
    },
    {
     "data": {
      "image/png": "[encoded data removed]",
      "text/plain": [
       "<Figure size 432x288 with 1 Axes>"
      ]
     },
     "metadata": {
      "needs_background": "light"
     },
     "output_type": "display_data"
    }
   ],
   "source": [
    "df_test['Restaurant20To50'].hist()"
   ]
  },
  {
   "cell_type": "markdown",
   "metadata": {},
   "source": [
    "Since most of the Restaurant20To50 is less1, so we will replace all the null values with mode."
   ]
  },
  {
   "cell_type": "code",
   "execution_count": 1436,
   "metadata": {},
   "outputs": [],
   "source": [
    "df_test['Restaurant20To50'] = df_test['Restaurant20To50'].fillna(df_test['Restaurant20To50'].mode()[0])"
   ]
  },
  {
   "cell_type": "markdown",
   "metadata": {},
   "source": [
    "We replace this column with dummy variables."
   ]
  },
  {
   "cell_type": "code",
   "execution_count": 1437,
   "metadata": {},
   "outputs": [],
   "source": [
    "cols = pd.get_dummies(df_test['Restaurant20To50'], prefix= 'Restaurant20To50')\n",
    "df_test[cols.columns] = cols\n",
    "df_test.drop('Restaurant20To50', axis = 1, inplace = True)"
   ]
  },
  {
   "cell_type": "markdown",
   "metadata": {},
   "source": [
    "#### Feature: toCoupon_GEQ5min"
   ]
  },
  {
   "cell_type": "code",
   "execution_count": 1438,
   "metadata": {},
   "outputs": [
    {
     "name": "stdout",
     "output_type": "stream",
     "text": [
      "Variable Statistics: \n"
     ]
    },
    {
     "data": {
      "text/plain": [
       "count    793.0\n",
       "mean       1.0\n",
       "std        0.0\n",
       "min        1.0\n",
       "25%        1.0\n",
       "50%        1.0\n",
       "75%        1.0\n",
       "max        1.0\n",
       "Name: toCoupon_GEQ5min, dtype: float64"
      ]
     },
     "execution_count": 1438,
     "metadata": {},
     "output_type": "execute_result"
    }
   ],
   "source": [
    "print(\"Variable Statistics: \")\n",
    "df_test['toCoupon_GEQ5min'].describe()"
   ]
  },
  {
   "cell_type": "code",
   "execution_count": 1439,
   "metadata": {},
   "outputs": [
    {
     "name": "stdout",
     "output_type": "stream",
     "text": [
      "Total number of null values: 0\n"
     ]
    }
   ],
   "source": [
    "print(\"Total number of null values:\", df_test['toCoupon_GEQ5min'].isnull().sum())"
   ]
  },
  {
   "cell_type": "code",
   "execution_count": 1440,
   "metadata": {},
   "outputs": [
    {
     "data": {
      "text/plain": [
       "<AxesSubplot:>"
      ]
     },
     "execution_count": 1440,
     "metadata": {},
     "output_type": "execute_result"
    },
    {
     "data": {
      "image/png": "[encoded data removed]",
      "text/plain": [
       "<Figure size 432x288 with 1 Axes>"
      ]
     },
     "metadata": {
      "needs_background": "light"
     },
     "output_type": "display_data"
    }
   ],
   "source": [
    "df_test['toCoupon_GEQ5min'].hist()"
   ]
  },
  {
   "cell_type": "markdown",
   "metadata": {},
   "source": [
    "#### Feature: toCoupon_GEQ15min"
   ]
  },
  {
   "cell_type": "code",
   "execution_count": 1441,
   "metadata": {},
   "outputs": [
    {
     "name": "stdout",
     "output_type": "stream",
     "text": [
      "Variable Statistics: \n"
     ]
    },
    {
     "data": {
      "text/plain": [
       "count    793.000000\n",
       "mean       0.562421\n",
       "std        0.496401\n",
       "min        0.000000\n",
       "25%        0.000000\n",
       "50%        1.000000\n",
       "75%        1.000000\n",
       "max        1.000000\n",
       "Name: toCoupon_GEQ15min, dtype: float64"
      ]
     },
     "execution_count": 1441,
     "metadata": {},
     "output_type": "execute_result"
    }
   ],
   "source": [
    "print(\"Variable Statistics: \")\n",
    "df_test['toCoupon_GEQ15min'].describe()"
   ]
  },
  {
   "cell_type": "code",
   "execution_count": 1442,
   "metadata": {},
   "outputs": [
    {
     "name": "stdout",
     "output_type": "stream",
     "text": [
      "Total number of null values: 0\n"
     ]
    }
   ],
   "source": [
    "print(\"Total number of null values:\", df_test['toCoupon_GEQ15min'].isnull().sum())"
   ]
  },
  {
   "cell_type": "code",
   "execution_count": 1443,
   "metadata": {},
   "outputs": [
    {
     "data": {
      "text/plain": [
       "<AxesSubplot:>"
      ]
     },
     "execution_count": 1443,
     "metadata": {},
     "output_type": "execute_result"
    },
    {
     "data": {
      "image/png": "[encoded data removed]",
      "text/plain": [
       "<Figure size 432x288 with 1 Axes>"
      ]
     },
     "metadata": {
      "needs_background": "light"
     },
     "output_type": "display_data"
    }
   ],
   "source": [
    "df_test['toCoupon_GEQ15min'].hist(bins=3)"
   ]
  },
  {
   "cell_type": "markdown",
   "metadata": {},
   "source": [
    "#### Feature: toCoupon_GEQ25min"
   ]
  },
  {
   "cell_type": "code",
   "execution_count": 1444,
   "metadata": {},
   "outputs": [
    {
     "name": "stdout",
     "output_type": "stream",
     "text": [
      "Variable Statistics: \n"
     ]
    },
    {
     "data": {
      "text/plain": [
       "count    793.000000\n",
       "mean       0.129887\n",
       "std        0.336391\n",
       "min        0.000000\n",
       "25%        0.000000\n",
       "50%        0.000000\n",
       "75%        0.000000\n",
       "max        1.000000\n",
       "Name: toCoupon_GEQ25min, dtype: float64"
      ]
     },
     "execution_count": 1444,
     "metadata": {},
     "output_type": "execute_result"
    }
   ],
   "source": [
    "print(\"Variable Statistics: \")\n",
    "df_test['toCoupon_GEQ25min'].describe()"
   ]
  },
  {
   "cell_type": "code",
   "execution_count": 1445,
   "metadata": {},
   "outputs": [
    {
     "name": "stdout",
     "output_type": "stream",
     "text": [
      "Total number of null values: 0\n"
     ]
    }
   ],
   "source": [
    "print(\"Total number of null values:\", df_test['toCoupon_GEQ25min'].isnull().sum())"
   ]
  },
  {
   "cell_type": "code",
   "execution_count": 1446,
   "metadata": {},
   "outputs": [
    {
     "data": {
      "text/plain": [
       "<AxesSubplot:>"
      ]
     },
     "execution_count": 1446,
     "metadata": {},
     "output_type": "execute_result"
    },
    {
     "data": {
      "image/png": "[encoded data removed]",
      "text/plain": [
       "<Figure size 432x288 with 1 Axes>"
      ]
     },
     "metadata": {
      "needs_background": "light"
     },
     "output_type": "display_data"
    }
   ],
   "source": [
    "df_test['toCoupon_GEQ25min'].hist(bins =3)"
   ]
  },
  {
   "cell_type": "markdown",
   "metadata": {},
   "source": [
    "#### Feature: direction_same"
   ]
  },
  {
   "cell_type": "code",
   "execution_count": 1447,
   "metadata": {},
   "outputs": [
    {
     "name": "stdout",
     "output_type": "stream",
     "text": [
      "Variable Statistics: \n"
     ]
    },
    {
     "data": {
      "text/plain": [
       "count    793.000000\n",
       "mean       0.208071\n",
       "std        0.406184\n",
       "min        0.000000\n",
       "25%        0.000000\n",
       "50%        0.000000\n",
       "75%        0.000000\n",
       "max        1.000000\n",
       "Name: direction_same, dtype: float64"
      ]
     },
     "execution_count": 1447,
     "metadata": {},
     "output_type": "execute_result"
    }
   ],
   "source": [
    "print(\"Variable Statistics: \")\n",
    "df_test['direction_same'].describe()"
   ]
  },
  {
   "cell_type": "code",
   "execution_count": 1448,
   "metadata": {},
   "outputs": [
    {
     "name": "stdout",
     "output_type": "stream",
     "text": [
      "Total number of null values: 0\n"
     ]
    }
   ],
   "source": [
    "print(\"Total number of null values:\", df_test['direction_same'].isnull().sum())"
   ]
  },
  {
   "cell_type": "code",
   "execution_count": 1449,
   "metadata": {},
   "outputs": [
    {
     "data": {
      "text/plain": [
       "<AxesSubplot:>"
      ]
     },
     "execution_count": 1449,
     "metadata": {},
     "output_type": "execute_result"
    },
    {
     "data": {
      "image/png": "[encoded data removed]",
      "text/plain": [
       "<Figure size 432x288 with 1 Axes>"
      ]
     },
     "metadata": {
      "needs_background": "light"
     },
     "output_type": "display_data"
    }
   ],
   "source": [
    "df_test['direction_same'].hist(bins =3)"
   ]
  },
  {
   "cell_type": "markdown",
   "metadata": {},
   "source": [
    "#### Feature: direction_opp"
   ]
  },
  {
   "cell_type": "code",
   "execution_count": 1450,
   "metadata": {},
   "outputs": [
    {
     "name": "stdout",
     "output_type": "stream",
     "text": [
      "Variable Statistics: \n"
     ]
    },
    {
     "data": {
      "text/plain": [
       "count    793.000000\n",
       "mean       0.791929\n",
       "std        0.406184\n",
       "min        0.000000\n",
       "25%        1.000000\n",
       "50%        1.000000\n",
       "75%        1.000000\n",
       "max        1.000000\n",
       "Name: direction_opp, dtype: float64"
      ]
     },
     "execution_count": 1450,
     "metadata": {},
     "output_type": "execute_result"
    }
   ],
   "source": [
    "print(\"Variable Statistics: \")\n",
    "df_test['direction_opp'].describe()"
   ]
  },
  {
   "cell_type": "code",
   "execution_count": 1451,
   "metadata": {},
   "outputs": [
    {
     "name": "stdout",
     "output_type": "stream",
     "text": [
      "Total number of null values: 0\n"
     ]
    }
   ],
   "source": [
    "print(\"Total number of null values:\", df_test['direction_opp'].isnull().sum())"
   ]
  },
  {
   "cell_type": "code",
   "execution_count": 1452,
   "metadata": {},
   "outputs": [
    {
     "data": {
      "text/plain": [
       "<AxesSubplot:>"
      ]
     },
     "execution_count": 1452,
     "metadata": {},
     "output_type": "execute_result"
    },
    {
     "data": {
      "image/png": "[encoded data removed]",
      "text/plain": [
       "<Figure size 432x288 with 1 Axes>"
      ]
     },
     "metadata": {
      "needs_background": "light"
     },
     "output_type": "display_data"
    }
   ],
   "source": [
    "df_test['direction_opp'].hist(bins =3)"
   ]
  },
  {
   "cell_type": "code",
   "execution_count": 1453,
   "metadata": {},
   "outputs": [
    {
     "name": "stdout",
     "output_type": "stream",
     "text": [
      "<class 'pandas.core.frame.DataFrame'>\n",
      "RangeIndex: 793 entries, 0 to 792\n",
      "Data columns (total 110 columns):\n",
      " #   Column                                                Dtype  \n",
      "---  ------                                                -----  \n",
      " 0   expiration                                            int64  \n",
      " 1   gender                                                int64  \n",
      " 2   has_children                                          float64\n",
      " 3   toCoupon_GEQ5min                                      int64  \n",
      " 4   toCoupon_GEQ15min                                     int64  \n",
      " 5   toCoupon_GEQ25min                                     int64  \n",
      " 6   direction_same                                        int64  \n",
      " 7   direction_opp                                         int64  \n",
      " 8   destination_Home                                      uint8  \n",
      " 9   destination_No Urgent Place                           uint8  \n",
      " 10  destination_Work                                      uint8  \n",
      " 11  passanger_Alone                                       uint8  \n",
      " 12  passanger_Friend(s)                                   uint8  \n",
      " 13  passanger_Kid(s)                                      uint8  \n",
      " 14  passanger_Partner                                     uint8  \n",
      " 15  weather_Rainy                                         uint8  \n",
      " 16  weather_Snowy                                         uint8  \n",
      " 17  weather_Sunny                                         uint8  \n",
      " 18  temperature_30.0                                      uint8  \n",
      " 19  temperature_55.0                                      uint8  \n",
      " 20  temperature_80.0                                      uint8  \n",
      " 21  temperature_999.0                                     uint8  \n",
      " 22  time_10AM                                             uint8  \n",
      " 23  time_10PM                                             uint8  \n",
      " 24  time_2PM                                              uint8  \n",
      " 25  time_6PM                                              uint8  \n",
      " 26  time_7AM                                              uint8  \n",
      " 27  coupon_Bar                                            uint8  \n",
      " 28  coupon_Carry out & Take away                          uint8  \n",
      " 29  coupon_Coffee House                                   uint8  \n",
      " 30  coupon_Restaurant(20-50)                              uint8  \n",
      " 31  coupon_Restaurant(<20)                                uint8  \n",
      " 32  age_21                                                uint8  \n",
      " 33  age_26                                                uint8  \n",
      " 34  age_31                                                uint8  \n",
      " 35  age_36                                                uint8  \n",
      " 36  age_41                                                uint8  \n",
      " 37  age_46                                                uint8  \n",
      " 38  age_50plus                                            uint8  \n",
      " 39  age_below21                                           uint8  \n",
      " 40  maritalStatus_Divorced                                uint8  \n",
      " 41  maritalStatus_Married partner                         uint8  \n",
      " 42  maritalStatus_Single                                  uint8  \n",
      " 43  maritalStatus_Unmarried partner                       uint8  \n",
      " 44  maritalStatus_Widowed                                 uint8  \n",
      " 45  education_Associates degree                           uint8  \n",
      " 46  education_Bachelors degree                            uint8  \n",
      " 47  education_Graduate degree (Masters or Doctorate)      uint8  \n",
      " 48  education_High School Graduate                        uint8  \n",
      " 49  education_Some High School                            uint8  \n",
      " 50  education_Some college - no degree                    uint8  \n",
      " 51  occupation_Architecture & Engineering                 uint8  \n",
      " 52  occupation_Arts Design Entertainment Sports & Media   uint8  \n",
      " 53  occupation_Building & Grounds Cleaning & Maintenance  uint8  \n",
      " 54  occupation_Business & Financial                       uint8  \n",
      " 55  occupation_Community & Social Services                uint8  \n",
      " 56  occupation_Computer & Mathematical                    uint8  \n",
      " 57  occupation_Construction & Extraction                  uint8  \n",
      " 58  occupation_Education&Training&Library                 uint8  \n",
      " 59  occupation_Farming Fishing & Forestry                 uint8  \n",
      " 60  occupation_Food Preparation & Serving Related         uint8  \n",
      " 61  occupation_Healthcare Practitioners & Technical       uint8  \n",
      " 62  occupation_Healthcare Support                         uint8  \n",
      " 63  occupation_Installation Maintenance & Repair          uint8  \n",
      " 64  occupation_Legal                                      uint8  \n",
      " 65  occupation_Life Physical Social Science               uint8  \n",
      " 66  occupation_Management                                 uint8  \n",
      " 67  occupation_Office & Administrative Support            uint8  \n",
      " 68  occupation_Personal Care & Service                    uint8  \n",
      " 69  occupation_Production Occupations                     uint8  \n",
      " 70  occupation_Protective Service                         uint8  \n",
      " 71  occupation_Retired                                    uint8  \n",
      " 72  occupation_Sales & Related                            uint8  \n",
      " 73  occupation_Student                                    uint8  \n",
      " 74  occupation_Transportation & Material Moving           uint8  \n",
      " 75  occupation_Unemployed                                 uint8  \n",
      " 76  income_$100000 or More                                uint8  \n",
      " 77  income_$12500 - $24999                                uint8  \n",
      " 78  income_$25000 - $37499                                uint8  \n",
      " 79  income_$37500 - $49999                                uint8  \n",
      " 80  income_$50000 - $62499                                uint8  \n",
      " 81  income_$62500 - $74999                                uint8  \n",
      " 82  income_$75000 - $87499                                uint8  \n",
      " 83  income_$87500 - $99999                                uint8  \n",
      " 84  income_Less than $12500                               uint8  \n",
      " 85  Bar_1~3                                               uint8  \n",
      " 86  Bar_4~8                                               uint8  \n",
      " 87  Bar_gt8                                               uint8  \n",
      " 88  Bar_less1                                             uint8  \n",
      " 89  Bar_never                                             uint8  \n",
      " 90  CoffeeHouse_1~3                                       uint8  \n",
      " 91  CoffeeHouse_4~8                                       uint8  \n",
      " 92  CoffeeHouse_gt8                                       uint8  \n",
      " 93  CoffeeHouse_less1                                     uint8  \n",
      " 94  CoffeeHouse_never                                     uint8  \n",
      " 95  CarryAway_1~3                                         uint8  \n",
      " 96  CarryAway_4~8                                         uint8  \n",
      " 97  CarryAway_gt8                                         uint8  \n",
      " 98  CarryAway_less1                                       uint8  \n",
      " 99  CarryAway_never                                       uint8  \n",
      " 100 RestaurantLessThan20_1~3                              uint8  \n",
      " 101 RestaurantLessThan20_4~8                              uint8  \n",
      " 102 RestaurantLessThan20_gt8                              uint8  \n",
      " 103 RestaurantLessThan20_less1                            uint8  \n",
      " 104 RestaurantLessThan20_never                            uint8  \n",
      " 105 Restaurant20To50_1~3                                  uint8  \n",
      " 106 Restaurant20To50_4~8                                  uint8  \n",
      " 107 Restaurant20To50_gt8                                  uint8  \n",
      " 108 Restaurant20To50_less1                                uint8  \n",
      " 109 Restaurant20To50_never                                uint8  \n",
      "dtypes: float64(1), int64(7), uint8(102)\n",
      "memory usage: 128.7 KB\n"
     ]
    }
   ],
   "source": [
    "df_test.info(all)"
   ]
  },
  {
   "cell_type": "code",
   "execution_count": 1454,
   "metadata": {},
   "outputs": [
    {
     "name": "stdout",
     "output_type": "stream",
     "text": [
      "Total number of Null Values:  0\n"
     ]
    }
   ],
   "source": [
    "print(\"Total number of Null Values: \", df_test.isnull().sum().sum())"
   ]
  },
  {
   "cell_type": "code",
   "execution_count": 1455,
   "metadata": {},
   "outputs": [
    {
     "data": {
      "text/html": [
       "<div>\n",
       "<style scoped>\n",
       "    .dataframe tbody tr th:only-of-type {\n",
       "        vertical-align: middle;\n",
       "    }\n",
       "\n",
       "    .dataframe tbody tr th {\n",
       "        vertical-align: top;\n",
       "    }\n",
       "\n",
       "    .dataframe thead th {\n",
       "        text-align: right;\n",
       "    }\n",
       "</style>\n",
       "<table border=\"1\" class=\"dataframe\">\n",
       "  <thead>\n",
       "    <tr style=\"text-align: right;\">\n",
       "      <th></th>\n",
       "      <th>expiration</th>\n",
       "      <th>gender</th>\n",
       "      <th>has_children</th>\n",
       "      <th>toCoupon_GEQ5min</th>\n",
       "      <th>toCoupon_GEQ15min</th>\n",
       "      <th>toCoupon_GEQ25min</th>\n",
       "      <th>direction_same</th>\n",
       "      <th>direction_opp</th>\n",
       "      <th>destination_Home</th>\n",
       "      <th>destination_No Urgent Place</th>\n",
       "      <th>...</th>\n",
       "      <th>RestaurantLessThan20_1~3</th>\n",
       "      <th>RestaurantLessThan20_4~8</th>\n",
       "      <th>RestaurantLessThan20_gt8</th>\n",
       "      <th>RestaurantLessThan20_less1</th>\n",
       "      <th>RestaurantLessThan20_never</th>\n",
       "      <th>Restaurant20To50_1~3</th>\n",
       "      <th>Restaurant20To50_4~8</th>\n",
       "      <th>Restaurant20To50_gt8</th>\n",
       "      <th>Restaurant20To50_less1</th>\n",
       "      <th>Restaurant20To50_never</th>\n",
       "    </tr>\n",
       "  </thead>\n",
       "  <tbody>\n",
       "    <tr>\n",
       "      <th>0</th>\n",
       "      <td>1</td>\n",
       "      <td>0</td>\n",
       "      <td>0.0</td>\n",
       "      <td>1</td>\n",
       "      <td>1</td>\n",
       "      <td>0</td>\n",
       "      <td>0</td>\n",
       "      <td>1</td>\n",
       "      <td>0</td>\n",
       "      <td>1</td>\n",
       "      <td>...</td>\n",
       "      <td>0</td>\n",
       "      <td>0</td>\n",
       "      <td>0</td>\n",
       "      <td>1</td>\n",
       "      <td>0</td>\n",
       "      <td>0</td>\n",
       "      <td>0</td>\n",
       "      <td>0</td>\n",
       "      <td>0</td>\n",
       "      <td>1</td>\n",
       "    </tr>\n",
       "    <tr>\n",
       "      <th>1</th>\n",
       "      <td>0</td>\n",
       "      <td>0</td>\n",
       "      <td>0.0</td>\n",
       "      <td>1</td>\n",
       "      <td>0</td>\n",
       "      <td>0</td>\n",
       "      <td>0</td>\n",
       "      <td>1</td>\n",
       "      <td>0</td>\n",
       "      <td>1</td>\n",
       "      <td>...</td>\n",
       "      <td>1</td>\n",
       "      <td>0</td>\n",
       "      <td>0</td>\n",
       "      <td>0</td>\n",
       "      <td>0</td>\n",
       "      <td>0</td>\n",
       "      <td>0</td>\n",
       "      <td>0</td>\n",
       "      <td>1</td>\n",
       "      <td>0</td>\n",
       "    </tr>\n",
       "    <tr>\n",
       "      <th>2</th>\n",
       "      <td>1</td>\n",
       "      <td>1</td>\n",
       "      <td>1.0</td>\n",
       "      <td>1</td>\n",
       "      <td>1</td>\n",
       "      <td>0</td>\n",
       "      <td>0</td>\n",
       "      <td>1</td>\n",
       "      <td>0</td>\n",
       "      <td>1</td>\n",
       "      <td>...</td>\n",
       "      <td>0</td>\n",
       "      <td>1</td>\n",
       "      <td>0</td>\n",
       "      <td>0</td>\n",
       "      <td>0</td>\n",
       "      <td>0</td>\n",
       "      <td>1</td>\n",
       "      <td>0</td>\n",
       "      <td>0</td>\n",
       "      <td>0</td>\n",
       "    </tr>\n",
       "    <tr>\n",
       "      <th>3</th>\n",
       "      <td>0</td>\n",
       "      <td>1</td>\n",
       "      <td>0.0</td>\n",
       "      <td>1</td>\n",
       "      <td>0</td>\n",
       "      <td>0</td>\n",
       "      <td>0</td>\n",
       "      <td>1</td>\n",
       "      <td>0</td>\n",
       "      <td>1</td>\n",
       "      <td>...</td>\n",
       "      <td>1</td>\n",
       "      <td>0</td>\n",
       "      <td>0</td>\n",
       "      <td>0</td>\n",
       "      <td>0</td>\n",
       "      <td>1</td>\n",
       "      <td>0</td>\n",
       "      <td>0</td>\n",
       "      <td>0</td>\n",
       "      <td>0</td>\n",
       "    </tr>\n",
       "    <tr>\n",
       "      <th>4</th>\n",
       "      <td>0</td>\n",
       "      <td>1</td>\n",
       "      <td>1.0</td>\n",
       "      <td>1</td>\n",
       "      <td>1</td>\n",
       "      <td>1</td>\n",
       "      <td>0</td>\n",
       "      <td>1</td>\n",
       "      <td>1</td>\n",
       "      <td>0</td>\n",
       "      <td>...</td>\n",
       "      <td>1</td>\n",
       "      <td>0</td>\n",
       "      <td>0</td>\n",
       "      <td>0</td>\n",
       "      <td>0</td>\n",
       "      <td>0</td>\n",
       "      <td>0</td>\n",
       "      <td>0</td>\n",
       "      <td>1</td>\n",
       "      <td>0</td>\n",
       "    </tr>\n",
       "  </tbody>\n",
       "</table>\n",
       "<p>5 rows × 110 columns</p>\n",
       "</div>"
      ],
      "text/plain": [
       "   expiration  gender  has_children  toCoupon_GEQ5min  toCoupon_GEQ15min  \\\n",
       "0           1       0           0.0                 1                  1   \n",
       "1           0       0           0.0                 1                  0   \n",
       "2           1       1           1.0                 1                  1   \n",
       "3           0       1           0.0                 1                  0   \n",
       "4           0       1           1.0                 1                  1   \n",
       "\n",
       "   toCoupon_GEQ25min  direction_same  direction_opp  destination_Home  \\\n",
       "0                  0               0              1                 0   \n",
       "1                  0               0              1                 0   \n",
       "2                  0               0              1                 0   \n",
       "3                  0               0              1                 0   \n",
       "4                  1               0              1                 1   \n",
       "\n",
       "   destination_No Urgent Place  ...  RestaurantLessThan20_1~3  \\\n",
       "0                            1  ...                         0   \n",
       "1                            1  ...                         1   \n",
       "2                            1  ...                         0   \n",
       "3                            1  ...                         1   \n",
       "4                            0  ...                         1   \n",
       "\n",
       "   RestaurantLessThan20_4~8  RestaurantLessThan20_gt8  \\\n",
       "0                         0                         0   \n",
       "1                         0                         0   \n",
       "2                         1                         0   \n",
       "3                         0                         0   \n",
       "4                         0                         0   \n",
       "\n",
       "   RestaurantLessThan20_less1  RestaurantLessThan20_never  \\\n",
       "0                           1                           0   \n",
       "1                           0                           0   \n",
       "2                           0                           0   \n",
       "3                           0                           0   \n",
       "4                           0                           0   \n",
       "\n",
       "   Restaurant20To50_1~3  Restaurant20To50_4~8  Restaurant20To50_gt8  \\\n",
       "0                     0                     0                     0   \n",
       "1                     0                     0                     0   \n",
       "2                     0                     1                     0   \n",
       "3                     1                     0                     0   \n",
       "4                     0                     0                     0   \n",
       "\n",
       "   Restaurant20To50_less1  Restaurant20To50_never  \n",
       "0                       0                       1  \n",
       "1                       1                       0  \n",
       "2                       0                       0  \n",
       "3                       0                       0  \n",
       "4                       1                       0  \n",
       "\n",
       "[5 rows x 110 columns]"
      ]
     },
     "execution_count": 1455,
     "metadata": {},
     "output_type": "execute_result"
    }
   ],
   "source": [
    "df_test.head()"
   ]
  },
  {
   "cell_type": "markdown",
   "metadata": {},
   "source": [
    "I have successfully replaced or handled all the null values and transformed specific variables to dummy variables."
   ]
  },
  {
   "cell_type": "markdown",
   "metadata": {},
   "source": [
    "#### Scaling the Test dataset"
   ]
  },
  {
   "cell_type": "code",
   "execution_count": 1456,
   "metadata": {},
   "outputs": [],
   "source": [
    "df_test = scaler.transform(df_test)"
   ]
  },
  {
   "cell_type": "code",
   "execution_count": 1457,
   "metadata": {},
   "outputs": [
    {
     "data": {
      "text/html": [
       "<div>\n",
       "<style scoped>\n",
       "    .dataframe tbody tr th:only-of-type {\n",
       "        vertical-align: middle;\n",
       "    }\n",
       "\n",
       "    .dataframe tbody tr th {\n",
       "        vertical-align: top;\n",
       "    }\n",
       "\n",
       "    .dataframe thead th {\n",
       "        text-align: right;\n",
       "    }\n",
       "</style>\n",
       "<table border=\"1\" class=\"dataframe\">\n",
       "  <thead>\n",
       "    <tr style=\"text-align: right;\">\n",
       "      <th></th>\n",
       "      <th>0</th>\n",
       "      <th>1</th>\n",
       "      <th>2</th>\n",
       "      <th>3</th>\n",
       "      <th>4</th>\n",
       "      <th>5</th>\n",
       "      <th>6</th>\n",
       "      <th>7</th>\n",
       "      <th>8</th>\n",
       "      <th>9</th>\n",
       "      <th>...</th>\n",
       "      <th>100</th>\n",
       "      <th>101</th>\n",
       "      <th>102</th>\n",
       "      <th>103</th>\n",
       "      <th>104</th>\n",
       "      <th>105</th>\n",
       "      <th>106</th>\n",
       "      <th>107</th>\n",
       "      <th>108</th>\n",
       "      <th>109</th>\n",
       "    </tr>\n",
       "  </thead>\n",
       "  <tbody>\n",
       "    <tr>\n",
       "      <th>0</th>\n",
       "      <td>1.0</td>\n",
       "      <td>0.0</td>\n",
       "      <td>0.0</td>\n",
       "      <td>0.0</td>\n",
       "      <td>1.0</td>\n",
       "      <td>0.0</td>\n",
       "      <td>0.0</td>\n",
       "      <td>1.0</td>\n",
       "      <td>0.0</td>\n",
       "      <td>1.0</td>\n",
       "      <td>...</td>\n",
       "      <td>0.0</td>\n",
       "      <td>0.0</td>\n",
       "      <td>0.0</td>\n",
       "      <td>1.0</td>\n",
       "      <td>0.0</td>\n",
       "      <td>0.0</td>\n",
       "      <td>0.0</td>\n",
       "      <td>0.0</td>\n",
       "      <td>0.0</td>\n",
       "      <td>1.0</td>\n",
       "    </tr>\n",
       "    <tr>\n",
       "      <th>1</th>\n",
       "      <td>0.0</td>\n",
       "      <td>0.0</td>\n",
       "      <td>0.0</td>\n",
       "      <td>0.0</td>\n",
       "      <td>0.0</td>\n",
       "      <td>0.0</td>\n",
       "      <td>0.0</td>\n",
       "      <td>1.0</td>\n",
       "      <td>0.0</td>\n",
       "      <td>1.0</td>\n",
       "      <td>...</td>\n",
       "      <td>1.0</td>\n",
       "      <td>0.0</td>\n",
       "      <td>0.0</td>\n",
       "      <td>0.0</td>\n",
       "      <td>0.0</td>\n",
       "      <td>0.0</td>\n",
       "      <td>0.0</td>\n",
       "      <td>0.0</td>\n",
       "      <td>1.0</td>\n",
       "      <td>0.0</td>\n",
       "    </tr>\n",
       "    <tr>\n",
       "      <th>2</th>\n",
       "      <td>1.0</td>\n",
       "      <td>1.0</td>\n",
       "      <td>1.0</td>\n",
       "      <td>0.0</td>\n",
       "      <td>1.0</td>\n",
       "      <td>0.0</td>\n",
       "      <td>0.0</td>\n",
       "      <td>1.0</td>\n",
       "      <td>0.0</td>\n",
       "      <td>1.0</td>\n",
       "      <td>...</td>\n",
       "      <td>0.0</td>\n",
       "      <td>1.0</td>\n",
       "      <td>0.0</td>\n",
       "      <td>0.0</td>\n",
       "      <td>0.0</td>\n",
       "      <td>0.0</td>\n",
       "      <td>1.0</td>\n",
       "      <td>0.0</td>\n",
       "      <td>0.0</td>\n",
       "      <td>0.0</td>\n",
       "    </tr>\n",
       "    <tr>\n",
       "      <th>3</th>\n",
       "      <td>0.0</td>\n",
       "      <td>1.0</td>\n",
       "      <td>0.0</td>\n",
       "      <td>0.0</td>\n",
       "      <td>0.0</td>\n",
       "      <td>0.0</td>\n",
       "      <td>0.0</td>\n",
       "      <td>1.0</td>\n",
       "      <td>0.0</td>\n",
       "      <td>1.0</td>\n",
       "      <td>...</td>\n",
       "      <td>1.0</td>\n",
       "      <td>0.0</td>\n",
       "      <td>0.0</td>\n",
       "      <td>0.0</td>\n",
       "      <td>0.0</td>\n",
       "      <td>1.0</td>\n",
       "      <td>0.0</td>\n",
       "      <td>0.0</td>\n",
       "      <td>0.0</td>\n",
       "      <td>0.0</td>\n",
       "    </tr>\n",
       "    <tr>\n",
       "      <th>4</th>\n",
       "      <td>0.0</td>\n",
       "      <td>1.0</td>\n",
       "      <td>1.0</td>\n",
       "      <td>0.0</td>\n",
       "      <td>1.0</td>\n",
       "      <td>1.0</td>\n",
       "      <td>0.0</td>\n",
       "      <td>1.0</td>\n",
       "      <td>1.0</td>\n",
       "      <td>0.0</td>\n",
       "      <td>...</td>\n",
       "      <td>1.0</td>\n",
       "      <td>0.0</td>\n",
       "      <td>0.0</td>\n",
       "      <td>0.0</td>\n",
       "      <td>0.0</td>\n",
       "      <td>0.0</td>\n",
       "      <td>0.0</td>\n",
       "      <td>0.0</td>\n",
       "      <td>1.0</td>\n",
       "      <td>0.0</td>\n",
       "    </tr>\n",
       "  </tbody>\n",
       "</table>\n",
       "<p>5 rows × 110 columns</p>\n",
       "</div>"
      ],
      "text/plain": [
       "   0    1    2    3    4    5    6    7    8    9    ...  100  101  102  103  \\\n",
       "0  1.0  0.0  0.0  0.0  1.0  0.0  0.0  1.0  0.0  1.0  ...  0.0  0.0  0.0  1.0   \n",
       "1  0.0  0.0  0.0  0.0  0.0  0.0  0.0  1.0  0.0  1.0  ...  1.0  0.0  0.0  0.0   \n",
       "2  1.0  1.0  1.0  0.0  1.0  0.0  0.0  1.0  0.0  1.0  ...  0.0  1.0  0.0  0.0   \n",
       "3  0.0  1.0  0.0  0.0  0.0  0.0  0.0  1.0  0.0  1.0  ...  1.0  0.0  0.0  0.0   \n",
       "4  0.0  1.0  1.0  0.0  1.0  1.0  0.0  1.0  1.0  0.0  ...  1.0  0.0  0.0  0.0   \n",
       "\n",
       "   104  105  106  107  108  109  \n",
       "0  0.0  0.0  0.0  0.0  0.0  1.0  \n",
       "1  0.0  0.0  0.0  0.0  1.0  0.0  \n",
       "2  0.0  0.0  1.0  0.0  0.0  0.0  \n",
       "3  0.0  1.0  0.0  0.0  0.0  0.0  \n",
       "4  0.0  0.0  0.0  0.0  1.0  0.0  \n",
       "\n",
       "[5 rows x 110 columns]"
      ]
     },
     "execution_count": 1457,
     "metadata": {},
     "output_type": "execute_result"
    }
   ],
   "source": [
    "pd.DataFrame(df_test).head()"
   ]
  },
  {
   "cell_type": "markdown",
   "metadata": {},
   "source": [
    "# Machine learning models (20 points)"
   ]
  },
  {
   "cell_type": "markdown",
   "metadata": {},
   "source": [
    "### Logistic Regression"
   ]
  },
  {
   "cell_type": "code",
   "execution_count": 1463,
   "metadata": {},
   "outputs": [
    {
     "name": "stdout",
     "output_type": "stream",
     "text": [
      "Fitting 5 folds for each of 6 candidates, totalling 30 fits\n"
     ]
    },
    {
     "name": "stderr",
     "output_type": "stream",
     "text": [
      "[Parallel(n_jobs=-1)]: Using backend LokyBackend with 8 concurrent workers.\n",
      "[Parallel(n_jobs=-1)]: Done   2 tasks      | elapsed:    0.0s\n",
      "[Parallel(n_jobs=-1)]: Done  22 out of  30 | elapsed:    0.1s remaining:    0.0s\n",
      "[Parallel(n_jobs=-1)]: Done  30 out of  30 | elapsed:    0.1s finished\n"
     ]
    },
    {
     "name": "stdout",
     "output_type": "stream",
     "text": [
      "Best cross-validation score: 0.98\n",
      "Best parameters:  {'C': 0.001}\n"
     ]
    }
   ],
   "source": [
    "## initializing model\n",
    "clf_lr = LogisticRegression(penalty='l2', n_jobs = -1, solver='liblinear') #creating object\n",
    "\n",
    "## initializing parameters\n",
    "param_lr = {'C' : [10 ** x for x in range(-3,3)]}\n",
    "\n",
    "# hyper parameter tuning\n",
    "clf_log = GridSearchCV(clf_lr, param_lr, \n",
    "                   cv=5, scoring='recall', \n",
    "                   return_train_score=True, \n",
    "                   verbose=5,\n",
    "                   n_jobs=-1).fit(x_train, y_train)\n",
    "\n",
    "print(\"Best cross-validation score: {:.2f}\".format(clf.best_score_))\n",
    "print(\"Best parameters: \", clf.best_params_)"
   ]
  },
  {
   "cell_type": "code",
   "execution_count": 1464,
   "metadata": {},
   "outputs": [
    {
     "data": {
      "text/html": [
       "<div>\n",
       "<style scoped>\n",
       "    .dataframe tbody tr th:only-of-type {\n",
       "        vertical-align: middle;\n",
       "    }\n",
       "\n",
       "    .dataframe tbody tr th {\n",
       "        vertical-align: top;\n",
       "    }\n",
       "\n",
       "    .dataframe thead th {\n",
       "        text-align: right;\n",
       "    }\n",
       "</style>\n",
       "<table border=\"1\" class=\"dataframe\">\n",
       "  <thead>\n",
       "    <tr style=\"text-align: right;\">\n",
       "      <th></th>\n",
       "      <th>mean_fit_time</th>\n",
       "      <th>std_fit_time</th>\n",
       "      <th>mean_score_time</th>\n",
       "      <th>std_score_time</th>\n",
       "      <th>param_C</th>\n",
       "      <th>params</th>\n",
       "      <th>split0_test_score</th>\n",
       "      <th>split1_test_score</th>\n",
       "      <th>split2_test_score</th>\n",
       "      <th>split3_test_score</th>\n",
       "      <th>...</th>\n",
       "      <th>mean_test_score</th>\n",
       "      <th>std_test_score</th>\n",
       "      <th>rank_test_score</th>\n",
       "      <th>split0_train_score</th>\n",
       "      <th>split1_train_score</th>\n",
       "      <th>split2_train_score</th>\n",
       "      <th>split3_train_score</th>\n",
       "      <th>split4_train_score</th>\n",
       "      <th>mean_train_score</th>\n",
       "      <th>std_train_score</th>\n",
       "    </tr>\n",
       "  </thead>\n",
       "  <tbody>\n",
       "    <tr>\n",
       "      <th>0</th>\n",
       "      <td>0.004588</td>\n",
       "      <td>0.000250</td>\n",
       "      <td>0.001242</td>\n",
       "      <td>0.000211</td>\n",
       "      <td>0.001</td>\n",
       "      <td>{'C': 0.001}</td>\n",
       "      <td>0.983871</td>\n",
       "      <td>0.989247</td>\n",
       "      <td>0.978495</td>\n",
       "      <td>0.978495</td>\n",
       "      <td>...</td>\n",
       "      <td>0.983859</td>\n",
       "      <td>0.004796</td>\n",
       "      <td>1</td>\n",
       "      <td>0.986541</td>\n",
       "      <td>0.983849</td>\n",
       "      <td>0.983849</td>\n",
       "      <td>0.985195</td>\n",
       "      <td>0.982527</td>\n",
       "      <td>0.984392</td>\n",
       "      <td>0.001366</td>\n",
       "    </tr>\n",
       "    <tr>\n",
       "      <th>1</th>\n",
       "      <td>0.006146</td>\n",
       "      <td>0.000523</td>\n",
       "      <td>0.001608</td>\n",
       "      <td>0.000348</td>\n",
       "      <td>0.01</td>\n",
       "      <td>{'C': 0.01}</td>\n",
       "      <td>0.849462</td>\n",
       "      <td>0.865591</td>\n",
       "      <td>0.811828</td>\n",
       "      <td>0.801075</td>\n",
       "      <td>...</td>\n",
       "      <td>0.829916</td>\n",
       "      <td>0.024011</td>\n",
       "      <td>2</td>\n",
       "      <td>0.851952</td>\n",
       "      <td>0.846568</td>\n",
       "      <td>0.854643</td>\n",
       "      <td>0.857335</td>\n",
       "      <td>0.842742</td>\n",
       "      <td>0.850648</td>\n",
       "      <td>0.005320</td>\n",
       "    </tr>\n",
       "    <tr>\n",
       "      <th>2</th>\n",
       "      <td>0.007960</td>\n",
       "      <td>0.000614</td>\n",
       "      <td>0.001734</td>\n",
       "      <td>0.000358</td>\n",
       "      <td>0.1</td>\n",
       "      <td>{'C': 0.1}</td>\n",
       "      <td>0.801075</td>\n",
       "      <td>0.795699</td>\n",
       "      <td>0.709677</td>\n",
       "      <td>0.736559</td>\n",
       "      <td>...</td>\n",
       "      <td>0.763197</td>\n",
       "      <td>0.035102</td>\n",
       "      <td>3</td>\n",
       "      <td>0.780619</td>\n",
       "      <td>0.787349</td>\n",
       "      <td>0.794078</td>\n",
       "      <td>0.795424</td>\n",
       "      <td>0.784946</td>\n",
       "      <td>0.788483</td>\n",
       "      <td>0.005570</td>\n",
       "    </tr>\n",
       "    <tr>\n",
       "      <th>3</th>\n",
       "      <td>0.010324</td>\n",
       "      <td>0.000510</td>\n",
       "      <td>0.001812</td>\n",
       "      <td>0.000176</td>\n",
       "      <td>1</td>\n",
       "      <td>{'C': 1}</td>\n",
       "      <td>0.784946</td>\n",
       "      <td>0.763441</td>\n",
       "      <td>0.672043</td>\n",
       "      <td>0.688172</td>\n",
       "      <td>...</td>\n",
       "      <td>0.734153</td>\n",
       "      <td>0.045153</td>\n",
       "      <td>4</td>\n",
       "      <td>0.763122</td>\n",
       "      <td>0.775236</td>\n",
       "      <td>0.771198</td>\n",
       "      <td>0.790040</td>\n",
       "      <td>0.774194</td>\n",
       "      <td>0.774758</td>\n",
       "      <td>0.008743</td>\n",
       "    </tr>\n",
       "    <tr>\n",
       "      <th>4</th>\n",
       "      <td>0.012545</td>\n",
       "      <td>0.000670</td>\n",
       "      <td>0.002340</td>\n",
       "      <td>0.000518</td>\n",
       "      <td>10</td>\n",
       "      <td>{'C': 10}</td>\n",
       "      <td>0.768817</td>\n",
       "      <td>0.752688</td>\n",
       "      <td>0.672043</td>\n",
       "      <td>0.688172</td>\n",
       "      <td>...</td>\n",
       "      <td>0.726614</td>\n",
       "      <td>0.038804</td>\n",
       "      <td>5</td>\n",
       "      <td>0.760431</td>\n",
       "      <td>0.769852</td>\n",
       "      <td>0.772544</td>\n",
       "      <td>0.787349</td>\n",
       "      <td>0.767473</td>\n",
       "      <td>0.771530</td>\n",
       "      <td>0.008874</td>\n",
       "    </tr>\n",
       "  </tbody>\n",
       "</table>\n",
       "<p>5 rows × 21 columns</p>\n",
       "</div>"
      ],
      "text/plain": [
       "   mean_fit_time  std_fit_time  mean_score_time  std_score_time param_C  \\\n",
       "0       0.004588      0.000250         0.001242        0.000211   0.001   \n",
       "1       0.006146      0.000523         0.001608        0.000348    0.01   \n",
       "2       0.007960      0.000614         0.001734        0.000358     0.1   \n",
       "3       0.010324      0.000510         0.001812        0.000176       1   \n",
       "4       0.012545      0.000670         0.002340        0.000518      10   \n",
       "\n",
       "         params  split0_test_score  split1_test_score  split2_test_score  \\\n",
       "0  {'C': 0.001}           0.983871           0.989247           0.978495   \n",
       "1   {'C': 0.01}           0.849462           0.865591           0.811828   \n",
       "2    {'C': 0.1}           0.801075           0.795699           0.709677   \n",
       "3      {'C': 1}           0.784946           0.763441           0.672043   \n",
       "4     {'C': 10}           0.768817           0.752688           0.672043   \n",
       "\n",
       "   split3_test_score  ...  mean_test_score  std_test_score  rank_test_score  \\\n",
       "0           0.978495  ...         0.983859        0.004796                1   \n",
       "1           0.801075  ...         0.829916        0.024011                2   \n",
       "2           0.736559  ...         0.763197        0.035102                3   \n",
       "3           0.688172  ...         0.734153        0.045153                4   \n",
       "4           0.688172  ...         0.726614        0.038804                5   \n",
       "\n",
       "   split0_train_score  split1_train_score  split2_train_score  \\\n",
       "0            0.986541            0.983849            0.983849   \n",
       "1            0.851952            0.846568            0.854643   \n",
       "2            0.780619            0.787349            0.794078   \n",
       "3            0.763122            0.775236            0.771198   \n",
       "4            0.760431            0.769852            0.772544   \n",
       "\n",
       "   split3_train_score  split4_train_score  mean_train_score  std_train_score  \n",
       "0            0.985195            0.982527          0.984392         0.001366  \n",
       "1            0.857335            0.842742          0.850648         0.005320  \n",
       "2            0.795424            0.784946          0.788483         0.005570  \n",
       "3            0.790040            0.774194          0.774758         0.008743  \n",
       "4            0.787349            0.767473          0.771530         0.008874  \n",
       "\n",
       "[5 rows x 21 columns]"
      ]
     },
     "metadata": {},
     "output_type": "display_data"
    }
   ],
   "source": [
    "results_log = pd.DataFrame(clf_log.cv_results_)\n",
    "display(results_log.head())"
   ]
  },
  {
   "cell_type": "code",
   "execution_count": 1497,
   "metadata": {},
   "outputs": [
    {
     "data": {
      "text/plain": [
       "<matplotlib.legend.Legend at 0x7fc86bd1b8e0>"
      ]
     },
     "execution_count": 1497,
     "metadata": {},
     "output_type": "execute_result"
    },
    {
     "data": {
      "image/png": "[encoded data removed]",
      "text/plain": [
       "<Figure size 1440x360 with 1 Axes>"
      ]
     },
     "metadata": {
      "needs_background": "light"
     },
     "output_type": "display_data"
    }
   ],
   "source": [
    "%matplotlib inline\n",
    "\n",
    "plt.subplots(figsize = (20,5))\n",
    "plt.plot(np.array(results_log.mean_train_score), label = 'Train Score', c = 'g')\n",
    "plt.plot(np.array(results_log.mean_test_score), label = 'Test Score', c='b')\n",
    "plt.xscale('log')\n",
    "plt.xlabel('C')\n",
    "plt.ylabel('Recall Score')\n",
    "plt.grid()\n",
    "plt.legend()"
   ]
  },
  {
   "cell_type": "code",
   "execution_count": 1470,
   "metadata": {},
   "outputs": [
    {
     "name": "stdout",
     "output_type": "stream",
     "text": [
      "Train score: 0.9774\n",
      "Test score: 0.9750\n"
     ]
    }
   ],
   "source": [
    "print('Train score: {:.4f}'.format(clf_log.score(x_train, y_train)))\n",
    "print('Test score: {:.4f}'.format(clf_log.score(x_test, y_test)))"
   ]
  },
  {
   "cell_type": "code",
   "execution_count": 1472,
   "metadata": {},
   "outputs": [
    {
     "name": "stdout",
     "output_type": "stream",
     "text": [
      "Confusion matrix:\n",
      "[[ 23 291]\n",
      " [ 10 390]]\n"
     ]
    }
   ],
   "source": [
    "## predicting with best parameters\n",
    "clf_log = LogisticRegression(penalty='l2', C=clf.best_params_['C'], \n",
    "                            n_jobs = -1, solver='liblinear').fit(x_train, y_train)\n",
    "\n",
    "## output prediction\n",
    "pred_log = clf_log.predict(x_test)\n",
    "\n",
    "confusion_log = confusion_matrix(y_test, pred_log)\n",
    "print(\"Confusion matrix:\\n{}\".format(confusion_log))"
   ]
  },
  {
   "cell_type": "code",
   "execution_count": 1473,
   "metadata": {},
   "outputs": [
    {
     "name": "stdout",
     "output_type": "stream",
     "text": [
      "              precision    recall  f1-score   support\n",
      "\n",
      "           0       0.70      0.07      0.13       314\n",
      "           1       0.57      0.97      0.72       400\n",
      "\n",
      "    accuracy                           0.58       714\n",
      "   macro avg       0.63      0.52      0.43       714\n",
      "weighted avg       0.63      0.58      0.46       714\n",
      "\n"
     ]
    }
   ],
   "source": [
    "print(classification_report(y_test, pred_log))"
   ]
  },
  {
   "cell_type": "code",
   "execution_count": 1476,
   "metadata": {},
   "outputs": [
    {
     "data": {
      "text/plain": [
       "<matplotlib.legend.Legend at 0x7fc86c2a8100>"
      ]
     },
     "execution_count": 1476,
     "metadata": {},
     "output_type": "execute_result"
    },
    {
     "data": {
      "image/png": "[encoded data removed]",
      "text/plain": [
       "<Figure size 432x288 with 1 Axes>"
      ]
     },
     "metadata": {
      "needs_background": "light"
     },
     "output_type": "display_data"
    }
   ],
   "source": [
    "%matplotlib inline\n",
    "\n",
    "from sklearn.metrics import precision_recall_curve\n",
    "precision_log, recall_log, thresholds_log = precision_recall_curve(y_test, clf_log.predict_proba(x_test)[:, 1])\n",
    "\n",
    "# find threshold closest to zero\n",
    "close_zero = np.argmin(np.abs(thresholds_log))\n",
    "\n",
    "plt.plot(precision_log[close_zero], recall_log[close_zero], 'o', markersize=10,\n",
    "         label=\"threshold zero\", fillstyle=\"none\", c='k', mew=2)\n",
    "\n",
    "plt.plot(precision_log, recall_log, label=\"Precision Recall Curve\")\n",
    "\n",
    "plt.xlabel(\"Precision\")\n",
    "plt.ylabel(\"Recall\")\n",
    "plt.legend(loc=\"best\")"
   ]
  },
  {
   "cell_type": "markdown",
   "metadata": {},
   "source": [
    "### K Neighbors Classifier"
   ]
  },
  {
   "cell_type": "code",
   "execution_count": 1485,
   "metadata": {},
   "outputs": [
    {
     "name": "stdout",
     "output_type": "stream",
     "text": [
      "Fitting 5 folds for each of 7 candidates, totalling 35 fits\n"
     ]
    },
    {
     "name": "stderr",
     "output_type": "stream",
     "text": [
      "[Parallel(n_jobs=-1)]: Using backend LokyBackend with 8 concurrent workers.\n",
      "[Parallel(n_jobs=-1)]: Done   2 tasks      | elapsed:    0.5s\n",
      "[Parallel(n_jobs=-1)]: Done  28 out of  35 | elapsed:    3.2s remaining:    0.8s\n"
     ]
    },
    {
     "name": "stdout",
     "output_type": "stream",
     "text": [
      "Best cross-validation score: 0.75\n",
      "Best parameters:  {'n_neighbors': 13}\n"
     ]
    },
    {
     "name": "stderr",
     "output_type": "stream",
     "text": [
      "[Parallel(n_jobs=-1)]: Done  35 out of  35 | elapsed:    3.6s finished\n"
     ]
    }
   ],
   "source": [
    "## initializing model\n",
    "clf_k = KNeighborsClassifier(weights = \"uniform\")\n",
    "\n",
    "## initializing parameters\n",
    "params_ = {\"n_neighbors\" : [i for i in range(1,15,2)]}\n",
    "\n",
    "## grid search cv with roc_auc\n",
    "clf_knn = GridSearchCV(clf_k, params_, \n",
    "                   cv=5, scoring='recall', \n",
    "                   return_train_score=True, \n",
    "                   verbose=5,\n",
    "                   n_jobs=-1).fit(x_train, y_train)\n",
    "\n",
    "print(\"Best cross-validation score: {:.2f}\".format(clf_knn.best_score_))\n",
    "print(\"Best parameters: \", clf_knn.best_params_)"
   ]
  },
  {
   "cell_type": "code",
   "execution_count": 1486,
   "metadata": {},
   "outputs": [
    {
     "data": {
      "text/html": [
       "<div>\n",
       "<style scoped>\n",
       "    .dataframe tbody tr th:only-of-type {\n",
       "        vertical-align: middle;\n",
       "    }\n",
       "\n",
       "    .dataframe tbody tr th {\n",
       "        vertical-align: top;\n",
       "    }\n",
       "\n",
       "    .dataframe thead th {\n",
       "        text-align: right;\n",
       "    }\n",
       "</style>\n",
       "<table border=\"1\" class=\"dataframe\">\n",
       "  <thead>\n",
       "    <tr style=\"text-align: right;\">\n",
       "      <th></th>\n",
       "      <th>mean_fit_time</th>\n",
       "      <th>std_fit_time</th>\n",
       "      <th>mean_score_time</th>\n",
       "      <th>std_score_time</th>\n",
       "      <th>param_n_neighbors</th>\n",
       "      <th>params</th>\n",
       "      <th>split0_test_score</th>\n",
       "      <th>split1_test_score</th>\n",
       "      <th>split2_test_score</th>\n",
       "      <th>split3_test_score</th>\n",
       "      <th>...</th>\n",
       "      <th>mean_test_score</th>\n",
       "      <th>std_test_score</th>\n",
       "      <th>rank_test_score</th>\n",
       "      <th>split0_train_score</th>\n",
       "      <th>split1_train_score</th>\n",
       "      <th>split2_train_score</th>\n",
       "      <th>split3_train_score</th>\n",
       "      <th>split4_train_score</th>\n",
       "      <th>mean_train_score</th>\n",
       "      <th>std_train_score</th>\n",
       "    </tr>\n",
       "  </thead>\n",
       "  <tbody>\n",
       "    <tr>\n",
       "      <th>0</th>\n",
       "      <td>0.006718</td>\n",
       "      <td>0.000682</td>\n",
       "      <td>0.126291</td>\n",
       "      <td>0.023402</td>\n",
       "      <td>1</td>\n",
       "      <td>{'n_neighbors': 1}</td>\n",
       "      <td>0.634409</td>\n",
       "      <td>0.682796</td>\n",
       "      <td>0.569892</td>\n",
       "      <td>0.693548</td>\n",
       "      <td>...</td>\n",
       "      <td>0.642616</td>\n",
       "      <td>0.043973</td>\n",
       "      <td>7</td>\n",
       "      <td>1.000000</td>\n",
       "      <td>1.000000</td>\n",
       "      <td>1.000000</td>\n",
       "      <td>1.000000</td>\n",
       "      <td>1.000000</td>\n",
       "      <td>1.000000</td>\n",
       "      <td>0.000000</td>\n",
       "    </tr>\n",
       "    <tr>\n",
       "      <th>1</th>\n",
       "      <td>0.010342</td>\n",
       "      <td>0.002016</td>\n",
       "      <td>0.167078</td>\n",
       "      <td>0.003548</td>\n",
       "      <td>3</td>\n",
       "      <td>{'n_neighbors': 3}</td>\n",
       "      <td>0.688172</td>\n",
       "      <td>0.693548</td>\n",
       "      <td>0.639785</td>\n",
       "      <td>0.682796</td>\n",
       "      <td>...</td>\n",
       "      <td>0.677076</td>\n",
       "      <td>0.019151</td>\n",
       "      <td>6</td>\n",
       "      <td>0.847914</td>\n",
       "      <td>0.843876</td>\n",
       "      <td>0.842530</td>\n",
       "      <td>0.827725</td>\n",
       "      <td>0.831989</td>\n",
       "      <td>0.838807</td>\n",
       "      <td>0.007639</td>\n",
       "    </tr>\n",
       "    <tr>\n",
       "      <th>2</th>\n",
       "      <td>0.012773</td>\n",
       "      <td>0.002996</td>\n",
       "      <td>0.208020</td>\n",
       "      <td>0.008713</td>\n",
       "      <td>5</td>\n",
       "      <td>{'n_neighbors': 5}</td>\n",
       "      <td>0.698925</td>\n",
       "      <td>0.725806</td>\n",
       "      <td>0.661290</td>\n",
       "      <td>0.672043</td>\n",
       "      <td>...</td>\n",
       "      <td>0.698640</td>\n",
       "      <td>0.028887</td>\n",
       "      <td>5</td>\n",
       "      <td>0.834455</td>\n",
       "      <td>0.804845</td>\n",
       "      <td>0.816958</td>\n",
       "      <td>0.820996</td>\n",
       "      <td>0.818548</td>\n",
       "      <td>0.819161</td>\n",
       "      <td>0.009460</td>\n",
       "    </tr>\n",
       "    <tr>\n",
       "      <th>3</th>\n",
       "      <td>0.011959</td>\n",
       "      <td>0.002577</td>\n",
       "      <td>0.169134</td>\n",
       "      <td>0.018175</td>\n",
       "      <td>7</td>\n",
       "      <td>{'n_neighbors': 7}</td>\n",
       "      <td>0.725806</td>\n",
       "      <td>0.758065</td>\n",
       "      <td>0.672043</td>\n",
       "      <td>0.709677</td>\n",
       "      <td>...</td>\n",
       "      <td>0.724470</td>\n",
       "      <td>0.032063</td>\n",
       "      <td>4</td>\n",
       "      <td>0.819650</td>\n",
       "      <td>0.815612</td>\n",
       "      <td>0.815612</td>\n",
       "      <td>0.814266</td>\n",
       "      <td>0.821237</td>\n",
       "      <td>0.817276</td>\n",
       "      <td>0.002680</td>\n",
       "    </tr>\n",
       "    <tr>\n",
       "      <th>4</th>\n",
       "      <td>0.009885</td>\n",
       "      <td>0.001629</td>\n",
       "      <td>0.172042</td>\n",
       "      <td>0.009943</td>\n",
       "      <td>9</td>\n",
       "      <td>{'n_neighbors': 9}</td>\n",
       "      <td>0.752688</td>\n",
       "      <td>0.784946</td>\n",
       "      <td>0.661290</td>\n",
       "      <td>0.715054</td>\n",
       "      <td>...</td>\n",
       "      <td>0.733066</td>\n",
       "      <td>0.042160</td>\n",
       "      <td>2</td>\n",
       "      <td>0.812921</td>\n",
       "      <td>0.810229</td>\n",
       "      <td>0.812921</td>\n",
       "      <td>0.818304</td>\n",
       "      <td>0.810484</td>\n",
       "      <td>0.812972</td>\n",
       "      <td>0.002904</td>\n",
       "    </tr>\n",
       "  </tbody>\n",
       "</table>\n",
       "<p>5 rows × 21 columns</p>\n",
       "</div>"
      ],
      "text/plain": [
       "   mean_fit_time  std_fit_time  mean_score_time  std_score_time  \\\n",
       "0       0.006718      0.000682         0.126291        0.023402   \n",
       "1       0.010342      0.002016         0.167078        0.003548   \n",
       "2       0.012773      0.002996         0.208020        0.008713   \n",
       "3       0.011959      0.002577         0.169134        0.018175   \n",
       "4       0.009885      0.001629         0.172042        0.009943   \n",
       "\n",
       "  param_n_neighbors              params  split0_test_score  split1_test_score  \\\n",
       "0                 1  {'n_neighbors': 1}           0.634409           0.682796   \n",
       "1                 3  {'n_neighbors': 3}           0.688172           0.693548   \n",
       "2                 5  {'n_neighbors': 5}           0.698925           0.725806   \n",
       "3                 7  {'n_neighbors': 7}           0.725806           0.758065   \n",
       "4                 9  {'n_neighbors': 9}           0.752688           0.784946   \n",
       "\n",
       "   split2_test_score  split3_test_score  ...  mean_test_score  std_test_score  \\\n",
       "0           0.569892           0.693548  ...         0.642616        0.043973   \n",
       "1           0.639785           0.682796  ...         0.677076        0.019151   \n",
       "2           0.661290           0.672043  ...         0.698640        0.028887   \n",
       "3           0.672043           0.709677  ...         0.724470        0.032063   \n",
       "4           0.661290           0.715054  ...         0.733066        0.042160   \n",
       "\n",
       "   rank_test_score  split0_train_score  split1_train_score  \\\n",
       "0                7            1.000000            1.000000   \n",
       "1                6            0.847914            0.843876   \n",
       "2                5            0.834455            0.804845   \n",
       "3                4            0.819650            0.815612   \n",
       "4                2            0.812921            0.810229   \n",
       "\n",
       "   split2_train_score  split3_train_score  split4_train_score  \\\n",
       "0            1.000000            1.000000            1.000000   \n",
       "1            0.842530            0.827725            0.831989   \n",
       "2            0.816958            0.820996            0.818548   \n",
       "3            0.815612            0.814266            0.821237   \n",
       "4            0.812921            0.818304            0.810484   \n",
       "\n",
       "   mean_train_score  std_train_score  \n",
       "0          1.000000         0.000000  \n",
       "1          0.838807         0.007639  \n",
       "2          0.819161         0.009460  \n",
       "3          0.817276         0.002680  \n",
       "4          0.812972         0.002904  \n",
       "\n",
       "[5 rows x 21 columns]"
      ]
     },
     "metadata": {},
     "output_type": "display_data"
    }
   ],
   "source": [
    "results_knn = pd.DataFrame(clf_knn.cv_results_)\n",
    "display(results_knn.head())"
   ]
  },
  {
   "cell_type": "code",
   "execution_count": 1487,
   "metadata": {},
   "outputs": [
    {
     "data": {
      "text/plain": [
       "<matplotlib.legend.Legend at 0x7fc86c172fa0>"
      ]
     },
     "execution_count": 1487,
     "metadata": {},
     "output_type": "execute_result"
    },
    {
     "data": {
      "image/png": "[encoded data removed]",
      "text/plain": [
       "<Figure size 1440x360 with 1 Axes>"
      ]
     },
     "metadata": {
      "needs_background": "light"
     },
     "output_type": "display_data"
    }
   ],
   "source": [
    "%matplotlib inline\n",
    "\n",
    "plt.subplots(figsize = (20,5))\n",
    "plt.plot(np.array(results_knn.mean_train_score), label = 'Train Score', c = 'g')\n",
    "plt.plot(np.array(results_knn.mean_test_score), label = 'Test Score', c='b')\n",
    "plt.xlabel('n_neighbors')\n",
    "plt.ylabel('Recall Score')\n",
    "plt.grid()\n",
    "plt.legend()"
   ]
  },
  {
   "cell_type": "code",
   "execution_count": 1488,
   "metadata": {},
   "outputs": [
    {
     "name": "stdout",
     "output_type": "stream",
     "text": [
      "Train score: 0.8009\n",
      "Test score: 0.7350\n"
     ]
    }
   ],
   "source": [
    "print('Train score: {:.4f}'.format(clf_knn.score(x_train, y_train)))\n",
    "print('Test score: {:.4f}'.format(clf_knn.score(x_test, y_test)))"
   ]
  },
  {
   "cell_type": "code",
   "execution_count": 1489,
   "metadata": {},
   "outputs": [
    {
     "name": "stdout",
     "output_type": "stream",
     "text": [
      "Confusion matrix:\n",
      "[[ 23 291]\n",
      " [ 10 390]]\n"
     ]
    }
   ],
   "source": [
    "## predicting with best parameters\n",
    "clf_knn = KNeighborsClassifier(weights = \"uniform\", n_neighbors = clf_knn.best_params_['n_neighbors']).fit(x_train, y_train)\n",
    "\n",
    "## output prediction\n",
    "pred_knn = clf_knn.predict(x_test)\n",
    "\n",
    "confusion_knn = confusion_matrix(y_test, pred_log)\n",
    "print(\"Confusion matrix:\\n{}\".format(confusion_knn))"
   ]
  },
  {
   "cell_type": "code",
   "execution_count": 1490,
   "metadata": {},
   "outputs": [
    {
     "name": "stdout",
     "output_type": "stream",
     "text": [
      "              precision    recall  f1-score   support\n",
      "\n",
      "           0       0.59      0.48      0.53       314\n",
      "           1       0.64      0.73      0.69       400\n",
      "\n",
      "    accuracy                           0.62       714\n",
      "   macro avg       0.62      0.61      0.61       714\n",
      "weighted avg       0.62      0.62      0.62       714\n",
      "\n"
     ]
    }
   ],
   "source": [
    "print(classification_report(y_test, pred_knn))"
   ]
  },
  {
   "cell_type": "code",
   "execution_count": 1493,
   "metadata": {},
   "outputs": [
    {
     "data": {
      "text/plain": [
       "<matplotlib.legend.Legend at 0x7fc86c15cc10>"
      ]
     },
     "execution_count": 1493,
     "metadata": {},
     "output_type": "execute_result"
    },
    {
     "data": {
      "image/png": "[encoded data removed]",
      "text/plain": [
       "<Figure size 432x288 with 1 Axes>"
      ]
     },
     "metadata": {
      "needs_background": "light"
     },
     "output_type": "display_data"
    }
   ],
   "source": [
    "%matplotlib inline\n",
    "\n",
    "from sklearn.metrics import precision_recall_curve\n",
    "precision_knn, recall_knn, thresholds_knn = precision_recall_curve(y_test, clf_knn.predict_proba(x_test)[:, 1])\n",
    "\n",
    "# find threshold closest to zero\n",
    "close_zero = np.argmin(np.abs(thresholds_knn))\n",
    "\n",
    "plt.plot(precision_knn[close_zero], recall_knn[close_zero], 'o', markersize=10,\n",
    "         label=\"threshold zero\", fillstyle=\"none\", c='k', mew=2)\n",
    "\n",
    "plt.plot(precision_knn, recall_knn, label=\"Precision Recall Curve\")\n",
    "\n",
    "plt.xlabel(\"Precision\")\n",
    "plt.ylabel(\"Recall\")\n",
    "plt.legend(loc=\"best\")"
   ]
  },
  {
   "cell_type": "markdown",
   "metadata": {},
   "source": [
    "### SVC (Kernel ='rbf')"
   ]
  },
  {
   "cell_type": "code",
   "execution_count": 1494,
   "metadata": {},
   "outputs": [
    {
     "name": "stdout",
     "output_type": "stream",
     "text": [
      "Fitting 3 folds for each of 16 candidates, totalling 48 fits\n"
     ]
    },
    {
     "name": "stderr",
     "output_type": "stream",
     "text": [
      "[Parallel(n_jobs=-1)]: Using backend LokyBackend with 8 concurrent workers.\n",
      "[Parallel(n_jobs=-1)]: Done   2 tasks      | elapsed:    4.1s\n",
      "[Parallel(n_jobs=-1)]: Done  43 out of  48 | elapsed:   12.9s remaining:    1.5s\n",
      "[Parallel(n_jobs=-1)]: Done  48 out of  48 | elapsed:   13.5s finished\n"
     ]
    },
    {
     "name": "stdout",
     "output_type": "stream",
     "text": [
      "Best cross-validation score: 0.98\n",
      "Best parameters:  {'C': 0.001}\n"
     ]
    }
   ],
   "source": [
    "## initializing model\n",
    "clf_rbf = SVC(kernel='rbf', cache_size=7000,  probability=True)\n",
    "\n",
    "## initializing parameters\n",
    "param_svcrbf  = {\"C\"     : [10 ** x for x in range(-2,2)],\n",
    "                 \"gamma\" : [10 ** x for x in range(-2,2)]}\n",
    "\n",
    "# hyper parameter tuning\n",
    "clf_svcrbf = GridSearchCV(clf_rbf, param_svcrbf, \n",
    "                   cv=3, scoring='roc_auc', \n",
    "                   return_train_score=True, \n",
    "                   verbose=5,\n",
    "                   n_jobs=-1).fit(x_train, y_train)\n",
    "\n",
    "print(\"Best cross-validation score: {:.2f}\".format(clf.best_score_))\n",
    "print(\"Best parameters: \", clf.best_params_)"
   ]
  },
  {
   "cell_type": "code",
   "execution_count": 1495,
   "metadata": {},
   "outputs": [
    {
     "data": {
      "text/html": [
       "<div>\n",
       "<style scoped>\n",
       "    .dataframe tbody tr th:only-of-type {\n",
       "        vertical-align: middle;\n",
       "    }\n",
       "\n",
       "    .dataframe tbody tr th {\n",
       "        vertical-align: top;\n",
       "    }\n",
       "\n",
       "    .dataframe thead th {\n",
       "        text-align: right;\n",
       "    }\n",
       "</style>\n",
       "<table border=\"1\" class=\"dataframe\">\n",
       "  <thead>\n",
       "    <tr style=\"text-align: right;\">\n",
       "      <th></th>\n",
       "      <th>mean_fit_time</th>\n",
       "      <th>std_fit_time</th>\n",
       "      <th>mean_score_time</th>\n",
       "      <th>std_score_time</th>\n",
       "      <th>param_C</th>\n",
       "      <th>param_gamma</th>\n",
       "      <th>params</th>\n",
       "      <th>split0_test_score</th>\n",
       "      <th>split1_test_score</th>\n",
       "      <th>split2_test_score</th>\n",
       "      <th>mean_test_score</th>\n",
       "      <th>std_test_score</th>\n",
       "      <th>rank_test_score</th>\n",
       "      <th>split0_train_score</th>\n",
       "      <th>split1_train_score</th>\n",
       "      <th>split2_train_score</th>\n",
       "      <th>mean_train_score</th>\n",
       "      <th>std_train_score</th>\n",
       "    </tr>\n",
       "  </thead>\n",
       "  <tbody>\n",
       "    <tr>\n",
       "      <th>0</th>\n",
       "      <td>1.421824</td>\n",
       "      <td>0.003861</td>\n",
       "      <td>0.094010</td>\n",
       "      <td>0.000506</td>\n",
       "      <td>0.01</td>\n",
       "      <td>0.01</td>\n",
       "      <td>{'C': 0.01, 'gamma': 0.01}</td>\n",
       "      <td>0.725859</td>\n",
       "      <td>0.701501</td>\n",
       "      <td>0.659296</td>\n",
       "      <td>0.695552</td>\n",
       "      <td>0.027498</td>\n",
       "      <td>8</td>\n",
       "      <td>0.748554</td>\n",
       "      <td>0.743886</td>\n",
       "      <td>0.761445</td>\n",
       "      <td>0.751295</td>\n",
       "      <td>7.425877e-03</td>\n",
       "    </tr>\n",
       "    <tr>\n",
       "      <th>1</th>\n",
       "      <td>1.463392</td>\n",
       "      <td>0.014469</td>\n",
       "      <td>0.102351</td>\n",
       "      <td>0.001742</td>\n",
       "      <td>0.01</td>\n",
       "      <td>0.1</td>\n",
       "      <td>{'C': 0.01, 'gamma': 0.1}</td>\n",
       "      <td>0.743173</td>\n",
       "      <td>0.726109</td>\n",
       "      <td>0.673192</td>\n",
       "      <td>0.714158</td>\n",
       "      <td>0.029793</td>\n",
       "      <td>4</td>\n",
       "      <td>0.901909</td>\n",
       "      <td>0.884531</td>\n",
       "      <td>0.895569</td>\n",
       "      <td>0.894003</td>\n",
       "      <td>7.180588e-03</td>\n",
       "    </tr>\n",
       "    <tr>\n",
       "      <th>2</th>\n",
       "      <td>1.593682</td>\n",
       "      <td>0.026649</td>\n",
       "      <td>0.111036</td>\n",
       "      <td>0.004893</td>\n",
       "      <td>0.01</td>\n",
       "      <td>1</td>\n",
       "      <td>{'C': 0.01, 'gamma': 1}</td>\n",
       "      <td>0.611692</td>\n",
       "      <td>0.632074</td>\n",
       "      <td>0.611466</td>\n",
       "      <td>0.618410</td>\n",
       "      <td>0.009662</td>\n",
       "      <td>9</td>\n",
       "      <td>1.000000</td>\n",
       "      <td>1.000000</td>\n",
       "      <td>1.000000</td>\n",
       "      <td>1.000000</td>\n",
       "      <td>0.000000e+00</td>\n",
       "    </tr>\n",
       "    <tr>\n",
       "      <th>3</th>\n",
       "      <td>1.629196</td>\n",
       "      <td>0.009939</td>\n",
       "      <td>0.105709</td>\n",
       "      <td>0.001593</td>\n",
       "      <td>0.01</td>\n",
       "      <td>10</td>\n",
       "      <td>{'C': 0.01, 'gamma': 10}</td>\n",
       "      <td>0.524147</td>\n",
       "      <td>0.519217</td>\n",
       "      <td>0.524166</td>\n",
       "      <td>0.522510</td>\n",
       "      <td>0.002329</td>\n",
       "      <td>16</td>\n",
       "      <td>1.000000</td>\n",
       "      <td>1.000000</td>\n",
       "      <td>1.000000</td>\n",
       "      <td>1.000000</td>\n",
       "      <td>6.409876e-17</td>\n",
       "    </tr>\n",
       "    <tr>\n",
       "      <th>4</th>\n",
       "      <td>1.436096</td>\n",
       "      <td>0.034444</td>\n",
       "      <td>0.092406</td>\n",
       "      <td>0.001944</td>\n",
       "      <td>0.1</td>\n",
       "      <td>0.01</td>\n",
       "      <td>{'C': 0.1, 'gamma': 0.01}</td>\n",
       "      <td>0.725701</td>\n",
       "      <td>0.701672</td>\n",
       "      <td>0.659943</td>\n",
       "      <td>0.695772</td>\n",
       "      <td>0.027168</td>\n",
       "      <td>7</td>\n",
       "      <td>0.748297</td>\n",
       "      <td>0.744044</td>\n",
       "      <td>0.761968</td>\n",
       "      <td>0.751437</td>\n",
       "      <td>7.646894e-03</td>\n",
       "    </tr>\n",
       "  </tbody>\n",
       "</table>\n",
       "</div>"
      ],
      "text/plain": [
       "   mean_fit_time  std_fit_time  mean_score_time  std_score_time param_C  \\\n",
       "0       1.421824      0.003861         0.094010        0.000506    0.01   \n",
       "1       1.463392      0.014469         0.102351        0.001742    0.01   \n",
       "2       1.593682      0.026649         0.111036        0.004893    0.01   \n",
       "3       1.629196      0.009939         0.105709        0.001593    0.01   \n",
       "4       1.436096      0.034444         0.092406        0.001944     0.1   \n",
       "\n",
       "  param_gamma                      params  split0_test_score  \\\n",
       "0        0.01  {'C': 0.01, 'gamma': 0.01}           0.725859   \n",
       "1         0.1   {'C': 0.01, 'gamma': 0.1}           0.743173   \n",
       "2           1     {'C': 0.01, 'gamma': 1}           0.611692   \n",
       "3          10    {'C': 0.01, 'gamma': 10}           0.524147   \n",
       "4        0.01   {'C': 0.1, 'gamma': 0.01}           0.725701   \n",
       "\n",
       "   split1_test_score  split2_test_score  mean_test_score  std_test_score  \\\n",
       "0           0.701501           0.659296         0.695552        0.027498   \n",
       "1           0.726109           0.673192         0.714158        0.029793   \n",
       "2           0.632074           0.611466         0.618410        0.009662   \n",
       "3           0.519217           0.524166         0.522510        0.002329   \n",
       "4           0.701672           0.659943         0.695772        0.027168   \n",
       "\n",
       "   rank_test_score  split0_train_score  split1_train_score  \\\n",
       "0                8            0.748554            0.743886   \n",
       "1                4            0.901909            0.884531   \n",
       "2                9            1.000000            1.000000   \n",
       "3               16            1.000000            1.000000   \n",
       "4                7            0.748297            0.744044   \n",
       "\n",
       "   split2_train_score  mean_train_score  std_train_score  \n",
       "0            0.761445          0.751295     7.425877e-03  \n",
       "1            0.895569          0.894003     7.180588e-03  \n",
       "2            1.000000          1.000000     0.000000e+00  \n",
       "3            1.000000          1.000000     6.409876e-17  \n",
       "4            0.761968          0.751437     7.646894e-03  "
      ]
     },
     "metadata": {},
     "output_type": "display_data"
    }
   ],
   "source": [
    "results_svcrbf = pd.DataFrame(clf_svcrbf.cv_results_)\n",
    "display(results_svcrbf.head())"
   ]
  },
  {
   "cell_type": "code",
   "execution_count": 1498,
   "metadata": {},
   "outputs": [
    {
     "data": {
      "text/plain": [
       "<matplotlib.legend.Legend at 0x7fc86c2f0f10>"
      ]
     },
     "execution_count": 1498,
     "metadata": {},
     "output_type": "execute_result"
    },
    {
     "data": {
      "image/png": "[encoded data removed]",
      "text/plain": [
       "<Figure size 1440x360 with 1 Axes>"
      ]
     },
     "metadata": {
      "needs_background": "light"
     },
     "output_type": "display_data"
    }
   ],
   "source": [
    "%matplotlib inline\n",
    "\n",
    "plt.subplots(figsize = (20,5))\n",
    "plt.plot(np.array(results_svcrbf.mean_train_score), label = 'Train Score', c = 'g')\n",
    "plt.plot(np.array(results_svcrbf.mean_test_score), label = 'Test Score', c='b')\n",
    "plt.xscale('log')\n",
    "plt.xlabel('C')\n",
    "plt.ylabel('Recall Score')\n",
    "plt.grid()\n",
    "plt.legend()"
   ]
  },
  {
   "cell_type": "code",
   "execution_count": 1499,
   "metadata": {},
   "outputs": [
    {
     "name": "stdout",
     "output_type": "stream",
     "text": [
      "Train score: 0.9812\n",
      "Test score: 0.7571\n"
     ]
    }
   ],
   "source": [
    "print('Train score: {:.4f}'.format(clf_svcrbf.score(x_train, y_train)))\n",
    "print('Test score: {:.4f}'.format(clf_svcrbf.score(x_test, y_test)))"
   ]
  },
  {
   "cell_type": "code",
   "execution_count": 1501,
   "metadata": {},
   "outputs": [
    {
     "name": "stdout",
     "output_type": "stream",
     "text": [
      "Confusion matrix:\n",
      "[[187 127]\n",
      " [ 88 312]]\n"
     ]
    }
   ],
   "source": [
    "## predicting with best parameters\n",
    "clf_svcrbf = SVC(kernel='rbf', C=clf_svcrbf.best_params_['C'], gamma = clf_svcrbf.best_params_['gamma'],\n",
    "                 cache_size=7000,  probability=True).fit(x_train, y_train)\n",
    "\n",
    "## output prediction\n",
    "pred_svcrbf = clf_svcrbf.predict(x_test)\n",
    "\n",
    "confusion_rbf = confusion_matrix(y_test, pred_svcrbf)\n",
    "print(\"Confusion matrix:\\n{}\".format(confusion_rbf))"
   ]
  },
  {
   "cell_type": "code",
   "execution_count": 1502,
   "metadata": {},
   "outputs": [
    {
     "name": "stdout",
     "output_type": "stream",
     "text": [
      "              precision    recall  f1-score   support\n",
      "\n",
      "           0       0.68      0.60      0.63       314\n",
      "           1       0.71      0.78      0.74       400\n",
      "\n",
      "    accuracy                           0.70       714\n",
      "   macro avg       0.70      0.69      0.69       714\n",
      "weighted avg       0.70      0.70      0.70       714\n",
      "\n"
     ]
    }
   ],
   "source": [
    "print(classification_report(y_test, pred_svcrbf))"
   ]
  },
  {
   "cell_type": "code",
   "execution_count": 1504,
   "metadata": {},
   "outputs": [
    {
     "data": {
      "text/plain": [
       "<matplotlib.legend.Legend at 0x7fc86e74fa90>"
      ]
     },
     "execution_count": 1504,
     "metadata": {},
     "output_type": "execute_result"
    },
    {
     "data": {
      "image/png": "[encoded data removed]",
      "text/plain": [
       "<Figure size 432x288 with 1 Axes>"
      ]
     },
     "metadata": {
      "needs_background": "light"
     },
     "output_type": "display_data"
    }
   ],
   "source": [
    "%matplotlib inline\n",
    "\n",
    "from sklearn.metrics import precision_recall_curve\n",
    "precision_svcrbf, recall_svcrbf, thresholds_svcrbf = precision_recall_curve(y_test, clf_svcrbf.predict_proba(x_test)[:, 1])\n",
    "\n",
    "# find threshold closest to zero\n",
    "close_zero = np.argmin(np.abs(thresholds_svcrbf))\n",
    "\n",
    "plt.plot(precision_svcrbf[close_zero], recall_svcrbf[close_zero], 'o', markersize=10,\n",
    "         label=\"threshold zero\", fillstyle=\"none\", c='k', mew=2)\n",
    "\n",
    "plt.plot(precision_svcrbf, recall_svcrbf, label=\"Precision Recall Curve\")\n",
    "\n",
    "plt.xlabel(\"Precision\")\n",
    "plt.ylabel(\"Recall\")\n",
    "plt.legend(loc=\"best\")"
   ]
  },
  {
   "cell_type": "markdown",
   "metadata": {},
   "source": [
    "### SVC (kernel='poly')"
   ]
  },
  {
   "cell_type": "code",
   "execution_count": 1509,
   "metadata": {},
   "outputs": [
    {
     "name": "stdout",
     "output_type": "stream",
     "text": [
      "Fitting 3 folds for each of 6 candidates, totalling 18 fits\n"
     ]
    },
    {
     "name": "stderr",
     "output_type": "stream",
     "text": [
      "[Parallel(n_jobs=-1)]: Using backend LokyBackend with 8 concurrent workers.\n",
      "[Parallel(n_jobs=-1)]: Done   2 tasks      | elapsed:    3.8s\n",
      "[Parallel(n_jobs=-1)]: Done   7 out of  18 | elapsed:    3.9s remaining:    6.1s\n",
      "[Parallel(n_jobs=-1)]: Done  11 out of  18 | elapsed:    5.4s remaining:    3.5s\n",
      "[Parallel(n_jobs=-1)]: Done  15 out of  18 | elapsed:    5.6s remaining:    1.1s\n",
      "[Parallel(n_jobs=-1)]: Done  18 out of  18 | elapsed:    6.4s finished\n"
     ]
    }
   ],
   "source": [
    "## initializing model\n",
    "clf_poly = SVC(kernel='poly', cache_size=7000,  probability=True)\n",
    "\n",
    "## initializing parameters\n",
    "param_svcpoly  = {\"C\" : [10 ** x for x in range(-3,3)]}\n",
    "\n",
    "# hyper parameter tuning\n",
    "clf_svcpoly = GridSearchCV(clf_poly, param_svcpoly, \n",
    "                   cv=3, scoring='recall', \n",
    "                   return_train_score=True, \n",
    "                   verbose=5,\n",
    "                   n_jobs=-1).fit(x_train, y_train)"
   ]
  },
  {
   "cell_type": "code",
   "execution_count": 1510,
   "metadata": {},
   "outputs": [
    {
     "name": "stdout",
     "output_type": "stream",
     "text": [
      "Best cross-validation score: 1.00\n",
      "Best parameters:  {'C': 0.001}\n"
     ]
    }
   ],
   "source": [
    "print(\"Best cross-validation score: {:.2f}\".format(clf_svcpoly.best_score_))\n",
    "print(\"Best parameters: \", clf_svcpoly.best_params_)"
   ]
  },
  {
   "cell_type": "code",
   "execution_count": 1511,
   "metadata": {},
   "outputs": [
    {
     "name": "stdout",
     "output_type": "stream",
     "text": [
      "Train score: 1.0000\n",
      "Test score: 1.0000\n"
     ]
    }
   ],
   "source": [
    "print('Train score: {:.4f}'.format(clf_svcpoly.score(x_train, y_train)))\n",
    "print('Test score: {:.4f}'.format(clf_svcpoly.score(x_test, y_test)))"
   ]
  },
  {
   "cell_type": "code",
   "execution_count": 1512,
   "metadata": {},
   "outputs": [
    {
     "name": "stdout",
     "output_type": "stream",
     "text": [
      "Confusion matrix:\n",
      "[[  0 314]\n",
      " [  0 400]]\n"
     ]
    }
   ],
   "source": [
    "## predicting with best parameters\n",
    "clf_svcpoly = SVC(kernel='poly', C=clf_svcpoly.best_params_['C'], cache_size=7000,  probability=True).fit(x_train, y_train)\n",
    "\n",
    "## output prediction\n",
    "pred_svcpoly = clf_svcpoly.predict(x_test)\n",
    "\n",
    "confusion_poly = confusion_matrix(y_test, pred_svcpoly)\n",
    "print(\"Confusion matrix:\\n{}\".format(confusion_poly))"
   ]
  },
  {
   "cell_type": "code",
   "execution_count": 1513,
   "metadata": {},
   "outputs": [
    {
     "name": "stdout",
     "output_type": "stream",
     "text": [
      "              precision    recall  f1-score   support\n",
      "\n",
      "           0       0.00      0.00      0.00       314\n",
      "           1       0.56      1.00      0.72       400\n",
      "\n",
      "    accuracy                           0.56       714\n",
      "   macro avg       0.28      0.50      0.36       714\n",
      "weighted avg       0.31      0.56      0.40       714\n",
      "\n"
     ]
    }
   ],
   "source": [
    "print(classification_report(y_test, pred_svcpoly))"
   ]
  },
  {
   "cell_type": "code",
   "execution_count": 1514,
   "metadata": {},
   "outputs": [
    {
     "data": {
      "text/plain": [
       "<matplotlib.legend.Legend at 0x7fc86ea210d0>"
      ]
     },
     "execution_count": 1514,
     "metadata": {},
     "output_type": "execute_result"
    },
    {
     "data": {
      "image/png": "[encoded data removed]",
      "text/plain": [
       "<Figure size 432x288 with 1 Axes>"
      ]
     },
     "metadata": {
      "needs_background": "light"
     },
     "output_type": "display_data"
    }
   ],
   "source": [
    "%matplotlib inline\n",
    "\n",
    "from sklearn.metrics import precision_recall_curve\n",
    "precision_poly, recall_poly, thresholds_poly = precision_recall_curve(y_test, clf_svcpoly.predict_proba(x_test)[:, 1])\n",
    "\n",
    "# find threshold closest to zero\n",
    "close_zero = np.argmin(np.abs(thresholds_poly))\n",
    "\n",
    "plt.plot(precision_poly[close_zero], recall_poly[close_zero], 'o', markersize=10,\n",
    "         label=\"threshold zero\", fillstyle=\"none\", c='k', mew=2)\n",
    "\n",
    "plt.plot(precision_poly, recall_poly, label=\"Precision Recall Curve\")\n",
    "\n",
    "plt.xlabel(\"Precision\")\n",
    "plt.ylabel(\"Recall\")\n",
    "plt.legend(loc=\"best\")"
   ]
  },
  {
   "cell_type": "code",
   "execution_count": null,
   "metadata": {},
   "outputs": [],
   "source": []
  },
  {
   "cell_type": "code",
   "execution_count": null,
   "metadata": {},
   "outputs": [],
   "source": []
  },
  {
   "cell_type": "markdown",
   "metadata": {},
   "source": [
    "# Best model ( 5 points)\n",
    "Explain which machine learning model is the best model for this dataset and why? "
   ]
  },
  {
   "cell_type": "code",
   "execution_count": null,
   "metadata": {},
   "outputs": [],
   "source": []
  },
  {
   "cell_type": "markdown",
   "metadata": {},
   "source": [
    "# Grading (50 points)\n",
    "Your model should predict the outcome for every row in the test.csv. \n",
    "You should be able to correctly print the ``final_test_prediction`` executing the following statement: "
   ]
  },
  {
   "cell_type": "code",
   "execution_count": null,
   "metadata": {},
   "outputs": [],
   "source": [
    "final_test_prediction"
   ]
  },
  {
   "cell_type": "code",
   "execution_count": null,
   "metadata": {},
   "outputs": [],
   "source": []
  }
 ],
 "metadata": {
  "kernelspec": {
   "display_name": "Python 3",
   "language": "python",
   "name": "python3"
  },
  "language_info": {
   "codemirror_mode": {
    "name": "ipython",
    "version": 3
   },
   "file_extension": ".py",
   "mimetype": "text/x-python",
   "name": "python",
   "nbconvert_exporter": "python",
   "pygments_lexer": "ipython3",
   "version": "3.8.5"
  }
 },
 "nbformat": 4,
 "nbformat_minor": 4
}
