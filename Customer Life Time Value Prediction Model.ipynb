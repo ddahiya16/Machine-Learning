{
 "cells": [
  {
   "cell_type": "code",
   "execution_count": null,
   "metadata": {},
   "outputs": [],
   "source": [
    "## Customer Life Time Value Predition"
   ]
  },
  {
   "cell_type": "code",
   "execution_count": 1,
   "metadata": {},
   "outputs": [],
   "source": [
    "## Libraries\n",
    "\n",
    "import pandas as pd"
   ]
  },
  {
   "cell_type": "code",
   "execution_count": 6,
   "metadata": {},
   "outputs": [],
   "source": [
    "# Loading the data from the csv\n",
    "df = pd.read_csv(\"CLV_Data.csv\")"
   ]
  },
  {
   "cell_type": "code",
   "execution_count": null,
   "metadata": {},
   "outputs": [],
   "source": [
    "# Total Number of Rows and columns\n",
    "print(\"Total Number of Columns: \", len(df.columns))\n",
    "print(\"Total Number of Columns: \", len(df.rows))"
   ]
  },
  {
   "cell_type": "code",
   "execution_count": 4,
   "metadata": {},
   "outputs": [
    {
     "data": {
      "text/plain": [
       "881"
      ]
     },
     "execution_count": 4,
     "metadata": {},
     "output_type": "execute_result"
    }
   ],
   "source": [
    "df.isnull().sum().sum()"
   ]
  },
  {
   "cell_type": "code",
   "execution_count": 5,
   "metadata": {},
   "outputs": [
    {
     "name": "stdout",
     "output_type": "stream",
     "text": [
      "<class 'pandas.core.frame.DataFrame'>\n",
      "RangeIndex: 9134 entries, 0 to 9133\n",
      "Data columns (total 24 columns):\n",
      " #   Column                         Non-Null Count  Dtype  \n",
      "---  ------                         --------------  -----  \n",
      " 0   Customer                       9134 non-null   object \n",
      " 1   State                          9134 non-null   object \n",
      " 2   Customer Lifetime Value        9087 non-null   float64\n",
      " 3   Response                       9087 non-null   object \n",
      " 4   Coverage                       9087 non-null   object \n",
      " 5   Education                      9049 non-null   object \n",
      " 6   Effective To Date              9077 non-null   object \n",
      " 7   EmploymentStatus               9063 non-null   object \n",
      " 8   Gender                         9068 non-null   object \n",
      " 9   Income                         9087 non-null   float64\n",
      " 10  Location Code                  9040 non-null   object \n",
      " 11  Marital Status                 9070 non-null   object \n",
      " 12  Monthly Premium Auto           9087 non-null   float64\n",
      " 13  Months Since Last Claim        9087 non-null   float64\n",
      " 14  Months Since Policy Inception  9087 non-null   float64\n",
      " 15  Number of Open Complaints      9087 non-null   float64\n",
      " 16  Number of Policies             9107 non-null   float64\n",
      " 17  Policy Type                    9112 non-null   object \n",
      " 18  Policy                         9115 non-null   object \n",
      " 19  Renew Offer Type               9134 non-null   object \n",
      " 20  Sales Channel                  9134 non-null   object \n",
      " 21  Total Claim Amount             9134 non-null   float64\n",
      " 22  Vehicle Class                  9134 non-null   object \n",
      " 23  Vehicle Size                   9134 non-null   object \n",
      "dtypes: float64(8), object(16)\n",
      "memory usage: 1.7+ MB\n"
     ]
    }
   ],
   "source": [
    "df.info()"
   ]
  }
 ],
 "metadata": {
  "kernelspec": {
   "display_name": "Python 3",
   "language": "python",
   "name": "python3"
  },
  "language_info": {
   "codemirror_mode": {
    "name": "ipython",
    "version": 3
   },
   "file_extension": ".py",
   "mimetype": "text/x-python",
   "name": "python",
   "nbconvert_exporter": "python",
   "pygments_lexer": "ipython3",
   "version": "3.8.5"
  }
 },
 "nbformat": 4,
 "nbformat_minor": 4
}
